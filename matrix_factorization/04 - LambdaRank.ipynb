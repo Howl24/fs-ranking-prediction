{
 "cells": [
  {
   "cell_type": "code",
   "execution_count": 1,
   "metadata": {},
   "outputs": [],
   "source": [
    "%load_ext autoreload\n",
    "%autoreload 2\n",
    "%matplotlib inline\n",
    "%config InlineBackend.figure_format = 'retina'\n",
    "\n",
    "import os\n",
    "import numpy as np, pandas as pd\n",
    "import matplotlib.pyplot as plt, seaborn as sns\n",
    "from tqdm import tqdm, tqdm_notebook\n",
    "from pathlib import Path\n",
    "# pd.set_option('display.max_columns', 1000)\n",
    "# pd.set_option('display.max_rows', 400)\n",
    "sns.set()\n",
    "\n",
    "os.chdir('..')"
   ]
  },
  {
   "cell_type": "code",
   "execution_count": 2,
   "metadata": {},
   "outputs": [],
   "source": [
    "from sklearn.pipeline import Pipeline\n",
    "from sklearn.preprocessing import StandardScaler\n",
    "from project.ranker.ranker import RankingPredictor"
   ]
  },
  {
   "cell_type": "code",
   "execution_count": 3,
   "metadata": {},
   "outputs": [
    {
     "name": "stdout",
     "output_type": "stream",
     "text": [
      "CPU times: user 54.9 s, sys: 3.67 s, total: 58.5 s\n",
      "Wall time: 58.3 s\n"
     ]
    }
   ],
   "source": [
    "%%time\n",
    "rp = Pipeline([\n",
    "    ('scale', StandardScaler()),\n",
    "    ('estimator', RankingPredictor(\"ma_100\", n_neighbors=15)),\n",
    "])\n",
    "df_mf, df_rank, df_scores, df_fold_scores = rp.named_steps['estimator'].get_data()"
   ]
  },
  {
   "cell_type": "code",
   "execution_count": 7,
   "metadata": {},
   "outputs": [
    {
     "data": {
      "text/plain": [
       "((60, 39), (60, 13))"
      ]
     },
     "execution_count": 7,
     "metadata": {},
     "output_type": "execute_result"
    }
   ],
   "source": [
    "from sklearn.model_selection import train_test_split\n",
    "\n",
    "X_train, _, y_train, _, y_scores_train, _ = train_test_split(df_mf.values,\n",
    "                                                             df_rank.values,\n",
    "                                                             df_scores.values,\n",
    "                                                             test_size=0)\n",
    "X_train.shape, y_train.shape"
   ]
  },
  {
   "cell_type": "code",
   "execution_count": 191,
   "metadata": {},
   "outputs": [
    {
     "name": "stdout",
     "output_type": "stream",
     "text": [
      "Fold   1 | #Est:   2 | Trn_Spearman:  0.2977 | Val_Spearman:  0.2592 | Trn_ACCLoss:  0.0370 | Val_ACCLoss:  0.0682 | Trn_NDCG:  0.7352 | Val_NDCG:  0.7133\n",
      "Fold   2 | #Est:   6 | Trn_Spearman:  0.3516 | Val_Spearman:  0.2408 | Trn_ACCLoss:  0.0152 | Val_ACCLoss:  0.0731 | Trn_NDCG:  0.7980 | Val_NDCG:  0.5778\n",
      "Fold   3 | #Est:  24 | Trn_Spearman:  0.4100 | Val_Spearman:  0.2582 | Trn_ACCLoss:  0.0124 | Val_ACCLoss:  0.0797 | Trn_NDCG:  0.8507 | Val_NDCG:  0.5944\n",
      "Fold   4 | #Est:   3 | Trn_Spearman:  0.3758 | Val_Spearman:  0.0321 | Trn_ACCLoss:  0.0202 | Val_ACCLoss:  0.0715 | Trn_NDCG:  0.7622 | Val_NDCG:  0.5557\n",
      "Fold   5 | #Est:  23 | Trn_Spearman:  0.4199 | Val_Spearman:  0.0513 | Trn_ACCLoss:  0.0098 | Val_ACCLoss:  0.1202 | Trn_NDCG:  0.8485 | Val_NDCG:  0.5623\n",
      "Fold   6 | #Est:  23 | Trn_Spearman:  0.4028 | Val_Spearman:  0.1877 | Trn_ACCLoss:  0.0153 | Val_ACCLoss:  0.0274 | Trn_NDCG:  0.8131 | Val_NDCG:  0.6443\n",
      "Fold   7 | #Est:  98 | Trn_Spearman:  0.4237 | Val_Spearman: -0.0339 | Trn_ACCLoss:  0.0053 | Val_ACCLoss:  0.0589 | Trn_NDCG:  0.8892 | Val_NDCG:  0.6646\n",
      "Fold   8 | #Est:  52 | Trn_Spearman:  0.4716 | Val_Spearman:  0.1035 | Trn_ACCLoss:  0.0094 | Val_ACCLoss:  0.0537 | Trn_NDCG:  0.8511 | Val_NDCG:  0.6041\n",
      "Fold   9 | #Est:   7 | Trn_Spearman:  0.3647 | Val_Spearman:  0.1749 | Trn_ACCLoss:  0.0257 | Val_ACCLoss:  0.0741 | Trn_NDCG:  0.7735 | Val_NDCG:  0.6904\n",
      "Fold  10 | #Est:  32 | Trn_Spearman:  0.3896 | Val_Spearman:  0.0137 | Trn_ACCLoss:  0.0119 | Val_ACCLoss:  0.0822 | Trn_NDCG:  0.8327 | Val_NDCG:  0.6078\n",
      "Fold  11 | #Est:  75 | Trn_Spearman:  0.4180 | Val_Spearman:  0.0623 | Trn_ACCLoss:  0.0025 | Val_ACCLoss:  0.0993 | Trn_NDCG:  0.8924 | Val_NDCG:  0.6075\n",
      "Fold  12 | #Est:  55 | Trn_Spearman:  0.4494 | Val_Spearman: -0.0412 | Trn_ACCLoss:  0.0099 | Val_ACCLoss:  0.1466 | Trn_NDCG:  0.8528 | Val_NDCG:  0.4944\n",
      "Fold  13 | #Est:  31 | Trn_Spearman:  0.4381 | Val_Spearman:  0.2692 | Trn_ACCLoss:  0.0110 | Val_ACCLoss:  0.0234 | Trn_NDCG:  0.8155 | Val_NDCG:  0.7176\n",
      "Fold  14 | #Est:   4 | Trn_Spearman:  0.3779 | Val_Spearman:  0.0137 | Trn_ACCLoss:  0.0285 | Val_ACCLoss:  0.1033 | Trn_NDCG:  0.7459 | Val_NDCG:  0.5450\n",
      "Fold  15 | #Est:   3 | Trn_Spearman:  0.3799 | Val_Spearman: -0.0696 | Trn_ACCLoss:  0.0344 | Val_ACCLoss:  0.0624 | Trn_NDCG:  0.7565 | Val_NDCG:  0.5779\n",
      "Fold  16 | #Est:   1 | Trn_Spearman:  0.1842 | Val_Spearman: -0.1969 | Trn_ACCLoss:  0.0824 | Val_ACCLoss:  0.1143 | Trn_NDCG:  0.6376 | Val_NDCG:  0.6499\n",
      "Fold  17 | #Est:   1 | Trn_Spearman:  0.2285 | Val_Spearman:  0.0998 | Trn_ACCLoss:  0.0586 | Val_ACCLoss:  0.1439 | Trn_NDCG:  0.6725 | Val_NDCG:  0.6038\n",
      "Fold  18 | #Est:   6 | Trn_Spearman:  0.4104 | Val_Spearman:  0.4011 | Trn_ACCLoss:  0.0160 | Val_ACCLoss:  0.0600 | Trn_NDCG:  0.8123 | Val_NDCG:  0.7021\n",
      "Fold  19 | #Est:  40 | Trn_Spearman:  0.3539 | Val_Spearman:  0.4277 | Trn_ACCLoss:  0.0099 | Val_ACCLoss:  0.0647 | Trn_NDCG:  0.8295 | Val_NDCG:  0.7018\n",
      "Fold  20 | #Est:   9 | Trn_Spearman:  0.3601 | Val_Spearman:  0.0476 | Trn_ACCLoss:  0.0262 | Val_ACCLoss:  0.0706 | Trn_NDCG:  0.7186 | Val_NDCG:  0.6437\n",
      "\n",
      "Trn_Spearman:  0.3754 +/-0.0685 | Val_Spearman:  0.1151 +/-0.1560\n",
      "Trn_ACCLoss:   0.0221 +/-0.0189 | Val_ACCLoss:   0.0799 +/-0.0321\n",
      "Trn_NDCG:      0.7944 +/-0.0667 | Val_NDCG:      0.6229 +/-0.0610\n",
      "\n",
      "CPU times: user 33.1 s, sys: 132 ms, total: 33.2 s\n",
      "Wall time: 3.97 s\n"
     ]
    }
   ],
   "source": [
    "%%time\n",
    "import lightgbm\n",
    "from project.ranker.ltr_rankers import cv_lgbm\n",
    "from sklearn.model_selection import RepeatedKFold\n",
    "kfolds = RepeatedKFold(10, n_repeats=2, random_state=42)\n",
    "params = {'objective': 'lambdarank', \n",
    "          'metric': 'ndcg', \n",
    "          'learning_rate': 1e-3,\n",
    "#           'num_leaves': 50,\n",
    "          'ndcg_at': y_train.shape[1],\n",
    "          'min_data_in_leaf': 3,\n",
    "          'min_sum_hessian_in_leaf': 1e-4}\n",
    "results, models = cv_lgbm(lightgbm, X_train, y_train.shape[1] - y_train + 1, y_scores_train, kfolds, \n",
    "                  params, num_rounds=1000, early_stopping_rounds=50, verbose_eval=False)"
   ]
  },
  {
   "cell_type": "code",
   "execution_count": 190,
   "metadata": {},
   "outputs": [
    {
     "name": "stdout",
     "output_type": "stream",
     "text": [
      "Fold   1 | #Est:   2 | Trn_Spearman:  0.2977 | Val_Spearman:  0.2592 | Trn_ACCLoss:  0.0370 | Val_ACCLoss:  0.0682 | Trn_NDCG:  0.7352 | Val_NDCG:  0.7133\n",
      "Fold   2 | #Est:   6 | Trn_Spearman:  0.3516 | Val_Spearman:  0.2408 | Trn_ACCLoss:  0.0152 | Val_ACCLoss:  0.0731 | Trn_NDCG:  0.7980 | Val_NDCG:  0.5778\n",
      "Fold   3 | #Est:  24 | Trn_Spearman:  0.4100 | Val_Spearman:  0.2582 | Trn_ACCLoss:  0.0124 | Val_ACCLoss:  0.0797 | Trn_NDCG:  0.8507 | Val_NDCG:  0.5944\n",
      "Fold   4 | #Est:   3 | Trn_Spearman:  0.3758 | Val_Spearman:  0.0321 | Trn_ACCLoss:  0.0202 | Val_ACCLoss:  0.0715 | Trn_NDCG:  0.7622 | Val_NDCG:  0.5557\n",
      "Fold   5 | #Est:  23 | Trn_Spearman:  0.4199 | Val_Spearman:  0.0513 | Trn_ACCLoss:  0.0098 | Val_ACCLoss:  0.1202 | Trn_NDCG:  0.8485 | Val_NDCG:  0.5623\n",
      "Fold   6 | #Est:  23 | Trn_Spearman:  0.4028 | Val_Spearman:  0.1877 | Trn_ACCLoss:  0.0153 | Val_ACCLoss:  0.0274 | Trn_NDCG:  0.8131 | Val_NDCG:  0.6443\n",
      "Fold   7 | #Est:  98 | Trn_Spearman:  0.4237 | Val_Spearman: -0.0339 | Trn_ACCLoss:  0.0053 | Val_ACCLoss:  0.0589 | Trn_NDCG:  0.8892 | Val_NDCG:  0.6646\n",
      "Fold   8 | #Est:  52 | Trn_Spearman:  0.4716 | Val_Spearman:  0.1035 | Trn_ACCLoss:  0.0094 | Val_ACCLoss:  0.0537 | Trn_NDCG:  0.8511 | Val_NDCG:  0.6041\n",
      "Fold   9 | #Est:   7 | Trn_Spearman:  0.3647 | Val_Spearman:  0.1749 | Trn_ACCLoss:  0.0257 | Val_ACCLoss:  0.0741 | Trn_NDCG:  0.7735 | Val_NDCG:  0.6904\n",
      "Fold  10 | #Est:  32 | Trn_Spearman:  0.3896 | Val_Spearman:  0.0137 | Trn_ACCLoss:  0.0119 | Val_ACCLoss:  0.0822 | Trn_NDCG:  0.8327 | Val_NDCG:  0.6078\n",
      "Fold  11 | #Est:  75 | Trn_Spearman:  0.4180 | Val_Spearman:  0.0623 | Trn_ACCLoss:  0.0025 | Val_ACCLoss:  0.0993 | Trn_NDCG:  0.8924 | Val_NDCG:  0.6075\n",
      "Fold  12 | #Est:  55 | Trn_Spearman:  0.4494 | Val_Spearman: -0.0412 | Trn_ACCLoss:  0.0099 | Val_ACCLoss:  0.1466 | Trn_NDCG:  0.8528 | Val_NDCG:  0.4944\n",
      "Fold  13 | #Est:  31 | Trn_Spearman:  0.4381 | Val_Spearman:  0.2692 | Trn_ACCLoss:  0.0110 | Val_ACCLoss:  0.0234 | Trn_NDCG:  0.8155 | Val_NDCG:  0.7176\n",
      "Fold  14 | #Est:   4 | Trn_Spearman:  0.3779 | Val_Spearman:  0.0137 | Trn_ACCLoss:  0.0285 | Val_ACCLoss:  0.1033 | Trn_NDCG:  0.7459 | Val_NDCG:  0.5450\n",
      "Fold  15 | #Est:   3 | Trn_Spearman:  0.3799 | Val_Spearman: -0.0696 | Trn_ACCLoss:  0.0344 | Val_ACCLoss:  0.0624 | Trn_NDCG:  0.7565 | Val_NDCG:  0.5779\n",
      "Fold  16 | #Est:   1 | Trn_Spearman:  0.1842 | Val_Spearman: -0.1969 | Trn_ACCLoss:  0.0824 | Val_ACCLoss:  0.1143 | Trn_NDCG:  0.6376 | Val_NDCG:  0.6499\n",
      "Fold  17 | #Est:   1 | Trn_Spearman:  0.2285 | Val_Spearman:  0.0998 | Trn_ACCLoss:  0.0586 | Val_ACCLoss:  0.1439 | Trn_NDCG:  0.6725 | Val_NDCG:  0.6038\n",
      "Fold  18 | #Est:   6 | Trn_Spearman:  0.4104 | Val_Spearman:  0.4011 | Trn_ACCLoss:  0.0160 | Val_ACCLoss:  0.0600 | Trn_NDCG:  0.8123 | Val_NDCG:  0.7021\n",
      "Fold  19 | #Est:  40 | Trn_Spearman:  0.3539 | Val_Spearman:  0.4277 | Trn_ACCLoss:  0.0099 | Val_ACCLoss:  0.0647 | Trn_NDCG:  0.8295 | Val_NDCG:  0.7018\n",
      "Fold  20 | #Est:   9 | Trn_Spearman:  0.3601 | Val_Spearman:  0.0476 | Trn_ACCLoss:  0.0262 | Val_ACCLoss:  0.0706 | Trn_NDCG:  0.7186 | Val_NDCG:  0.6437\n",
      "Fold  21 | #Est:  60 | Trn_Spearman:  0.3778 | Val_Spearman:  0.1484 | Trn_ACCLoss:  0.0122 | Val_ACCLoss:  0.1078 | Trn_NDCG:  0.8318 | Val_NDCG:  0.5535\n",
      "Fold  22 | #Est:   1 | Trn_Spearman:  0.2628 | Val_Spearman:  0.2198 | Trn_ACCLoss:  0.0669 | Val_ACCLoss:  0.1249 | Trn_NDCG:  0.6445 | Val_NDCG:  0.6153\n",
      "Fold  23 | #Est:  52 | Trn_Spearman:  0.4349 | Val_Spearman:  0.2134 | Trn_ACCLoss:  0.0135 | Val_ACCLoss:  0.0468 | Trn_NDCG:  0.8563 | Val_NDCG:  0.6696\n",
      "Fold  24 | #Est:  36 | Trn_Spearman:  0.4032 | Val_Spearman:  0.1484 | Trn_ACCLoss:  0.0149 | Val_ACCLoss:  0.0464 | Trn_NDCG:  0.8526 | Val_NDCG:  0.6677\n",
      "Fold  25 | #Est:   1 | Trn_Spearman:  0.2209 | Val_Spearman: -0.0495 | Trn_ACCLoss:  0.0624 | Val_ACCLoss:  0.1216 | Trn_NDCG:  0.6817 | Val_NDCG:  0.6449\n",
      "Fold  26 | #Est:   4 | Trn_Spearman:  0.3976 | Val_Spearman:  0.4075 | Trn_ACCLoss:  0.0169 | Val_ACCLoss:  0.0242 | Trn_NDCG:  0.7857 | Val_NDCG:  0.6520\n",
      "Fold  27 | #Est:   2 | Trn_Spearman:  0.3708 | Val_Spearman: -0.0156 | Trn_ACCLoss:  0.0256 | Val_ACCLoss:  0.0855 | Trn_NDCG:  0.7964 | Val_NDCG:  0.5927\n",
      "Fold  28 | #Est:   1 | Trn_Spearman:  0.2192 | Val_Spearman:  0.2372 | Trn_ACCLoss:  0.0723 | Val_ACCLoss:  0.0982 | Trn_NDCG:  0.6689 | Val_NDCG:  0.6555\n",
      "Fold  29 | #Est:   9 | Trn_Spearman:  0.3267 | Val_Spearman:  0.0183 | Trn_ACCLoss:  0.0178 | Val_ACCLoss:  0.1399 | Trn_NDCG:  0.7991 | Val_NDCG:  0.6864\n",
      "Fold  30 | #Est:  18 | Trn_Spearman:  0.3497 | Val_Spearman: -0.0943 | Trn_ACCLoss:  0.0418 | Val_ACCLoss:  0.1127 | Trn_NDCG:  0.7791 | Val_NDCG:  0.5346\n",
      "Fold  31 | #Est:  91 | Trn_Spearman:  0.4447 | Val_Spearman:  0.3095 | Trn_ACCLoss:  0.0144 | Val_ACCLoss:  0.0260 | Trn_NDCG:  0.8703 | Val_NDCG:  0.7076\n",
      "Fold  32 | #Est:  13 | Trn_Spearman:  0.4318 | Val_Spearman:  0.1429 | Trn_ACCLoss:  0.0108 | Val_ACCLoss:  0.0668 | Trn_NDCG:  0.8136 | Val_NDCG:  0.6144\n",
      "Fold  33 | #Est:   1 | Trn_Spearman:  0.2437 | Val_Spearman:  0.1071 | Trn_ACCLoss:  0.0688 | Val_ACCLoss:  0.1413 | Trn_NDCG:  0.6365 | Val_NDCG:  0.6710\n",
      "Fold  34 | #Est:   1 | Trn_Spearman:  0.3167 | Val_Spearman:  0.0082 | Trn_ACCLoss:  0.0508 | Val_ACCLoss:  0.0655 | Trn_NDCG:  0.6925 | Val_NDCG:  0.6735\n",
      "Fold  35 | #Est:  38 | Trn_Spearman:  0.3790 | Val_Spearman:  0.0861 | Trn_ACCLoss:  0.0100 | Val_ACCLoss:  0.3138 | Trn_NDCG:  0.8478 | Val_NDCG:  0.5705\n",
      "Fold  36 | #Est:   4 | Trn_Spearman:  0.4094 | Val_Spearman:  0.0943 | Trn_ACCLoss:  0.0227 | Val_ACCLoss:  0.1079 | Trn_NDCG:  0.7505 | Val_NDCG:  0.5889\n",
      "Fold  37 | #Est:   3 | Trn_Spearman:  0.3219 | Val_Spearman: -0.0348 | Trn_ACCLoss:  0.0386 | Val_ACCLoss:  0.1317 | Trn_NDCG:  0.7387 | Val_NDCG:  0.6238\n",
      "Fold  38 | #Est:  24 | Trn_Spearman:  0.4008 | Val_Spearman:  0.0870 | Trn_ACCLoss:  0.0221 | Val_ACCLoss:  0.0373 | Trn_NDCG:  0.7758 | Val_NDCG:  0.7051\n",
      "Fold  39 | #Est:   4 | Trn_Spearman:  0.3569 | Val_Spearman:  0.0064 | Trn_ACCLoss:  0.0358 | Val_ACCLoss:  0.0441 | Trn_NDCG:  0.7604 | Val_NDCG:  0.5526\n",
      "Fold  40 | #Est: 105 | Trn_Spearman:  0.4469 | Val_Spearman:  0.0394 | Trn_ACCLoss:  0.0051 | Val_ACCLoss:  0.0370 | Trn_NDCG:  0.8639 | Val_NDCG:  0.6662\n",
      "Fold  41 | #Est:   5 | Trn_Spearman:  0.3441 | Val_Spearman: -0.0687 | Trn_ACCLoss:  0.0373 | Val_ACCLoss:  0.0730 | Trn_NDCG:  0.7518 | Val_NDCG:  0.6030\n",
      "Fold  42 | #Est:   1 | Trn_Spearman:  0.2843 | Val_Spearman:  0.0751 | Trn_ACCLoss:  0.0539 | Val_ACCLoss:  0.1883 | Trn_NDCG:  0.6870 | Val_NDCG:  0.5750\n",
      "Fold  43 | #Est:   1 | Trn_Spearman:  0.3315 | Val_Spearman:  0.1447 | Trn_ACCLoss:  0.0433 | Val_ACCLoss:  0.0440 | Trn_NDCG:  0.6863 | Val_NDCG:  0.5904\n",
      "Fold  44 | #Est:   2 | Trn_Spearman:  0.3651 | Val_Spearman:  0.1905 | Trn_ACCLoss:  0.0237 | Val_ACCLoss:  0.1633 | Trn_NDCG:  0.7548 | Val_NDCG:  0.5536\n",
      "Fold  45 | #Est:   1 | Trn_Spearman:  0.2765 | Val_Spearman:  0.2427 | Trn_ACCLoss:  0.0495 | Val_ACCLoss:  0.0927 | Trn_NDCG:  0.7088 | Val_NDCG:  0.6300\n",
      "Fold  46 | #Est:   8 | Trn_Spearman:  0.4069 | Val_Spearman: -0.0788 | Trn_ACCLoss:  0.0283 | Val_ACCLoss:  0.0805 | Trn_NDCG:  0.7909 | Val_NDCG:  0.5859\n",
      "Fold  47 | #Est:   2 | Trn_Spearman:  0.3201 | Val_Spearman: -0.1630 | Trn_ACCLoss:  0.0420 | Val_ACCLoss:  0.0781 | Trn_NDCG:  0.7306 | Val_NDCG:  0.5506\n",
      "Fold  48 | #Est:  11 | Trn_Spearman:  0.4253 | Val_Spearman:  0.2729 | Trn_ACCLoss:  0.0177 | Val_ACCLoss:  0.1332 | Trn_NDCG:  0.7835 | Val_NDCG:  0.6049\n",
      "Fold  49 | #Est:   1 | Trn_Spearman:  0.2274 | Val_Spearman:  0.2949 | Trn_ACCLoss:  0.0654 | Val_ACCLoss:  0.0783 | Trn_NDCG:  0.6392 | Val_NDCG:  0.7203\n",
      "Fold  50 | #Est:  72 | Trn_Spearman:  0.4289 | Val_Spearman:  0.0531 | Trn_ACCLoss:  0.0106 | Val_ACCLoss:  0.0222 | Trn_NDCG:  0.8512 | Val_NDCG:  0.6045\n",
      "Fold  51 | #Est:  50 | Trn_Spearman:  0.4146 | Val_Spearman:  0.2070 | Trn_ACCLoss:  0.0148 | Val_ACCLoss:  0.0142 | Trn_NDCG:  0.8046 | Val_NDCG:  0.6315\n",
      "Fold  52 | #Est:  29 | Trn_Spearman:  0.4085 | Val_Spearman:  0.0559 | Trn_ACCLoss:  0.0185 | Val_ACCLoss:  0.1595 | Trn_NDCG:  0.8026 | Val_NDCG:  0.5616\n",
      "Fold  53 | #Est:  13 | Trn_Spearman:  0.3896 | Val_Spearman:  0.0549 | Trn_ACCLoss:  0.0147 | Val_ACCLoss:  0.0169 | Trn_NDCG:  0.8016 | Val_NDCG:  0.6721\n",
      "Fold  54 | #Est:  25 | Trn_Spearman:  0.3760 | Val_Spearman: -0.1310 | Trn_ACCLoss:  0.0097 | Val_ACCLoss:  0.0812 | Trn_NDCG:  0.8251 | Val_NDCG:  0.5539\n",
      "Fold  55 | #Est:  14 | Trn_Spearman:  0.4192 | Val_Spearman: -0.0211 | Trn_ACCLoss:  0.0110 | Val_ACCLoss:  0.0823 | Trn_NDCG:  0.8201 | Val_NDCG:  0.6643\n",
      "Fold  56 | #Est:   5 | Trn_Spearman:  0.4012 | Val_Spearman: -0.0119 | Trn_ACCLoss:  0.0203 | Val_ACCLoss:  0.1222 | Trn_NDCG:  0.8009 | Val_NDCG:  0.5544\n",
      "Fold  57 | #Est:   8 | Trn_Spearman:  0.3993 | Val_Spearman:  0.0632 | Trn_ACCLoss:  0.0234 | Val_ACCLoss:  0.0556 | Trn_NDCG:  0.7780 | Val_NDCG:  0.6107\n",
      "Fold  58 | #Est:   1 | Trn_Spearman:  0.3205 | Val_Spearman: -0.0110 | Trn_ACCLoss:  0.0407 | Val_ACCLoss:  0.1170 | Trn_NDCG:  0.7091 | Val_NDCG:  0.5368\n",
      "Fold  59 | #Est:  55 | Trn_Spearman:  0.4195 | Val_Spearman: -0.1328 | Trn_ACCLoss:  0.0119 | Val_ACCLoss:  0.2943 | Trn_NDCG:  0.8148 | Val_NDCG:  0.4998\n",
      "Fold  60 | #Est:   1 | Trn_Spearman:  0.2482 | Val_Spearman:  0.2143 | Trn_ACCLoss:  0.0775 | Val_ACCLoss:  0.0576 | Trn_NDCG:  0.6614 | Val_NDCG:  0.6679\n",
      "Fold  61 | #Est:   2 | Trn_Spearman:  0.3733 | Val_Spearman:  0.0018 | Trn_ACCLoss:  0.0314 | Val_ACCLoss:  0.0635 | Trn_NDCG:  0.7634 | Val_NDCG:  0.6352\n",
      "Fold  62 | #Est:   2 | Trn_Spearman:  0.3156 | Val_Spearman:  0.1493 | Trn_ACCLoss:  0.0578 | Val_ACCLoss:  0.0620 | Trn_NDCG:  0.7024 | Val_NDCG:  0.6215\n",
      "Fold  63 | #Est:   4 | Trn_Spearman:  0.3557 | Val_Spearman: -0.0311 | Trn_ACCLoss:  0.0253 | Val_ACCLoss:  0.1228 | Trn_NDCG:  0.7615 | Val_NDCG:  0.5825\n",
      "Fold  64 | #Est:   2 | Trn_Spearman:  0.3340 | Val_Spearman:  0.0485 | Trn_ACCLoss:  0.0437 | Val_ACCLoss:  0.0763 | Trn_NDCG:  0.6885 | Val_NDCG:  0.5861\n",
      "Fold  65 | #Est:  57 | Trn_Spearman:  0.4374 | Val_Spearman:  0.0128 | Trn_ACCLoss:  0.0158 | Val_ACCLoss:  0.0227 | Trn_NDCG:  0.8131 | Val_NDCG:  0.6927\n",
      "Fold  66 | #Est:   4 | Trn_Spearman:  0.3704 | Val_Spearman:  0.2024 | Trn_ACCLoss:  0.0296 | Val_ACCLoss:  0.2691 | Trn_NDCG:  0.7471 | Val_NDCG:  0.6197\n",
      "Fold  67 | #Est:  24 | Trn_Spearman:  0.4042 | Val_Spearman:  0.0375 | Trn_ACCLoss:  0.0190 | Val_ACCLoss:  0.2183 | Trn_NDCG:  0.7937 | Val_NDCG:  0.5438\n",
      "Fold  68 | #Est:   3 | Trn_Spearman:  0.4385 | Val_Spearman:  0.1484 | Trn_ACCLoss:  0.0174 | Val_ACCLoss:  0.0918 | Trn_NDCG:  0.7617 | Val_NDCG:  0.5756\n",
      "Fold  69 | #Est:  19 | Trn_Spearman:  0.4127 | Val_Spearman:  0.2125 | Trn_ACCLoss:  0.0051 | Val_ACCLoss:  0.0699 | Trn_NDCG:  0.8683 | Val_NDCG:  0.7338\n",
      "Fold  70 | #Est:  71 | Trn_Spearman:  0.4433 | Val_Spearman:  0.0046 | Trn_ACCLoss:  0.0094 | Val_ACCLoss:  0.0480 | Trn_NDCG:  0.8569 | Val_NDCG:  0.6213\n",
      "Fold  71 | #Est:   1 | Trn_Spearman:  0.2540 | Val_Spearman: -0.0366 | Trn_ACCLoss:  0.0568 | Val_ACCLoss:  0.1257 | Trn_NDCG:  0.6517 | Val_NDCG:  0.6321\n",
      "Fold  72 | #Est:  18 | Trn_Spearman:  0.4117 | Val_Spearman:  0.1465 | Trn_ACCLoss:  0.0046 | Val_ACCLoss:  0.0581 | Trn_NDCG:  0.8568 | Val_NDCG:  0.6511\n",
      "Fold  73 | #Est:  18 | Trn_Spearman:  0.3821 | Val_Spearman: -0.0513 | Trn_ACCLoss:  0.0227 | Val_ACCLoss:  0.0650 | Trn_NDCG:  0.8010 | Val_NDCG:  0.5485\n",
      "Fold  74 | #Est: 138 | Trn_Spearman:  0.4231 | Val_Spearman:  0.2454 | Trn_ACCLoss:  0.0031 | Val_ACCLoss:  0.0341 | Trn_NDCG:  0.8780 | Val_NDCG:  0.6483\n",
      "Fold  75 | #Est:  30 | Trn_Spearman:  0.3965 | Val_Spearman:  0.2143 | Trn_ACCLoss:  0.0092 | Val_ACCLoss:  0.1294 | Trn_NDCG:  0.8482 | Val_NDCG:  0.6396\n",
      "Fold  76 | #Est:  37 | Trn_Spearman:  0.4200 | Val_Spearman:  0.3672 | Trn_ACCLoss:  0.0090 | Val_ACCLoss:  0.0627 | Trn_NDCG:  0.8345 | Val_NDCG:  0.6548\n",
      "Fold  77 | #Est:   2 | Trn_Spearman:  0.3740 | Val_Spearman:  0.0989 | Trn_ACCLoss:  0.0303 | Val_ACCLoss:  0.1676 | Trn_NDCG:  0.7296 | Val_NDCG:  0.6018\n",
      "Fold  78 | #Est:   5 | Trn_Spearman:  0.3719 | Val_Spearman:  0.2701 | Trn_ACCLoss:  0.0414 | Val_ACCLoss:  0.0331 | Trn_NDCG:  0.7444 | Val_NDCG:  0.6145\n",
      "Fold  79 | #Est:  19 | Trn_Spearman:  0.4021 | Val_Spearman:  0.0769 | Trn_ACCLoss:  0.0077 | Val_ACCLoss:  0.0497 | Trn_NDCG:  0.8508 | Val_NDCG:  0.5838\n",
      "Fold  80 | #Est:  19 | Trn_Spearman:  0.4119 | Val_Spearman: -0.0916 | Trn_ACCLoss:  0.0182 | Val_ACCLoss:  0.1047 | Trn_NDCG:  0.8188 | Val_NDCG:  0.5693\n",
      "Fold  81 | #Est:  43 | Trn_Spearman:  0.4315 | Val_Spearman:  0.1667 | Trn_ACCLoss:  0.0094 | Val_ACCLoss:  0.0806 | Trn_NDCG:  0.8628 | Val_NDCG:  0.5431\n",
      "Fold  82 | #Est:  22 | Trn_Spearman:  0.4451 | Val_Spearman:  0.0833 | Trn_ACCLoss:  0.0102 | Val_ACCLoss:  0.1245 | Trn_NDCG:  0.8292 | Val_NDCG:  0.6168\n",
      "Fold  83 | #Est:  27 | Trn_Spearman:  0.3944 | Val_Spearman:  0.0220 | Trn_ACCLoss:  0.0133 | Val_ACCLoss:  0.0487 | Trn_NDCG:  0.8317 | Val_NDCG:  0.6277\n",
      "Fold  84 | #Est:  27 | Trn_Spearman:  0.4166 | Val_Spearman:  0.1832 | Trn_ACCLoss:  0.0117 | Val_ACCLoss:  0.0791 | Trn_NDCG:  0.8308 | Val_NDCG:  0.5824\n",
      "Fold  85 | #Est:  40 | Trn_Spearman:  0.3544 | Val_Spearman:  0.1429 | Trn_ACCLoss:  0.0029 | Val_ACCLoss:  0.0719 | Trn_NDCG:  0.8612 | Val_NDCG:  0.6174\n",
      "Fold  86 | #Est:   8 | Trn_Spearman:  0.3588 | Val_Spearman:  0.3260 | Trn_ACCLoss:  0.0216 | Val_ACCLoss:  0.0579 | Trn_NDCG:  0.7623 | Val_NDCG:  0.6468\n",
      "Fold  87 | #Est:   1 | Trn_Spearman:  0.2125 | Val_Spearman: -0.1474 | Trn_ACCLoss:  0.0725 | Val_ACCLoss:  0.0721 | Trn_NDCG:  0.6504 | Val_NDCG:  0.5962\n",
      "Fold  88 | #Est:  15 | Trn_Spearman:  0.3826 | Val_Spearman:  0.2894 | Trn_ACCLoss:  0.0198 | Val_ACCLoss:  0.0371 | Trn_NDCG:  0.8302 | Val_NDCG:  0.7045\n",
      "Fold  89 | #Est:  78 | Trn_Spearman:  0.4296 | Val_Spearman:  0.1209 | Trn_ACCLoss:  0.0028 | Val_ACCLoss:  0.0744 | Trn_NDCG:  0.8764 | Val_NDCG:  0.5674\n",
      "Fold  90 | #Est:  21 | Trn_Spearman:  0.4109 | Val_Spearman:  0.1969 | Trn_ACCLoss:  0.0163 | Val_ACCLoss:  0.1158 | Trn_NDCG:  0.8194 | Val_NDCG:  0.6708\n",
      "Fold  91 | #Est:   2 | Trn_Spearman:  0.3628 | Val_Spearman: -0.1374 | Trn_ACCLoss:  0.0315 | Val_ACCLoss:  0.2593 | Trn_NDCG:  0.7492 | Val_NDCG:  0.5761\n",
      "Fold  92 | #Est:  61 | Trn_Spearman:  0.4345 | Val_Spearman:  0.1126 | Trn_ACCLoss:  0.0110 | Val_ACCLoss:  0.1008 | Trn_NDCG:  0.8682 | Val_NDCG:  0.6008\n",
      "Fold  93 | #Est:  27 | Trn_Spearman:  0.3767 | Val_Spearman: -0.0174 | Trn_ACCLoss:  0.0211 | Val_ACCLoss:  0.0612 | Trn_NDCG:  0.8023 | Val_NDCG:  0.6404\n",
      "Fold  94 | #Est:  22 | Trn_Spearman:  0.3681 | Val_Spearman:  0.0238 | Trn_ACCLoss:  0.0210 | Val_ACCLoss:  0.0637 | Trn_NDCG:  0.8038 | Val_NDCG:  0.4970\n",
      "Fold  95 | #Est:   1 | Trn_Spearman:  0.2120 | Val_Spearman: -0.1273 | Trn_ACCLoss:  0.0687 | Val_ACCLoss:  0.1474 | Trn_NDCG:  0.6416 | Val_NDCG:  0.5514\n",
      "Fold  96 | #Est:   6 | Trn_Spearman:  0.3799 | Val_Spearman:  0.0147 | Trn_ACCLoss:  0.0248 | Val_ACCLoss:  0.1061 | Trn_NDCG:  0.7867 | Val_NDCG:  0.6024\n",
      "Fold  97 | #Est:  31 | Trn_Spearman:  0.4008 | Val_Spearman:  0.0092 | Trn_ACCLoss:  0.0175 | Val_ACCLoss:  0.0600 | Trn_NDCG:  0.8407 | Val_NDCG:  0.5898\n",
      "Fold  98 | #Est:  23 | Trn_Spearman:  0.3503 | Val_Spearman: -0.2134 | Trn_ACCLoss:  0.0135 | Val_ACCLoss:  0.1751 | Trn_NDCG:  0.8154 | Val_NDCG:  0.5536\n",
      "Fold  99 | #Est:  20 | Trn_Spearman:  0.4177 | Val_Spearman:  0.3031 | Trn_ACCLoss:  0.0087 | Val_ACCLoss:  0.0695 | Trn_NDCG:  0.8309 | Val_NDCG:  0.7726\n",
      "Fold 100 | #Est:  40 | Trn_Spearman:  0.4366 | Val_Spearman:  0.2115 | Trn_ACCLoss:  0.0082 | Val_ACCLoss:  0.1031 | Trn_NDCG:  0.8460 | Val_NDCG:  0.5841\n",
      "\n",
      "Trn_Spearman:  0.3714 +/-0.0634 | Val_Spearman:  0.0922 +/-0.1403\n",
      "Trn_ACCLoss:   0.0254 +/-0.0194 | Val_ACCLoss:   0.0921 +/-0.0564\n",
      "Trn_NDCG:      0.7845 +/-0.0671 | Val_NDCG:      0.6157 +/-0.0555\n",
      "\n",
      "CPU times: user 2min 27s, sys: 764 ms, total: 2min 28s\n",
      "Wall time: 18 s\n"
     ]
    }
   ],
   "source": [
    "%%time\n",
    "import lightgbm\n",
    "from project.ranker.ltr_rankers import cv_lgbm\n",
    "from sklearn.model_selection import RepeatedKFold\n",
    "kfolds = RepeatedKFold(10, n_repeats=10, random_state=42)\n",
    "params = {'objective': 'lambdarank', \n",
    "          'metric': 'ndcg', \n",
    "          'learning_rate': 1e-3,\n",
    "#           'num_leaves': 50,\n",
    "          'ndcg_at': y_train.shape[1],\n",
    "          'min_data_in_leaf': 3,\n",
    "          'min_sum_hessian_in_leaf': 1e-4}\n",
    "results, models = cv_lgbm(lightgbm, X_train, y_train.shape[1] - y_train + 1, y_scores_train, kfolds, \n",
    "                  params, num_rounds=1000, early_stopping_rounds=50, verbose_eval=False)"
   ]
  },
  {
   "cell_type": "code",
   "execution_count": 68,
   "metadata": {},
   "outputs": [
    {
     "data": {
      "text/plain": [
       "((780, 40), (780,))"
      ]
     },
     "execution_count": 68,
     "metadata": {},
     "output_type": "execute_result"
    }
   ],
   "source": [
    "from project.ranker.ltr_rankers import wide2long\n",
    "X, y = wide2long(X_train, y_train)\n",
    "X.shape, y.shape"
   ]
  },
  {
   "cell_type": "code",
   "execution_count": 170,
   "metadata": {},
   "outputs": [
    {
     "data": {
      "text/plain": [
       "(60, 13)"
      ]
     },
     "execution_count": 170,
     "metadata": {},
     "output_type": "execute_result"
    }
   ],
   "source": [
    "from scipy.stats import rankdata\n",
    "y_pred = np.array([rankdata(models[0].predict(wide2long(x_[None,:], y_[None,:])[0]), \n",
    "                               method='ordinal') for x_, y_ in zip(X_train, y_train)])\n",
    "y_pred.shape"
   ]
  },
  {
   "cell_type": "code",
   "execution_count": 173,
   "metadata": {},
   "outputs": [
    {
     "data": {
      "text/plain": [
       "array([12,  9,  8,  3,  1, 11, 10,  2, 13,  4,  6,  5,  7])"
      ]
     },
     "execution_count": 173,
     "metadata": {},
     "output_type": "execute_result"
    }
   ],
   "source": [
    "13 - y_train[0] + 1"
   ]
  },
  {
   "cell_type": "code",
   "execution_count": 172,
   "metadata": {},
   "outputs": [
    {
     "data": {
      "text/plain": [
       "array([ 1,  2,  3,  4,  5,  8,  9, 10, 11, 12, 13,  6,  7])"
      ]
     },
     "execution_count": 172,
     "metadata": {},
     "output_type": "execute_result"
    }
   ],
   "source": [
    "y_pred[0]"
   ]
  },
  {
   "cell_type": "code",
   "execution_count": 174,
   "metadata": {},
   "outputs": [
    {
     "data": {
      "text/plain": [
       "SpearmanrResult(correlation=-0.10989010989010989, pvalue=0.7208097995138618)"
      ]
     },
     "execution_count": 174,
     "metadata": {},
     "output_type": "execute_result"
    }
   ],
   "source": [
    "from scipy.stats import spearmanr\n",
    "spearmanr(13 - y_train[0] + 1, y_pred[0])"
   ]
  },
  {
   "cell_type": "code",
   "execution_count": null,
   "metadata": {},
   "outputs": [],
   "source": []
  }
 ],
 "metadata": {
  "kernelspec": {
   "display_name": "Python 3",
   "language": "python",
   "name": "python3"
  },
  "language_info": {
   "codemirror_mode": {
    "name": "ipython",
    "version": 3
   },
   "file_extension": ".py",
   "mimetype": "text/x-python",
   "name": "python",
   "nbconvert_exporter": "python",
   "pygments_lexer": "ipython3",
   "version": "3.6.4"
  }
 },
 "nbformat": 4,
 "nbformat_minor": 2
}
