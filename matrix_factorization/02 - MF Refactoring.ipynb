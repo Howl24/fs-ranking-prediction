{
 "cells": [
  {
   "cell_type": "code",
   "execution_count": 1,
   "metadata": {},
   "outputs": [],
   "source": [
    "%load_ext autoreload\n",
    "%autoreload 2\n",
    "%matplotlib inline\n",
    "%config InlineBackend.figure_format = 'retina'\n",
    "\n",
    "import os\n",
    "import numpy as np, pandas as pd\n",
    "import matplotlib.pyplot as plt, seaborn as sns\n",
    "from tqdm import tqdm, tqdm_notebook\n",
    "from pathlib import Path\n",
    "# pd.set_option('display.max_columns', 1000)\n",
    "# pd.set_option('display.max_rows', 400)\n",
    "sns.set()\n",
    "\n",
    "os.chdir('..')"
   ]
  },
  {
   "cell_type": "code",
   "execution_count": 2,
   "metadata": {},
   "outputs": [],
   "source": [
    "features = pd.read_csv('meta_features.csv')\n",
    "ranking  = pd.read_csv('ranking_fs.csv')"
   ]
  },
  {
   "cell_type": "markdown",
   "metadata": {},
   "source": [
    "## Preprocessing"
   ]
  },
  {
   "cell_type": "code",
   "execution_count": 22,
   "metadata": {},
   "outputs": [],
   "source": [
    "# TODO: after split\n",
    "from sklearn.preprocessing import StandardScaler\n",
    "dataset = StandardScaler().fit_transform(features.iloc[:, 1:])"
   ]
  },
  {
   "cell_type": "code",
   "execution_count": 23,
   "metadata": {},
   "outputs": [],
   "source": [
    "from sklearn.model_selection import KFold\n",
    "kfolds = KFold(10, shuffle=True, random_state=42)\n",
    "trn_idx, val_idx = next(kfolds.split(features))"
   ]
  },
  {
   "cell_type": "code",
   "execution_count": 24,
   "metadata": {},
   "outputs": [],
   "source": [
    "from matrix_factorization.utils import get_dataset\n",
    "dataset_trn, ranker_trn, target_trn = get_dataset(dataset[trn_idx], \n",
    "                                                ranking.iloc[trn_idx])\n",
    "dataset_val, ranker_val, target_val = get_dataset(dataset[val_idx],\n",
    "                                                ranking.iloc[val_idx])"
   ]
  },
  {
   "cell_type": "code",
   "execution_count": 166,
   "metadata": {},
   "outputs": [],
   "source": [
    "from matrix_factorization.utils import RankerDataset\n",
    "from torch.utils.data import DataLoader\n",
    "trn_ds = RankerDataset(dataset_trn, ranker_trn, target_trn)\n",
    "val_ds = RankerDataset(dataset_val, ranker_val, target_val)\n",
    "trn_dl = DataLoader(trn_ds, batch_size=16, shuffle=True)\n",
    "val_dl = DataLoader(val_ds)"
   ]
  },
  {
   "cell_type": "code",
   "execution_count": 223,
   "metadata": {},
   "outputs": [],
   "source": [
    "from matrix_factorization.utils import RankerNet\n",
    "model = RankerNet(dataset_sz=39, ranker_sz=3, latent_sz=10)"
   ]
  },
  {
   "cell_type": "code",
   "execution_count": 224,
   "metadata": {},
   "outputs": [],
   "source": [
    "import torch.nn as nn\n",
    "from torch import optim\n",
    "optimizer = optim.Adam(model.parameters(), lr=3e-4)\n",
    "criterion = nn.MSELoss()"
   ]
  },
  {
   "cell_type": "code",
   "execution_count": 225,
   "metadata": {},
   "outputs": [
    {
     "name": "stdout",
     "output_type": "stream",
     "text": [
      "Train Epoch: 1 [20/162 (91%)]\tLoss: 0.531541\tVal Loss: 0.624293\n",
      "Train Epoch: 2 [20/162 (91%)]\tLoss: 0.544627\tVal Loss: 0.623130\n",
      "Train Epoch: 3 [20/162 (91%)]\tLoss: 0.516462\tVal Loss: 0.623254\n",
      "Train Epoch: 4 [20/162 (91%)]\tLoss: 1.326761\tVal Loss: 0.624953\n",
      "Train Epoch: 5 [20/162 (91%)]\tLoss: 0.345890\tVal Loss: 0.627546\n",
      "Train Epoch: 6 [20/162 (91%)]\tLoss: 1.028043\tVal Loss: 0.631020\n",
      "Train Epoch: 7 [20/162 (91%)]\tLoss: 0.340637\tVal Loss: 0.634498\n",
      "Train Epoch: 8 [20/162 (91%)]\tLoss: 1.372638\tVal Loss: 0.640655\n",
      "Train Epoch: 9 [20/162 (91%)]\tLoss: 0.472811\tVal Loss: 0.645943\n",
      "Train Epoch: 10 [20/162 (91%)]\tLoss: 0.950948\tVal Loss: 0.651531\n",
      "Train Epoch: 11 [20/162 (91%)]\tLoss: 1.358884\tVal Loss: 0.656806\n",
      "Train Epoch: 12 [20/162 (91%)]\tLoss: 1.011975\tVal Loss: 0.661552\n",
      "Train Epoch: 13 [20/162 (91%)]\tLoss: 1.070148\tVal Loss: 0.666521\n",
      "Train Epoch: 14 [20/162 (91%)]\tLoss: 0.478034\tVal Loss: 0.672451\n",
      "Train Epoch: 15 [20/162 (91%)]\tLoss: 1.133744\tVal Loss: 0.676401\n",
      "Train Epoch: 16 [20/162 (91%)]\tLoss: 0.484152\tVal Loss: 0.680384\n",
      "Train Epoch: 17 [20/162 (91%)]\tLoss: 0.886113\tVal Loss: 0.683570\n",
      "Train Epoch: 18 [20/162 (91%)]\tLoss: 0.969186\tVal Loss: 0.688551\n",
      "Train Epoch: 19 [20/162 (91%)]\tLoss: 0.342993\tVal Loss: 0.692662\n",
      "Train Epoch: 20 [20/162 (91%)]\tLoss: 0.765427\tVal Loss: 0.696911\n",
      "Train Epoch: 21 [20/162 (91%)]\tLoss: 0.381510\tVal Loss: 0.699344\n",
      "Train Epoch: 22 [20/162 (91%)]\tLoss: 1.189785\tVal Loss: 0.701900\n",
      "Train Epoch: 23 [20/162 (91%)]\tLoss: 1.118450\tVal Loss: 0.703505\n",
      "Train Epoch: 24 [20/162 (91%)]\tLoss: 0.794707\tVal Loss: 0.706060\n",
      "Train Epoch: 25 [20/162 (91%)]\tLoss: 0.598676\tVal Loss: 0.707390\n",
      "Train Epoch: 26 [20/162 (91%)]\tLoss: 1.009885\tVal Loss: 0.709907\n",
      "Train Epoch: 27 [20/162 (91%)]\tLoss: 0.283351\tVal Loss: 0.712424\n",
      "Train Epoch: 28 [20/162 (91%)]\tLoss: 0.045996\tVal Loss: 0.714941\n",
      "Train Epoch: 29 [20/162 (91%)]\tLoss: 0.826634\tVal Loss: 0.716425\n",
      "Train Epoch: 30 [20/162 (91%)]\tLoss: 0.794280\tVal Loss: 0.718324\n",
      "Train Epoch: 31 [20/162 (91%)]\tLoss: 0.916262\tVal Loss: 0.721354\n",
      "Train Epoch: 32 [20/162 (91%)]\tLoss: 0.460881\tVal Loss: 0.723144\n",
      "Train Epoch: 33 [20/162 (91%)]\tLoss: 0.436522\tVal Loss: 0.725629\n",
      "Train Epoch: 34 [20/162 (91%)]\tLoss: 0.310919\tVal Loss: 0.728067\n",
      "Train Epoch: 35 [20/162 (91%)]\tLoss: 0.299792\tVal Loss: 0.729748\n",
      "Train Epoch: 36 [20/162 (91%)]\tLoss: 0.754853\tVal Loss: 0.732159\n",
      "Train Epoch: 37 [20/162 (91%)]\tLoss: 0.226324\tVal Loss: 0.735164\n",
      "Train Epoch: 38 [20/162 (91%)]\tLoss: 0.409734\tVal Loss: 0.737642\n",
      "Train Epoch: 39 [20/162 (91%)]\tLoss: 0.459245\tVal Loss: 0.739529\n",
      "Train Epoch: 40 [20/162 (91%)]\tLoss: 1.145381\tVal Loss: 0.740829\n",
      "Train Epoch: 41 [20/162 (91%)]\tLoss: 0.521470\tVal Loss: 0.741918\n",
      "Train Epoch: 42 [20/162 (91%)]\tLoss: 0.682548\tVal Loss: 0.744538\n",
      "Train Epoch: 43 [20/162 (91%)]\tLoss: 0.017895\tVal Loss: 0.747176\n",
      "Train Epoch: 44 [20/162 (91%)]\tLoss: 0.608077\tVal Loss: 0.749674\n",
      "Train Epoch: 45 [20/162 (91%)]\tLoss: 0.401633\tVal Loss: 0.751572\n",
      "Train Epoch: 46 [20/162 (91%)]\tLoss: 0.449245\tVal Loss: 0.752925\n",
      "Train Epoch: 47 [20/162 (91%)]\tLoss: 0.550733\tVal Loss: 0.753659\n",
      "Train Epoch: 48 [20/162 (91%)]\tLoss: 0.006010\tVal Loss: 0.755339\n",
      "Train Epoch: 49 [20/162 (91%)]\tLoss: 0.762780\tVal Loss: 0.756071\n",
      "Train Epoch: 50 [20/162 (91%)]\tLoss: 0.929903\tVal Loss: 0.757478\n",
      "Train Epoch: 51 [20/162 (91%)]\tLoss: 0.548976\tVal Loss: 0.758065\n",
      "Train Epoch: 52 [20/162 (91%)]\tLoss: 0.402880\tVal Loss: 0.759944\n",
      "Train Epoch: 53 [20/162 (91%)]\tLoss: 1.266300\tVal Loss: 0.761774\n",
      "Train Epoch: 54 [20/162 (91%)]\tLoss: 0.203338\tVal Loss: 0.762376\n",
      "Train Epoch: 55 [20/162 (91%)]\tLoss: 0.162632\tVal Loss: 0.764018\n",
      "Train Epoch: 56 [20/162 (91%)]\tLoss: 1.091786\tVal Loss: 0.765487\n",
      "Train Epoch: 57 [20/162 (91%)]\tLoss: 0.398300\tVal Loss: 0.764272\n",
      "Train Epoch: 58 [20/162 (91%)]\tLoss: 0.141709\tVal Loss: 0.765146\n",
      "Train Epoch: 59 [20/162 (91%)]\tLoss: 0.207542\tVal Loss: 0.766462\n",
      "Train Epoch: 60 [20/162 (91%)]\tLoss: 0.825067\tVal Loss: 0.767093\n",
      "Train Epoch: 61 [20/162 (91%)]\tLoss: 0.385590\tVal Loss: 0.768954\n",
      "Train Epoch: 62 [20/162 (91%)]\tLoss: 0.447736\tVal Loss: 0.770675\n",
      "Train Epoch: 63 [20/162 (91%)]\tLoss: 0.832629\tVal Loss: 0.772503\n",
      "Train Epoch: 64 [20/162 (91%)]\tLoss: 0.483546\tVal Loss: 0.775028\n",
      "Train Epoch: 65 [20/162 (91%)]\tLoss: 1.113958\tVal Loss: 0.776395\n",
      "Train Epoch: 66 [20/162 (91%)]\tLoss: 0.799382\tVal Loss: 0.779159\n",
      "Train Epoch: 67 [20/162 (91%)]\tLoss: 0.002462\tVal Loss: 0.780611\n",
      "Train Epoch: 68 [20/162 (91%)]\tLoss: 0.353088\tVal Loss: 0.781548\n",
      "Train Epoch: 69 [20/162 (91%)]\tLoss: 0.407558\tVal Loss: 0.782021\n",
      "Train Epoch: 70 [20/162 (91%)]\tLoss: 0.146157\tVal Loss: 0.782905\n",
      "Train Epoch: 71 [20/162 (91%)]\tLoss: 0.487763\tVal Loss: 0.783174\n",
      "Train Epoch: 72 [20/162 (91%)]\tLoss: 0.768569\tVal Loss: 0.785066\n",
      "Train Epoch: 73 [20/162 (91%)]\tLoss: 0.157239\tVal Loss: 0.786314\n",
      "Train Epoch: 74 [20/162 (91%)]\tLoss: 1.156639\tVal Loss: 0.787004\n",
      "Train Epoch: 75 [20/162 (91%)]\tLoss: 0.019248\tVal Loss: 0.787264\n",
      "Train Epoch: 76 [20/162 (91%)]\tLoss: 0.280992\tVal Loss: 0.787479\n",
      "Train Epoch: 77 [20/162 (91%)]\tLoss: 0.105032\tVal Loss: 0.786055\n",
      "Train Epoch: 78 [20/162 (91%)]\tLoss: 0.084194\tVal Loss: 0.786034\n",
      "Train Epoch: 79 [20/162 (91%)]\tLoss: 0.390070\tVal Loss: 0.785502\n",
      "Train Epoch: 80 [20/162 (91%)]\tLoss: 0.305000\tVal Loss: 0.785524\n",
      "Train Epoch: 81 [20/162 (91%)]\tLoss: 0.813655\tVal Loss: 0.786344\n",
      "Train Epoch: 82 [20/162 (91%)]\tLoss: 0.607262\tVal Loss: 0.787146\n",
      "Train Epoch: 83 [20/162 (91%)]\tLoss: 0.975656\tVal Loss: 0.787964\n",
      "Train Epoch: 84 [20/162 (91%)]\tLoss: 0.414689\tVal Loss: 0.791471\n",
      "Train Epoch: 85 [20/162 (91%)]\tLoss: 0.425299\tVal Loss: 0.793321\n",
      "Train Epoch: 86 [20/162 (91%)]\tLoss: 0.922274\tVal Loss: 0.793657\n",
      "Train Epoch: 87 [20/162 (91%)]\tLoss: 0.476613\tVal Loss: 0.793352\n",
      "Train Epoch: 88 [20/162 (91%)]\tLoss: 0.993363\tVal Loss: 0.792491\n",
      "Train Epoch: 89 [20/162 (91%)]\tLoss: 0.600942\tVal Loss: 0.790763\n",
      "Train Epoch: 90 [20/162 (91%)]\tLoss: 1.104628\tVal Loss: 0.790232\n",
      "Train Epoch: 91 [20/162 (91%)]\tLoss: 0.834627\tVal Loss: 0.791890\n",
      "Train Epoch: 92 [20/162 (91%)]\tLoss: 0.541735\tVal Loss: 0.792625\n",
      "Train Epoch: 93 [20/162 (91%)]\tLoss: 0.791148\tVal Loss: 0.792481\n",
      "Train Epoch: 94 [20/162 (91%)]\tLoss: 1.083419\tVal Loss: 0.793426\n",
      "Train Epoch: 95 [20/162 (91%)]\tLoss: 0.686474\tVal Loss: 0.792707\n",
      "Train Epoch: 96 [20/162 (91%)]\tLoss: 0.009648\tVal Loss: 0.794093\n",
      "Train Epoch: 97 [20/162 (91%)]\tLoss: 0.569711\tVal Loss: 0.794813\n",
      "Train Epoch: 98 [20/162 (91%)]\tLoss: 0.177068\tVal Loss: 0.796167\n",
      "Train Epoch: 99 [20/162 (91%)]\tLoss: 0.912180\tVal Loss: 0.796951\n",
      "Train Epoch: 100 [20/162 (91%)]\tLoss: 0.256681\tVal Loss: 0.796734\n",
      "Train Epoch: 101 [20/162 (91%)]\tLoss: 0.038142\tVal Loss: 0.798107\n",
      "Train Epoch: 102 [20/162 (91%)]\tLoss: 0.817712\tVal Loss: 0.798235\n",
      "Train Epoch: 103 [20/162 (91%)]\tLoss: 0.689392\tVal Loss: 0.799381\n",
      "Train Epoch: 104 [20/162 (91%)]\tLoss: 0.489419\tVal Loss: 0.799666\n",
      "Train Epoch: 105 [20/162 (91%)]\tLoss: 0.420541\tVal Loss: 0.800062\n",
      "Train Epoch: 106 [20/162 (91%)]\tLoss: 0.463970\tVal Loss: 0.800438\n",
      "Train Epoch: 107 [20/162 (91%)]\tLoss: 0.548338\tVal Loss: 0.800576\n",
      "Train Epoch: 108 [20/162 (91%)]\tLoss: 0.437928\tVal Loss: 0.801326\n",
      "Train Epoch: 109 [20/162 (91%)]\tLoss: 0.544062\tVal Loss: 0.802174\n",
      "Train Epoch: 110 [20/162 (91%)]\tLoss: 0.823194\tVal Loss: 0.800986\n",
      "Train Epoch: 111 [20/162 (91%)]\tLoss: 1.147253\tVal Loss: 0.801042\n",
      "Train Epoch: 112 [20/162 (91%)]\tLoss: 0.265251\tVal Loss: 0.801258\n",
      "Train Epoch: 113 [20/162 (91%)]\tLoss: 0.381693\tVal Loss: 0.801868\n",
      "Train Epoch: 114 [20/162 (91%)]\tLoss: 0.808839\tVal Loss: 0.802464\n",
      "Train Epoch: 115 [20/162 (91%)]\tLoss: 0.062161\tVal Loss: 0.801607\n",
      "Train Epoch: 116 [20/162 (91%)]\tLoss: 0.717477\tVal Loss: 0.801451\n",
      "Train Epoch: 117 [20/162 (91%)]\tLoss: 0.449784\tVal Loss: 0.803864\n",
      "Train Epoch: 118 [20/162 (91%)]\tLoss: 0.773033\tVal Loss: 0.803991\n",
      "Train Epoch: 119 [20/162 (91%)]\tLoss: 0.010365\tVal Loss: 0.804304\n",
      "Train Epoch: 120 [20/162 (91%)]\tLoss: 0.741618\tVal Loss: 0.804637\n",
      "Train Epoch: 121 [20/162 (91%)]\tLoss: 0.013065\tVal Loss: 0.804945\n",
      "Train Epoch: 122 [20/162 (91%)]\tLoss: 0.615336\tVal Loss: 0.805508\n",
      "Train Epoch: 123 [20/162 (91%)]\tLoss: 0.011973\tVal Loss: 0.803307\n",
      "Train Epoch: 124 [20/162 (91%)]\tLoss: 0.957080\tVal Loss: 0.803553\n",
      "Train Epoch: 125 [20/162 (91%)]\tLoss: 0.159347\tVal Loss: 0.805298\n",
      "Train Epoch: 126 [20/162 (91%)]\tLoss: 0.870825\tVal Loss: 0.806706\n",
      "Train Epoch: 127 [20/162 (91%)]\tLoss: 0.501823\tVal Loss: 0.808944\n",
      "Train Epoch: 128 [20/162 (91%)]\tLoss: 0.393802\tVal Loss: 0.809202\n",
      "Train Epoch: 129 [20/162 (91%)]\tLoss: 0.128346\tVal Loss: 0.809056\n",
      "Train Epoch: 130 [20/162 (91%)]\tLoss: 0.394236\tVal Loss: 0.809951\n",
      "Train Epoch: 131 [20/162 (91%)]\tLoss: 0.396857\tVal Loss: 0.810935\n",
      "Train Epoch: 132 [20/162 (91%)]\tLoss: 1.141389\tVal Loss: 0.811533\n",
      "Train Epoch: 133 [20/162 (91%)]\tLoss: 0.009813\tVal Loss: 0.810636\n",
      "Train Epoch: 134 [20/162 (91%)]\tLoss: 1.079143\tVal Loss: 0.810755\n",
      "Train Epoch: 135 [20/162 (91%)]\tLoss: 0.667110\tVal Loss: 0.809183\n",
      "Train Epoch: 136 [20/162 (91%)]\tLoss: 0.448085\tVal Loss: 0.809152\n",
      "Train Epoch: 137 [20/162 (91%)]\tLoss: 0.302408\tVal Loss: 0.810190\n",
      "Train Epoch: 138 [20/162 (91%)]\tLoss: 0.471785\tVal Loss: 0.809862\n",
      "Train Epoch: 139 [20/162 (91%)]\tLoss: 1.174599\tVal Loss: 0.810901\n",
      "Train Epoch: 140 [20/162 (91%)]\tLoss: 0.358420\tVal Loss: 0.810108\n",
      "Train Epoch: 141 [20/162 (91%)]\tLoss: 0.604029\tVal Loss: 0.810725\n",
      "Train Epoch: 142 [20/162 (91%)]\tLoss: 0.417033\tVal Loss: 0.810414\n",
      "Train Epoch: 143 [20/162 (91%)]\tLoss: 0.371167\tVal Loss: 0.810616\n",
      "Train Epoch: 144 [20/162 (91%)]\tLoss: 0.985758\tVal Loss: 0.810298\n",
      "Train Epoch: 145 [20/162 (91%)]\tLoss: 0.502350\tVal Loss: 0.811202\n",
      "Train Epoch: 146 [20/162 (91%)]\tLoss: 0.850991\tVal Loss: 0.813418\n",
      "Train Epoch: 147 [20/162 (91%)]\tLoss: 0.090030\tVal Loss: 0.815002\n",
      "Train Epoch: 148 [20/162 (91%)]\tLoss: 0.035429\tVal Loss: 0.817198\n",
      "Train Epoch: 149 [20/162 (91%)]\tLoss: 0.174829\tVal Loss: 0.818300\n",
      "Train Epoch: 150 [20/162 (91%)]\tLoss: 0.003324\tVal Loss: 0.818773\n",
      "Train Epoch: 151 [20/162 (91%)]\tLoss: 1.046655\tVal Loss: 0.819598\n",
      "Train Epoch: 152 [20/162 (91%)]\tLoss: 0.117029\tVal Loss: 0.820078\n",
      "Train Epoch: 153 [20/162 (91%)]\tLoss: 1.018011\tVal Loss: 0.821507\n",
      "Train Epoch: 154 [20/162 (91%)]\tLoss: 0.036495\tVal Loss: 0.823369\n",
      "Train Epoch: 155 [20/162 (91%)]\tLoss: 0.361755\tVal Loss: 0.825099\n",
      "Train Epoch: 156 [20/162 (91%)]\tLoss: 0.033721\tVal Loss: 0.827543\n",
      "Train Epoch: 157 [20/162 (91%)]\tLoss: 0.019253\tVal Loss: 0.828226\n",
      "Train Epoch: 158 [20/162 (91%)]\tLoss: 0.548250\tVal Loss: 0.828802\n",
      "Train Epoch: 159 [20/162 (91%)]\tLoss: 0.447368\tVal Loss: 0.828224\n",
      "Train Epoch: 160 [20/162 (91%)]\tLoss: 0.456287\tVal Loss: 0.827374\n",
      "Train Epoch: 161 [20/162 (91%)]\tLoss: 0.601095\tVal Loss: 0.827511\n",
      "Train Epoch: 162 [20/162 (91%)]\tLoss: 0.012537\tVal Loss: 0.827044\n",
      "Train Epoch: 163 [20/162 (91%)]\tLoss: 0.312813\tVal Loss: 0.826629\n",
      "Train Epoch: 164 [20/162 (91%)]\tLoss: 0.369256\tVal Loss: 0.827206\n",
      "Train Epoch: 165 [20/162 (91%)]\tLoss: 0.137656\tVal Loss: 0.827582\n",
      "Train Epoch: 166 [20/162 (91%)]\tLoss: 0.116245\tVal Loss: 0.827890\n",
      "Train Epoch: 167 [20/162 (91%)]\tLoss: 0.597770\tVal Loss: 0.826641\n",
      "Train Epoch: 168 [20/162 (91%)]\tLoss: 0.221045\tVal Loss: 0.825630\n",
      "Train Epoch: 169 [20/162 (91%)]\tLoss: 0.005361\tVal Loss: 0.825484\n",
      "Train Epoch: 170 [20/162 (91%)]\tLoss: 0.361254\tVal Loss: 0.826015\n",
      "Train Epoch: 171 [20/162 (91%)]\tLoss: 1.634549\tVal Loss: 0.826069\n",
      "Train Epoch: 172 [20/162 (91%)]\tLoss: 0.044918\tVal Loss: 0.823589\n",
      "Train Epoch: 173 [20/162 (91%)]\tLoss: 0.598732\tVal Loss: 0.823367\n",
      "Train Epoch: 174 [20/162 (91%)]\tLoss: 0.199213\tVal Loss: 0.822771\n",
      "Train Epoch: 175 [20/162 (91%)]\tLoss: 0.782257\tVal Loss: 0.823702\n",
      "Train Epoch: 176 [20/162 (91%)]\tLoss: 1.205245\tVal Loss: 0.826012\n",
      "Train Epoch: 177 [20/162 (91%)]\tLoss: 0.413919\tVal Loss: 0.828583\n",
      "Train Epoch: 178 [20/162 (91%)]\tLoss: 1.018874\tVal Loss: 0.828343\n",
      "Train Epoch: 179 [20/162 (91%)]\tLoss: 0.734373\tVal Loss: 0.827503\n",
      "Train Epoch: 180 [20/162 (91%)]\tLoss: 0.134153\tVal Loss: 0.827931\n",
      "Train Epoch: 181 [20/162 (91%)]\tLoss: 0.787210\tVal Loss: 0.827789\n",
      "Train Epoch: 182 [20/162 (91%)]\tLoss: 0.036642\tVal Loss: 0.828646\n",
      "Train Epoch: 183 [20/162 (91%)]\tLoss: 1.656647\tVal Loss: 0.828914\n",
      "Train Epoch: 184 [20/162 (91%)]\tLoss: 0.602744\tVal Loss: 0.827195\n",
      "Train Epoch: 185 [20/162 (91%)]\tLoss: 0.443643\tVal Loss: 0.828677\n",
      "Train Epoch: 186 [20/162 (91%)]\tLoss: 0.408289\tVal Loss: 0.829188\n",
      "Train Epoch: 187 [20/162 (91%)]\tLoss: 0.726682\tVal Loss: 0.829439\n",
      "Train Epoch: 188 [20/162 (91%)]\tLoss: 0.334852\tVal Loss: 0.829910\n",
      "Train Epoch: 189 [20/162 (91%)]\tLoss: 0.654782\tVal Loss: 0.830331\n",
      "Train Epoch: 190 [20/162 (91%)]\tLoss: 0.420846\tVal Loss: 0.831378\n",
      "Train Epoch: 191 [20/162 (91%)]\tLoss: 0.170505\tVal Loss: 0.832415\n",
      "Train Epoch: 192 [20/162 (91%)]\tLoss: 0.594301\tVal Loss: 0.834383\n",
      "Train Epoch: 193 [20/162 (91%)]\tLoss: 0.016577\tVal Loss: 0.833762\n",
      "Train Epoch: 194 [20/162 (91%)]\tLoss: 0.618933\tVal Loss: 0.833815\n",
      "Train Epoch: 195 [20/162 (91%)]\tLoss: 0.644259\tVal Loss: 0.833246\n",
      "Train Epoch: 196 [20/162 (91%)]\tLoss: 0.529972\tVal Loss: 0.833674\n",
      "Train Epoch: 197 [20/162 (91%)]\tLoss: 0.146179\tVal Loss: 0.833394\n",
      "Train Epoch: 198 [20/162 (91%)]\tLoss: 0.410889\tVal Loss: 0.834376\n",
      "Train Epoch: 199 [20/162 (91%)]\tLoss: 0.026936\tVal Loss: 0.833369\n",
      "Train Epoch: 200 [20/162 (91%)]\tLoss: 0.404744\tVal Loss: 0.833249\n"
     ]
    }
   ],
   "source": [
    "from matrix_factorization.utils import train_model\n",
    "train_losses, val_losses = train_model(model, trn_dl, optimizer, criterion, 200, \n",
    "                           val_loader=val_dl)"
   ]
  },
  {
   "cell_type": "code",
   "execution_count": 226,
   "metadata": {},
   "outputs": [
    {
     "data": {
      "text/plain": [
       "[<matplotlib.lines.Line2D at 0x7f5c9c1c1be0>]"
      ]
     },
     "execution_count": 226,
     "metadata": {},
     "output_type": "execute_result"
    },
    {
     "data": {
      "image/png": "[encoded data removed]",
      "text/plain": [
       "<matplotlib.figure.Figure at 0x7f5c9c230898>"
      ]
     },
     "metadata": {
      "image/png": {
       "height": 254,
       "width": 386
      }
     },
     "output_type": "display_data"
    }
   ],
   "source": [
    "plt.plot(train_losses)"
   ]
  },
  {
   "cell_type": "code",
   "execution_count": 227,
   "metadata": {},
   "outputs": [],
   "source": [
    "import torch\n",
    "def get_loss(preds, targets):\n",
    "    return nn.MSELoss()(torch.FloatTensor(preds), torch.FloatTensor(targets)).item()"
   ]
  },
  {
   "cell_type": "code",
   "execution_count": 228,
   "metadata": {},
   "outputs": [
    {
     "data": {
      "text/plain": [
       "0.5317311882972717"
      ]
     },
     "execution_count": 228,
     "metadata": {},
     "output_type": "execute_result"
    }
   ],
   "source": [
    "targets, preds = get_predictions(model, trn_dl)\n",
    "get_loss(preds, targets)"
   ]
  },
  {
   "cell_type": "code",
   "execution_count": 229,
   "metadata": {},
   "outputs": [
    {
     "data": {
      "text/plain": [
       "0.8332489728927612"
      ]
     },
     "execution_count": 229,
     "metadata": {},
     "output_type": "execute_result"
    }
   ],
   "source": [
    "from matrix_factorization.utils import get_predictions\n",
    "targets, preds = get_predictions(model, val_dl)\n",
    "get_loss(preds, targets)"
   ]
  },
  {
   "cell_type": "code",
   "execution_count": 230,
   "metadata": {},
   "outputs": [
    {
     "data": {
      "text/html": [
       "<div>\n",
       "<style scoped>\n",
       "    .dataframe tbody tr th:only-of-type {\n",
       "        vertical-align: middle;\n",
       "    }\n",
       "\n",
       "    .dataframe tbody tr th {\n",
       "        vertical-align: top;\n",
       "    }\n",
       "\n",
       "    .dataframe thead th {\n",
       "        text-align: right;\n",
       "    }\n",
       "</style>\n",
       "<table border=\"1\" class=\"dataframe\">\n",
       "  <thead>\n",
       "    <tr style=\"text-align: right;\">\n",
       "      <th></th>\n",
       "      <th>0</th>\n",
       "      <th>1</th>\n",
       "    </tr>\n",
       "  </thead>\n",
       "  <tbody>\n",
       "    <tr>\n",
       "      <th>0</th>\n",
       "      <td>1.711302</td>\n",
       "      <td>2.0</td>\n",
       "    </tr>\n",
       "    <tr>\n",
       "      <th>1</th>\n",
       "      <td>1.711302</td>\n",
       "      <td>2.0</td>\n",
       "    </tr>\n",
       "    <tr>\n",
       "      <th>2</th>\n",
       "      <td>1.711302</td>\n",
       "      <td>2.0</td>\n",
       "    </tr>\n",
       "    <tr>\n",
       "      <th>3</th>\n",
       "      <td>2.126541</td>\n",
       "      <td>2.0</td>\n",
       "    </tr>\n",
       "    <tr>\n",
       "      <th>4</th>\n",
       "      <td>2.126541</td>\n",
       "      <td>3.0</td>\n",
       "    </tr>\n",
       "    <tr>\n",
       "      <th>5</th>\n",
       "      <td>2.126541</td>\n",
       "      <td>3.0</td>\n",
       "    </tr>\n",
       "    <tr>\n",
       "      <th>6</th>\n",
       "      <td>2.141827</td>\n",
       "      <td>3.0</td>\n",
       "    </tr>\n",
       "    <tr>\n",
       "      <th>7</th>\n",
       "      <td>2.141827</td>\n",
       "      <td>1.0</td>\n",
       "    </tr>\n",
       "    <tr>\n",
       "      <th>8</th>\n",
       "      <td>2.141827</td>\n",
       "      <td>3.0</td>\n",
       "    </tr>\n",
       "    <tr>\n",
       "      <th>9</th>\n",
       "      <td>2.108677</td>\n",
       "      <td>1.0</td>\n",
       "    </tr>\n",
       "    <tr>\n",
       "      <th>10</th>\n",
       "      <td>2.108677</td>\n",
       "      <td>2.0</td>\n",
       "    </tr>\n",
       "    <tr>\n",
       "      <th>11</th>\n",
       "      <td>2.108677</td>\n",
       "      <td>2.0</td>\n",
       "    </tr>\n",
       "    <tr>\n",
       "      <th>12</th>\n",
       "      <td>2.607002</td>\n",
       "      <td>1.0</td>\n",
       "    </tr>\n",
       "    <tr>\n",
       "      <th>13</th>\n",
       "      <td>2.607002</td>\n",
       "      <td>3.0</td>\n",
       "    </tr>\n",
       "    <tr>\n",
       "      <th>14</th>\n",
       "      <td>2.607002</td>\n",
       "      <td>1.0</td>\n",
       "    </tr>\n",
       "    <tr>\n",
       "      <th>15</th>\n",
       "      <td>1.036569</td>\n",
       "      <td>3.0</td>\n",
       "    </tr>\n",
       "    <tr>\n",
       "      <th>16</th>\n",
       "      <td>1.036569</td>\n",
       "      <td>1.0</td>\n",
       "    </tr>\n",
       "    <tr>\n",
       "      <th>17</th>\n",
       "      <td>1.036569</td>\n",
       "      <td>1.0</td>\n",
       "    </tr>\n",
       "  </tbody>\n",
       "</table>\n",
       "</div>"
      ],
      "text/plain": [
       "           0    1\n",
       "0   1.711302  2.0\n",
       "1   1.711302  2.0\n",
       "2   1.711302  2.0\n",
       "3   2.126541  2.0\n",
       "4   2.126541  3.0\n",
       "5   2.126541  3.0\n",
       "6   2.141827  3.0\n",
       "7   2.141827  1.0\n",
       "8   2.141827  3.0\n",
       "9   2.108677  1.0\n",
       "10  2.108677  2.0\n",
       "11  2.108677  2.0\n",
       "12  2.607002  1.0\n",
       "13  2.607002  3.0\n",
       "14  2.607002  1.0\n",
       "15  1.036569  3.0\n",
       "16  1.036569  1.0\n",
       "17  1.036569  1.0"
      ]
     },
     "execution_count": 230,
     "metadata": {},
     "output_type": "execute_result"
    }
   ],
   "source": [
    "pd.DataFrame(np.stack([preds, targets]).T)"
   ]
  },
  {
   "cell_type": "code",
   "execution_count": null,
   "metadata": {},
   "outputs": [],
   "source": []
  }
 ],
 "metadata": {
  "kernelspec": {
   "display_name": "Python 3",
   "language": "python",
   "name": "python3"
  },
  "language_info": {
   "codemirror_mode": {
    "name": "ipython",
    "version": 3
   },
   "file_extension": ".py",
   "mimetype": "text/x-python",
   "name": "python",
   "nbconvert_exporter": "python",
   "pygments_lexer": "ipython3",
   "version": "3.6.4"
  }
 },
 "nbformat": 4,
 "nbformat_minor": 2
}
