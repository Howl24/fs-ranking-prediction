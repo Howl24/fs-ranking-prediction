{
 "cells": [
  {
   "cell_type": "code",
   "execution_count": 1,
   "metadata": {},
   "outputs": [],
   "source": [
    "%load_ext autoreload\n",
    "%autoreload 2\n",
    "%matplotlib inline"
   ]
  },
  {
   "cell_type": "code",
   "execution_count": 2,
   "metadata": {},
   "outputs": [],
   "source": [
    "from project.ranker.ranker import RankingPredictor\n",
    "from project.ranker.ranker import RandomRankingPredictor\n",
    "from sklearn.pipeline import Pipeline\n",
    "from sklearn.preprocessing import StandardScaler\n",
    "import numpy as np\n",
    "import pandas as pd\n",
    "import matplotlib.pyplot as plt"
   ]
  },
  {
   "cell_type": "code",
   "execution_count": null,
   "metadata": {},
   "outputs": [],
   "source": [
    "# Lectura de datasets\n",
    "from project.utils import read_datasets\n",
    "datasets = read_datasets(\"ma\")"
   ]
  },
  {
   "cell_type": "code",
   "execution_count": 4,
   "metadata": {},
   "outputs": [],
   "source": [
    "# baseline predictors"
   ]
  },
  {
   "cell_type": "code",
   "execution_count": 5,
   "metadata": {},
   "outputs": [],
   "source": [
    "rp = Pipeline([\n",
    "    ('scale', StandardScaler()),\n",
    "    ('estimator', RankingPredictor(\"ma_100\", n_neighbors=5)),\n",
    "])"
   ]
  },
  {
   "cell_type": "code",
   "execution_count": 6,
   "metadata": {},
   "outputs": [],
   "source": [
    "rrp = RandomRankingPredictor()"
   ]
  },
  {
   "cell_type": "code",
   "execution_count": 7,
   "metadata": {},
   "outputs": [],
   "source": [
    "# Meta data"
   ]
  },
  {
   "cell_type": "code",
   "execution_count": 8,
   "metadata": {},
   "outputs": [],
   "source": [
    "mf, fs = rp.named_steps['estimator']._get_data()"
   ]
  },
  {
   "cell_type": "code",
   "execution_count": 243,
   "metadata": {},
   "outputs": [],
   "source": [
    "X = mf.toDataFrame()"
   ]
  },
  {
   "cell_type": "code",
   "execution_count": 244,
   "metadata": {},
   "outputs": [
    {
     "data": {
      "text/html": [
       "<div>\n",
       "<style scoped>\n",
       "    .dataframe tbody tr th:only-of-type {\n",
       "        vertical-align: middle;\n",
       "    }\n",
       "\n",
       "    .dataframe tbody tr th {\n",
       "        vertical-align: top;\n",
       "    }\n",
       "\n",
       "    .dataframe thead th {\n",
       "        text-align: right;\n",
       "    }\n",
       "</style>\n",
       "<table border=\"1\" class=\"dataframe\">\n",
       "  <thead>\n",
       "    <tr style=\"text-align: right;\">\n",
       "      <th></th>\n",
       "      <th>X_correlation_max</th>\n",
       "      <th>X_correlation_mean</th>\n",
       "      <th>X_correlation_min</th>\n",
       "      <th>X_covariance_max</th>\n",
       "      <th>X_covariance_mean</th>\n",
       "      <th>X_covariance_min</th>\n",
       "      <th>X_exp_var_max</th>\n",
       "      <th>X_exp_var_n_t80_cumsum</th>\n",
       "      <th>X_kurtosis_max</th>\n",
       "      <th>X_kurtosis_mean</th>\n",
       "      <th>...</th>\n",
       "      <th>X_stand_dev_min</th>\n",
       "      <th>X_std_covariance_max</th>\n",
       "      <th>X_std_covariance_mean</th>\n",
       "      <th>X_std_covariance_min</th>\n",
       "      <th>X_std_exp_var_max</th>\n",
       "      <th>X_var_coef_max</th>\n",
       "      <th>X_var_coef_mean</th>\n",
       "      <th>X_var_coef_min</th>\n",
       "      <th>y_norm_class_entropy_none</th>\n",
       "      <th>y_num_classes_none</th>\n",
       "    </tr>\n",
       "    <tr>\n",
       "      <th>dataset</th>\n",
       "      <th></th>\n",
       "      <th></th>\n",
       "      <th></th>\n",
       "      <th></th>\n",
       "      <th></th>\n",
       "      <th></th>\n",
       "      <th></th>\n",
       "      <th></th>\n",
       "      <th></th>\n",
       "      <th></th>\n",
       "      <th></th>\n",
       "      <th></th>\n",
       "      <th></th>\n",
       "      <th></th>\n",
       "      <th></th>\n",
       "      <th></th>\n",
       "      <th></th>\n",
       "      <th></th>\n",
       "      <th></th>\n",
       "      <th></th>\n",
       "      <th></th>\n",
       "    </tr>\n",
       "  </thead>\n",
       "  <tbody>\n",
       "    <tr>\n",
       "      <th>dataset_prostate_singh</th>\n",
       "      <td>0.994905</td>\n",
       "      <td>0.001368</td>\n",
       "      <td>-0.989840</td>\n",
       "      <td>6.501921e+06</td>\n",
       "      <td>29.654376</td>\n",
       "      <td>-1.662059e+06</td>\n",
       "      <td>0.538233</td>\n",
       "      <td>3</td>\n",
       "      <td>96.809515</td>\n",
       "      <td>3.634957</td>\n",
       "      <td>...</td>\n",
       "      <td>45.069954</td>\n",
       "      <td>0.994905</td>\n",
       "      <td>0.001368</td>\n",
       "      <td>-0.989840</td>\n",
       "      <td>0.635789</td>\n",
       "      <td>24.644940</td>\n",
       "      <td>0.968532</td>\n",
       "      <td>0.393882</td>\n",
       "      <td>0.999723</td>\n",
       "      <td>2</td>\n",
       "    </tr>\n",
       "    <tr>\n",
       "      <th>dataset_glioma_phillips</th>\n",
       "      <td>0.993589</td>\n",
       "      <td>0.026853</td>\n",
       "      <td>-0.690733</td>\n",
       "      <td>4.323435e+08</td>\n",
       "      <td>245013.502247</td>\n",
       "      <td>-6.592495e+07</td>\n",
       "      <td>0.311808</td>\n",
       "      <td>16</td>\n",
       "      <td>94.998000</td>\n",
       "      <td>6.624304</td>\n",
       "      <td>...</td>\n",
       "      <td>849.046524</td>\n",
       "      <td>0.993589</td>\n",
       "      <td>0.026853</td>\n",
       "      <td>-0.690733</td>\n",
       "      <td>0.144017</td>\n",
       "      <td>6.143025</td>\n",
       "      <td>0.497883</td>\n",
       "      <td>0.196919</td>\n",
       "      <td>0.795040</td>\n",
       "      <td>2</td>\n",
       "    </tr>\n",
       "    <tr>\n",
       "      <th>dataset_leukemia_armstrong</th>\n",
       "      <td>0.994280</td>\n",
       "      <td>0.084879</td>\n",
       "      <td>-0.916524</td>\n",
       "      <td>1.154806e+08</td>\n",
       "      <td>556524.637475</td>\n",
       "      <td>-7.348629e+07</td>\n",
       "      <td>0.249095</td>\n",
       "      <td>19</td>\n",
       "      <td>64.783987</td>\n",
       "      <td>3.472936</td>\n",
       "      <td>...</td>\n",
       "      <td>1480.763026</td>\n",
       "      <td>0.994280</td>\n",
       "      <td>0.084879</td>\n",
       "      <td>-0.916524</td>\n",
       "      <td>0.241996</td>\n",
       "      <td>2.250262</td>\n",
       "      <td>0.511498</td>\n",
       "      <td>0.239257</td>\n",
       "      <td>0.991532</td>\n",
       "      <td>3</td>\n",
       "    </tr>\n",
       "    <tr>\n",
       "      <th>dataset_breast_sotiriou</th>\n",
       "      <td>0.997310</td>\n",
       "      <td>0.703431</td>\n",
       "      <td>-0.803858</td>\n",
       "      <td>6.244864e+00</td>\n",
       "      <td>1.451080</td>\n",
       "      <td>-5.063628e+00</td>\n",
       "      <td>0.721969</td>\n",
       "      <td>3</td>\n",
       "      <td>10.362369</td>\n",
       "      <td>-0.156562</td>\n",
       "      <td>...</td>\n",
       "      <td>1.308462</td>\n",
       "      <td>0.997310</td>\n",
       "      <td>0.703431</td>\n",
       "      <td>-0.803858</td>\n",
       "      <td>0.745195</td>\n",
       "      <td>0.389483</td>\n",
       "      <td>0.202296</td>\n",
       "      <td>0.182322</td>\n",
       "      <td>0.993717</td>\n",
       "      <td>3</td>\n",
       "    </tr>\n",
       "    <tr>\n",
       "      <th>dataset_lymphoma_dave_2</th>\n",
       "      <td>0.985847</td>\n",
       "      <td>0.019387</td>\n",
       "      <td>-0.739594</td>\n",
       "      <td>5.893252e+00</td>\n",
       "      <td>0.027503</td>\n",
       "      <td>-3.396945e+00</td>\n",
       "      <td>0.124228</td>\n",
       "      <td>93</td>\n",
       "      <td>35.139636</td>\n",
       "      <td>1.273938</td>\n",
       "      <td>...</td>\n",
       "      <td>0.610939</td>\n",
       "      <td>0.985847</td>\n",
       "      <td>0.019387</td>\n",
       "      <td>-0.739594</td>\n",
       "      <td>0.140919</td>\n",
       "      <td>0.525447</td>\n",
       "      <td>0.158073</td>\n",
       "      <td>0.086560</td>\n",
       "      <td>0.882052</td>\n",
       "      <td>4</td>\n",
       "    </tr>\n",
       "  </tbody>\n",
       "</table>\n",
       "<p>5 rows × 39 columns</p>\n",
       "</div>"
      ],
      "text/plain": [
       "                            X_correlation_max  X_correlation_mean  \\\n",
       "dataset                                                             \n",
       "dataset_prostate_singh               0.994905            0.001368   \n",
       "dataset_glioma_phillips              0.993589            0.026853   \n",
       "dataset_leukemia_armstrong           0.994280            0.084879   \n",
       "dataset_breast_sotiriou              0.997310            0.703431   \n",
       "dataset_lymphoma_dave_2              0.985847            0.019387   \n",
       "\n",
       "                            X_correlation_min  X_covariance_max  \\\n",
       "dataset                                                           \n",
       "dataset_prostate_singh              -0.989840      6.501921e+06   \n",
       "dataset_glioma_phillips             -0.690733      4.323435e+08   \n",
       "dataset_leukemia_armstrong          -0.916524      1.154806e+08   \n",
       "dataset_breast_sotiriou             -0.803858      6.244864e+00   \n",
       "dataset_lymphoma_dave_2             -0.739594      5.893252e+00   \n",
       "\n",
       "                            X_covariance_mean  X_covariance_min  \\\n",
       "dataset                                                           \n",
       "dataset_prostate_singh              29.654376     -1.662059e+06   \n",
       "dataset_glioma_phillips         245013.502247     -6.592495e+07   \n",
       "dataset_leukemia_armstrong      556524.637475     -7.348629e+07   \n",
       "dataset_breast_sotiriou              1.451080     -5.063628e+00   \n",
       "dataset_lymphoma_dave_2              0.027503     -3.396945e+00   \n",
       "\n",
       "                            X_exp_var_max  X_exp_var_n_t80_cumsum  \\\n",
       "dataset                                                             \n",
       "dataset_prostate_singh           0.538233                       3   \n",
       "dataset_glioma_phillips          0.311808                      16   \n",
       "dataset_leukemia_armstrong       0.249095                      19   \n",
       "dataset_breast_sotiriou          0.721969                       3   \n",
       "dataset_lymphoma_dave_2          0.124228                      93   \n",
       "\n",
       "                            X_kurtosis_max  X_kurtosis_mean  \\\n",
       "dataset                                                       \n",
       "dataset_prostate_singh           96.809515         3.634957   \n",
       "dataset_glioma_phillips          94.998000         6.624304   \n",
       "dataset_leukemia_armstrong       64.783987         3.472936   \n",
       "dataset_breast_sotiriou          10.362369        -0.156562   \n",
       "dataset_lymphoma_dave_2          35.139636         1.273938   \n",
       "\n",
       "                                   ...          X_stand_dev_min  \\\n",
       "dataset                            ...                            \n",
       "dataset_prostate_singh             ...                45.069954   \n",
       "dataset_glioma_phillips            ...               849.046524   \n",
       "dataset_leukemia_armstrong         ...              1480.763026   \n",
       "dataset_breast_sotiriou            ...                 1.308462   \n",
       "dataset_lymphoma_dave_2            ...                 0.610939   \n",
       "\n",
       "                            X_std_covariance_max  X_std_covariance_mean  \\\n",
       "dataset                                                                   \n",
       "dataset_prostate_singh                  0.994905               0.001368   \n",
       "dataset_glioma_phillips                 0.993589               0.026853   \n",
       "dataset_leukemia_armstrong              0.994280               0.084879   \n",
       "dataset_breast_sotiriou                 0.997310               0.703431   \n",
       "dataset_lymphoma_dave_2                 0.985847               0.019387   \n",
       "\n",
       "                            X_std_covariance_min  X_std_exp_var_max  \\\n",
       "dataset                                                               \n",
       "dataset_prostate_singh                 -0.989840           0.635789   \n",
       "dataset_glioma_phillips                -0.690733           0.144017   \n",
       "dataset_leukemia_armstrong             -0.916524           0.241996   \n",
       "dataset_breast_sotiriou                -0.803858           0.745195   \n",
       "dataset_lymphoma_dave_2                -0.739594           0.140919   \n",
       "\n",
       "                            X_var_coef_max  X_var_coef_mean  X_var_coef_min  \\\n",
       "dataset                                                                       \n",
       "dataset_prostate_singh           24.644940         0.968532        0.393882   \n",
       "dataset_glioma_phillips           6.143025         0.497883        0.196919   \n",
       "dataset_leukemia_armstrong        2.250262         0.511498        0.239257   \n",
       "dataset_breast_sotiriou           0.389483         0.202296        0.182322   \n",
       "dataset_lymphoma_dave_2           0.525447         0.158073        0.086560   \n",
       "\n",
       "                            y_norm_class_entropy_none  y_num_classes_none  \n",
       "dataset                                                                    \n",
       "dataset_prostate_singh                       0.999723                   2  \n",
       "dataset_glioma_phillips                      0.795040                   2  \n",
       "dataset_leukemia_armstrong                   0.991532                   3  \n",
       "dataset_breast_sotiriou                      0.993717                   3  \n",
       "dataset_lymphoma_dave_2                      0.882052                   4  \n",
       "\n",
       "[5 rows x 39 columns]"
      ]
     },
     "execution_count": 244,
     "metadata": {},
     "output_type": "execute_result"
    }
   ],
   "source": [
    "X.head()"
   ]
  },
  {
   "cell_type": "code",
   "execution_count": 425,
   "metadata": {},
   "outputs": [],
   "source": [
    "y, ys = fs.ranking(\"max\", return_scores=True)"
   ]
  },
  {
   "cell_type": "code",
   "execution_count": 246,
   "metadata": {},
   "outputs": [
    {
     "data": {
      "text/plain": [
       "minmax_random_forest_linearSVC     5.683333\n",
       "minmax_fisher_linearSVC            5.950000\n",
       "minmax_chi_square_linearSVC        6.333333\n",
       "minmax_fisher_naiveBayes           6.483333\n",
       "minmax_random_forest_naiveBayes    6.600000\n",
       "minmax_chi_square_logReg           7.150000\n",
       "minmax_chi_square_naiveBayes       7.200000\n",
       "minmax_random_forest_logReg        7.233333\n",
       "minmax_reliefF_linearSVC           7.366667\n",
       "minmax_rfe_svc_linearSVC           7.550000\n",
       "minmax_reliefF_naiveBayes          7.700000\n",
       "minmax_reliefF_logReg              7.833333\n",
       "minmax_fisher_logReg               7.916667\n",
       "dtype: float64"
      ]
     },
     "execution_count": 246,
     "metadata": {},
     "output_type": "execute_result"
    }
   ],
   "source": [
    "y.mean().sort_values()"
   ]
  },
  {
   "cell_type": "code",
   "execution_count": 247,
   "metadata": {},
   "outputs": [],
   "source": [
    "X = X.values\n",
    "y = y.values\n",
    "ys = ys.values"
   ]
  },
  {
   "cell_type": "code",
   "execution_count": 248,
   "metadata": {},
   "outputs": [],
   "source": [
    "# Train test split "
   ]
  },
  {
   "cell_type": "code",
   "execution_count": 251,
   "metadata": {},
   "outputs": [],
   "source": [
    "from sklearn.model_selection import train_test_split\n",
    "X_train, X_test, y_train, y_test, y_scores_train, y_scores_test = train_test_split(X, y, ys)"
   ]
  },
  {
   "cell_type": "code",
   "execution_count": 252,
   "metadata": {},
   "outputs": [],
   "source": [
    "# Random Ranker metric evaluation"
   ]
  },
  {
   "cell_type": "code",
   "execution_count": 275,
   "metadata": {},
   "outputs": [],
   "source": [
    "y_pred = rrp.fit(X_train, y_train).predict(X_test)"
   ]
  },
  {
   "cell_type": "code",
   "execution_count": 276,
   "metadata": {},
   "outputs": [],
   "source": [
    "from project.utils.metrics import evaluate_metric"
   ]
  },
  {
   "cell_type": "code",
   "execution_count": 277,
   "metadata": {},
   "outputs": [
    {
     "data": {
      "text/plain": [
       "-0.019047619047619035"
      ]
     },
     "execution_count": 277,
     "metadata": {},
     "output_type": "execute_result"
    }
   ],
   "source": [
    "evaluate_metric(\"spearman\", y_test, y_pred)"
   ]
  },
  {
   "cell_type": "code",
   "execution_count": 278,
   "metadata": {},
   "outputs": [
    {
     "data": {
      "text/plain": [
       "0.12097950765050244"
      ]
     },
     "execution_count": 278,
     "metadata": {},
     "output_type": "execute_result"
    }
   ],
   "source": [
    "evaluate_metric(\"mean_acc_loss\", y_scores_test, y_pred)"
   ]
  },
  {
   "cell_type": "code",
   "execution_count": null,
   "metadata": {},
   "outputs": [],
   "source": []
  },
  {
   "cell_type": "code",
   "execution_count": 257,
   "metadata": {},
   "outputs": [],
   "source": [
    "# KNN Ranker metric evaluation"
   ]
  },
  {
   "cell_type": "code",
   "execution_count": 261,
   "metadata": {},
   "outputs": [],
   "source": [
    "y_pred = rp.fit(X_train, y_train).predict(X_test)"
   ]
  },
  {
   "cell_type": "code",
   "execution_count": 262,
   "metadata": {},
   "outputs": [
    {
     "data": {
      "text/plain": [
       "0.0750915750915751"
      ]
     },
     "execution_count": 262,
     "metadata": {},
     "output_type": "execute_result"
    }
   ],
   "source": [
    "evaluate_metric(\"spearman\", y_test, y_pred)"
   ]
  },
  {
   "cell_type": "code",
   "execution_count": 263,
   "metadata": {},
   "outputs": [
    {
     "data": {
      "text/plain": [
       "0.1437576456065914"
      ]
     },
     "execution_count": 263,
     "metadata": {},
     "output_type": "execute_result"
    }
   ],
   "source": [
    "evaluate_metric(\"mean_acc_loss\", y_scores_test, y_pred)"
   ]
  },
  {
   "cell_type": "code",
   "execution_count": 36,
   "metadata": {},
   "outputs": [],
   "source": [
    "# metricas en validación cruzada"
   ]
  },
  {
   "cell_type": "code",
   "execution_count": 279,
   "metadata": {},
   "outputs": [],
   "source": [
    "from sklearn.model_selection import cross_val_predict\n",
    "from sklearn.model_selection import KFold"
   ]
  },
  {
   "cell_type": "code",
   "execution_count": 330,
   "metadata": {},
   "outputs": [],
   "source": [
    "cv = KFold(n_splits=5, shuffle=True)"
   ]
  },
  {
   "cell_type": "code",
   "execution_count": 331,
   "metadata": {},
   "outputs": [],
   "source": [
    "spearman = []\n",
    "acc_loss = []\n",
    "for i in range(100):\n",
    "    y_pred = cross_val_predict(rrp, X, y, cv=cv)\n",
    "    spearman.append(evaluate_metric(\"spearman\", y, y_pred))\n",
    "    acc_loss.append(evaluate_metric(\"mean_acc_loss\", ys, y_pred))"
   ]
  },
  {
   "cell_type": "code",
   "execution_count": 332,
   "metadata": {},
   "outputs": [
    {
     "name": "stdout",
     "output_type": "stream",
     "text": [
      "Spearman: \n",
      "mean:  0.0022930402930402935\n",
      "std:  0.03776097967248271\n"
     ]
    }
   ],
   "source": [
    "print(\"Spearman: \")\n",
    "print(\"mean: \", np.mean(spearman))      \n",
    "print(\"std: \", np.std(spearman))"
   ]
  },
  {
   "cell_type": "code",
   "execution_count": 333,
   "metadata": {},
   "outputs": [
    {
     "name": "stdout",
     "output_type": "stream",
     "text": [
      "Acc Loss: \n",
      "mean:  0.1395021753704942\n",
      "std:  0.016898490180910945\n"
     ]
    }
   ],
   "source": [
    "print(\"Acc Loss: \")\n",
    "print(\"mean: \", np.mean(acc_loss))      \n",
    "print(\"std: \", np.std(acc_loss))"
   ]
  },
  {
   "cell_type": "code",
   "execution_count": null,
   "metadata": {},
   "outputs": [],
   "source": []
  },
  {
   "cell_type": "code",
   "execution_count": 334,
   "metadata": {},
   "outputs": [],
   "source": [
    "rp = Pipeline([\n",
    "    ('scale', StandardScaler()),\n",
    "    ('estimator', RankingPredictor(\"ma_100\", n_neighbors=5)),\n",
    "])"
   ]
  },
  {
   "cell_type": "code",
   "execution_count": 335,
   "metadata": {},
   "outputs": [],
   "source": [
    "spearman = []\n",
    "acc_loss = []\n",
    "for i in range(100):\n",
    "    y_pred = cross_val_predict(rp, X, y, cv=cv)\n",
    "    spearman.append(evaluate_metric(\"spearman\", y, y_pred))\n",
    "    acc_loss.append(evaluate_metric(\"mean_acc_loss\", ys, y_pred))"
   ]
  },
  {
   "cell_type": "code",
   "execution_count": 336,
   "metadata": {},
   "outputs": [
    {
     "name": "stdout",
     "output_type": "stream",
     "text": [
      "Spearman: \n",
      "mean:  0.026293956043956034\n",
      "std:  0.03408753021537794\n",
      "Acc Loss: \n",
      "mean:  0.15483204881811952\n",
      "std:  0.014031918857795743\n"
     ]
    }
   ],
   "source": [
    "print(\"Spearman: \")\n",
    "print(\"mean: \", np.mean(spearman))      \n",
    "print(\"std: \", np.std(spearman))\n",
    "\n",
    "print(\"Acc Loss: \")\n",
    "print(\"mean: \", np.mean(acc_loss))      \n",
    "print(\"std: \", np.std(acc_loss))"
   ]
  },
  {
   "cell_type": "code",
   "execution_count": null,
   "metadata": {},
   "outputs": [],
   "source": []
  },
  {
   "cell_type": "code",
   "execution_count": 337,
   "metadata": {},
   "outputs": [],
   "source": [
    "# Feature selection"
   ]
  },
  {
   "cell_type": "code",
   "execution_count": 338,
   "metadata": {},
   "outputs": [],
   "source": [
    "from sklearn.feature_selection import VarianceThreshold"
   ]
  },
  {
   "cell_type": "code",
   "execution_count": 342,
   "metadata": {},
   "outputs": [],
   "source": [
    "rp = Pipeline([\n",
    "    ('scale', MinMaxScaler()),\n",
    "    ('fs', VarianceThreshold(0.05)),\n",
    "    ('estimator', RankingPredictor(\"ma_100\", n_neighbors=5)),\n",
    "])"
   ]
  },
  {
   "cell_type": "code",
   "execution_count": 343,
   "metadata": {},
   "outputs": [],
   "source": [
    "spearman = []\n",
    "acc_loss = []\n",
    "for i in range(100):\n",
    "    y_pred = cross_val_predict(rp, X, y, cv=cv)\n",
    "    spearman.append(evaluate_metric(\"spearman\", y, y_pred))\n",
    "    acc_loss.append(evaluate_metric(\"mean_acc_loss\", ys, y_pred))"
   ]
  },
  {
   "cell_type": "code",
   "execution_count": 344,
   "metadata": {},
   "outputs": [
    {
     "name": "stdout",
     "output_type": "stream",
     "text": [
      "Spearman: \n",
      "mean:  0.05876739926739926\n",
      "std:  0.03826208667551665\n",
      "\n",
      "Acc Loss: \n",
      "mean:  0.15344102544252428\n",
      "std:  0.01514804158519196\n"
     ]
    }
   ],
   "source": [
    "print(\"Spearman: \")\n",
    "print(\"mean: \", np.mean(spearman))      \n",
    "print(\"std: \", np.std(spearman))\n",
    "print()\n",
    "\n",
    "print(\"Acc Loss: \")\n",
    "print(\"mean: \", np.mean(acc_loss))      \n",
    "print(\"std: \", np.std(acc_loss))"
   ]
  },
  {
   "cell_type": "code",
   "execution_count": null,
   "metadata": {},
   "outputs": [],
   "source": []
  },
  {
   "cell_type": "code",
   "execution_count": 352,
   "metadata": {},
   "outputs": [],
   "source": [
    "def evaluate(pipeline, X, y, ys, print_values=False):\n",
    "    spearman = []\n",
    "    acc_loss = []\n",
    "    for i in range(100):\n",
    "        y_pred = cross_val_predict(pipeline, X, y, cv=cv)\n",
    "        spearman.append(evaluate_metric(\"spearman\", y, y_pred))\n",
    "        acc_loss.append(evaluate_metric(\"mean_acc_loss\", ys, y_pred))\n",
    "    \n",
    "    \n",
    "    if print_values:\n",
    "        print(\"Spearman: \")\n",
    "        print(\"mean: \", np.mean(spearman))      \n",
    "        print(\"std: \", np.std(spearman))\n",
    "        print()\n",
    "\n",
    "        print(\"Acc Loss: \")\n",
    "        print(\"mean: \", np.mean(acc_loss))      \n",
    "        print(\"std: \", np.std(acc_loss))\n",
    "    \n",
    "    return np.mean(spearman), np.mean(acc_loss)"
   ]
  },
  {
   "cell_type": "code",
   "execution_count": 353,
   "metadata": {
    "scrolled": true
   },
   "outputs": [
    {
     "name": "stdout",
     "output_type": "stream",
     "text": [
      "K:  1\n",
      "Spearman: \n",
      "mean:  0.04598168498168498\n",
      "std:  0.03579455448558565\n",
      "\n",
      "Acc Loss: \n",
      "mean:  0.16929260727434872\n",
      "std:  0.010783346268642661\n",
      "------\n",
      "K:  2\n",
      "Spearman: \n",
      "mean:  0.04130860805860805\n",
      "std:  0.0345952227632305\n",
      "\n",
      "Acc Loss: \n",
      "mean:  0.16881140558233906\n",
      "std:  0.014933715014906049\n",
      "------\n",
      "K:  3\n",
      "Spearman: \n",
      "mean:  0.03608241758241758\n",
      "std:  0.026379558945594545\n",
      "\n",
      "Acc Loss: \n",
      "mean:  0.16287966180962937\n",
      "std:  0.012198867852519679\n",
      "------\n",
      "K:  4\n",
      "Spearman: \n",
      "mean:  0.02572985347985348\n",
      "std:  0.036420233538346086\n",
      "\n",
      "Acc Loss: \n",
      "mean:  0.16002523403418356\n",
      "std:  0.015757595529060506\n",
      "------\n",
      "K:  5\n",
      "Spearman: \n",
      "mean:  0.027885531135531133\n",
      "std:  0.033084283493328516\n",
      "\n",
      "Acc Loss: \n",
      "mean:  0.15521396121645087\n",
      "std:  0.013449213821261642\n",
      "------\n",
      "K:  6\n",
      "Spearman: \n",
      "mean:  0.012502747252747254\n",
      "std:  0.03323884550907579\n",
      "\n",
      "Acc Loss: \n",
      "mean:  0.16043975629761473\n",
      "std:  0.013387268964286821\n",
      "------\n",
      "K:  7\n",
      "Spearman: \n",
      "mean:  0.034083333333333334\n",
      "std:  0.02991999908110544\n",
      "\n",
      "Acc Loss: \n",
      "mean:  0.15512227146194382\n",
      "std:  0.013447069492423441\n",
      "------\n",
      "K:  8\n",
      "Spearman: \n",
      "mean:  0.04781501831501831\n",
      "std:  0.030291728149691926\n",
      "\n",
      "Acc Loss: \n",
      "mean:  0.15125174034156336\n",
      "std:  0.012363052889297425\n",
      "------\n",
      "K:  9\n",
      "Spearman: \n",
      "mean:  0.06485622710622711\n",
      "std:  0.031346855713351655\n",
      "\n",
      "Acc Loss: \n",
      "mean:  0.1449728893411522\n",
      "std:  0.012965011713239528\n",
      "------\n",
      "K:  10\n",
      "Spearman: \n",
      "mean:  0.07113003663003663\n",
      "std:  0.027513012355323812\n",
      "\n",
      "Acc Loss: \n",
      "mean:  0.148992791778363\n",
      "std:  0.011875950975585475\n",
      "------\n",
      "K:  11\n",
      "Spearman: \n",
      "mean:  0.06977197802197802\n",
      "std:  0.033000235353448294\n",
      "\n",
      "Acc Loss: \n",
      "mean:  0.1547797773167735\n",
      "std:  0.013781500161158335\n",
      "------\n",
      "K:  12\n",
      "Spearman: \n",
      "mean:  0.07286080586080584\n",
      "std:  0.026047747311670016\n",
      "\n",
      "Acc Loss: \n",
      "mean:  0.15450890164476064\n",
      "std:  0.013073111272874019\n",
      "------\n",
      "K:  13\n",
      "Spearman: \n",
      "mean:  0.07476007326007326\n",
      "std:  0.03282179489785596\n",
      "\n",
      "Acc Loss: \n",
      "mean:  0.1552881600099841\n",
      "std:  0.012584326314991557\n",
      "------\n",
      "K:  14\n",
      "Spearman: \n",
      "mean:  0.07941666666666666\n",
      "std:  0.03070341670281311\n",
      "\n",
      "Acc Loss: \n",
      "mean:  0.1551436331556551\n",
      "std:  0.012458568629861392\n",
      "------\n",
      "K:  15\n",
      "Spearman: \n",
      "mean:  0.0783040293040293\n",
      "std:  0.027261416213488134\n",
      "\n",
      "Acc Loss: \n",
      "mean:  0.1543374202787451\n",
      "std:  0.010507619118628788\n",
      "------\n",
      "K:  16\n",
      "Spearman: \n",
      "mean:  0.0820897435897436\n",
      "std:  0.029335560474398413\n",
      "\n",
      "Acc Loss: \n",
      "mean:  0.1523139237528357\n",
      "std:  0.01123097813828914\n",
      "------\n",
      "K:  17\n",
      "Spearman: \n",
      "mean:  0.08030219780219779\n",
      "std:  0.027095488108816866\n",
      "\n",
      "Acc Loss: \n",
      "mean:  0.15216405587272855\n",
      "std:  0.011617147435733366\n",
      "------\n",
      "K:  18\n",
      "Spearman: \n",
      "mean:  0.07793131868131868\n",
      "std:  0.03304537774433111\n",
      "\n",
      "Acc Loss: \n",
      "mean:  0.1509950593532071\n",
      "std:  0.012451850150523339\n",
      "------\n",
      "K:  19\n",
      "Spearman: \n",
      "mean:  0.07459157509157509\n",
      "std:  0.029227141059821767\n",
      "\n",
      "Acc Loss: \n",
      "mean:  0.15285657904811523\n",
      "std:  0.012011152571230891\n",
      "------\n",
      "K:  20\n",
      "Spearman: \n",
      "mean:  0.07233333333333335\n",
      "std:  0.03022817976286066\n",
      "\n",
      "Acc Loss: \n",
      "mean:  0.15102176632482842\n",
      "std:  0.013244308393282883\n",
      "------\n",
      "K:  21\n",
      "Spearman: \n",
      "mean:  0.06789285714285714\n",
      "std:  0.030664720073604167\n",
      "\n",
      "Acc Loss: \n",
      "mean:  0.150739898386835\n",
      "std:  0.010993123786054465\n",
      "------\n",
      "K:  22\n",
      "Spearman: \n",
      "mean:  0.06790659340659339\n",
      "std:  0.029799599740972838\n",
      "\n",
      "Acc Loss: \n",
      "mean:  0.1491181109158471\n",
      "std:  0.012867340172031328\n",
      "------\n",
      "K:  23\n",
      "Spearman: \n",
      "mean:  0.07131227106227106\n",
      "std:  0.02759297118888636\n",
      "\n",
      "Acc Loss: \n",
      "mean:  0.14527168851364242\n",
      "std:  0.010854681769663416\n",
      "------\n",
      "K:  24\n",
      "Spearman: \n",
      "mean:  0.07212271062271061\n",
      "std:  0.02804077507642603\n",
      "\n",
      "Acc Loss: \n",
      "mean:  0.14317398701361714\n",
      "std:  0.011840132085346651\n",
      "------\n",
      "K:  25\n",
      "Spearman: \n",
      "mean:  0.07217032967032967\n",
      "std:  0.027440407046840042\n",
      "\n",
      "Acc Loss: \n",
      "mean:  0.141591408086599\n",
      "std:  0.011370727694453272\n",
      "------\n",
      "K:  26\n",
      "Spearman: \n",
      "mean:  0.08018772893772892\n",
      "std:  0.027308651572172788\n",
      "\n",
      "Acc Loss: \n",
      "mean:  0.1365790076869123\n",
      "std:  0.011215656508701839\n",
      "------\n",
      "K:  27\n",
      "Spearman: \n",
      "mean:  0.08182600732600731\n",
      "std:  0.026503250403120817\n",
      "\n",
      "Acc Loss: \n",
      "mean:  0.13398294396840996\n",
      "std:  0.010344155200309915\n",
      "------\n",
      "K:  28\n",
      "Spearman: \n",
      "mean:  0.08177106227106228\n",
      "std:  0.02752739581875601\n",
      "\n",
      "Acc Loss: \n",
      "mean:  0.1332924464891518\n",
      "std:  0.009907331653858823\n",
      "------\n",
      "K:  29\n",
      "Spearman: \n",
      "mean:  0.08886172161172158\n",
      "std:  0.02799657283744867\n",
      "\n",
      "Acc Loss: \n",
      "mean:  0.12919884695658046\n",
      "std:  0.010013970725933002\n",
      "------\n",
      "K:  30\n",
      "Spearman: \n",
      "mean:  0.08724908424908426\n",
      "std:  0.025773887595971344\n",
      "\n",
      "Acc Loss: \n",
      "mean:  0.13032952126974479\n",
      "std:  0.01005273303068126\n",
      "------\n",
      "K:  31\n",
      "Spearman: \n",
      "mean:  0.08827564102564102\n",
      "std:  0.02821422910768498\n",
      "\n",
      "Acc Loss: \n",
      "mean:  0.12890658632796498\n",
      "std:  0.010861463668896867\n",
      "------\n",
      "K:  32\n",
      "Spearman: \n",
      "mean:  0.09327380952380952\n",
      "std:  0.02705864479957102\n",
      "\n",
      "Acc Loss: \n",
      "mean:  0.12838403471674872\n",
      "std:  0.009175211339902428\n",
      "------\n",
      "K:  33\n",
      "Spearman: \n",
      "mean:  0.0919230769230769\n",
      "std:  0.029681065190256702\n",
      "\n",
      "Acc Loss: \n",
      "mean:  0.1298616531202872\n",
      "std:  0.011335095439077894\n",
      "------\n",
      "K:  34\n",
      "Spearman: \n",
      "mean:  0.08692765567765569\n",
      "std:  0.02848296090075572\n",
      "\n",
      "Acc Loss: \n",
      "mean:  0.13072903740778763\n",
      "std:  0.009485166458373105\n",
      "------\n",
      "K:  35\n",
      "Spearman: \n",
      "mean:  0.0897271062271062\n",
      "std:  0.021604217282207187\n",
      "\n",
      "Acc Loss: \n",
      "mean:  0.13141744458013702\n",
      "std:  0.008045783303237871\n",
      "------\n",
      "K:  36\n",
      "Spearman: \n",
      "mean:  0.08606410256410255\n",
      "std:  0.02591512761517628\n",
      "\n",
      "Acc Loss: \n",
      "mean:  0.13301019161295244\n",
      "std:  0.009782987506219757\n",
      "------\n",
      "K:  37\n",
      "Spearman: \n",
      "mean:  0.08726923076923075\n",
      "std:  0.026679764411625326\n",
      "\n",
      "Acc Loss: \n",
      "mean:  0.13372357358437464\n",
      "std:  0.008627066838067686\n",
      "------\n",
      "K:  38\n",
      "Spearman: \n",
      "mean:  0.09323351648351648\n",
      "std:  0.024333836401819412\n",
      "\n",
      "Acc Loss: \n",
      "mean:  0.13081370564406272\n",
      "std:  0.010033020621018957\n",
      "------\n",
      "K:  39\n",
      "Spearman: \n",
      "mean:  0.09387728937728936\n",
      "std:  0.02186330339500295\n",
      "\n",
      "Acc Loss: \n",
      "mean:  0.132472248131415\n",
      "std:  0.008357797857777521\n",
      "------\n",
      "K:  40\n",
      "Spearman: \n",
      "mean:  0.0976153846153846\n",
      "std:  0.025290241560959888\n",
      "\n",
      "Acc Loss: \n",
      "mean:  0.13285070051563508\n",
      "std:  0.008748991458040709\n",
      "------\n"
     ]
    }
   ],
   "source": [
    "all_spearman = []\n",
    "all_acc_loss = []\n",
    "for k in range(1,41):    \n",
    "    rp = Pipeline([\n",
    "        ('scale', StandardScaler()),\n",
    "        ('fs', VarianceThreshold(0.05)),\n",
    "        ('estimator', RankingPredictor(\"ma_100\", n_neighbors=k)),\n",
    "    ])\n",
    "    \n",
    "    print(\"K: \", k)\n",
    "    s, a  = evaluate(rp, X, y, ys, print_values = True)\n",
    "    all_spearman.append(s)\n",
    "    all_acc_loss.append(a)\n",
    "    print(\"------\")"
   ]
  },
  {
   "cell_type": "code",
   "execution_count": 354,
   "metadata": {},
   "outputs": [
    {
     "data": {
      "text/plain": [
       "[<matplotlib.lines.Line2D at 0x7f38c099d710>]"
      ]
     },
     "execution_count": 354,
     "metadata": {},
     "output_type": "execute_result"
    },
    {
     "data": {
      "image/png": "[encoded data removed]",
      "text/plain": [
       "<matplotlib.figure.Figure at 0x7f395f8579e8>"
      ]
     },
     "metadata": {},
     "output_type": "display_data"
    }
   ],
   "source": [
    "plt.plot(all_spearman)"
   ]
  },
  {
   "cell_type": "code",
   "execution_count": 355,
   "metadata": {},
   "outputs": [
    {
     "data": {
      "text/plain": [
       "[<matplotlib.lines.Line2D at 0x7f38a76a4588>]"
      ]
     },
     "execution_count": 355,
     "metadata": {},
     "output_type": "execute_result"
    },
    {
     "data": {
      "image/png": "[encoded data removed]",
      "text/plain": [
       "<matplotlib.figure.Figure at 0x7f38f8a50c50>"
      ]
     },
     "metadata": {},
     "output_type": "display_data"
    }
   ],
   "source": [
    "plt.plot(all_acc_loss)"
   ]
  },
  {
   "cell_type": "code",
   "execution_count": null,
   "metadata": {},
   "outputs": [],
   "source": []
  },
  {
   "cell_type": "code",
   "execution_count": 420,
   "metadata": {},
   "outputs": [
    {
     "name": "stdout",
     "output_type": "stream",
     "text": [
      "K:  1\n",
      "Spearman: \n",
      "mean:  0.01811904761904761\n",
      "std:  0.03181770467139154\n",
      "\n",
      "Acc Loss: \n",
      "mean:  0.15937065712325477\n",
      "std:  0.01305010092367943\n",
      "------\n",
      "K:  2\n",
      "Spearman: \n",
      "mean:  0.02503388278388278\n",
      "std:  0.0326428907327047\n",
      "\n",
      "Acc Loss: \n",
      "mean:  0.1579930861572917\n",
      "std:  0.013109705908101166\n",
      "------\n",
      "K:  3\n",
      "Spearman: \n",
      "mean:  0.014841575091575085\n",
      "std:  0.036752611432310754\n",
      "\n",
      "Acc Loss: \n",
      "mean:  0.15902049235267168\n",
      "std:  0.015666236513603177\n",
      "------\n",
      "K:  4\n",
      "Spearman: \n",
      "mean:  0.010689560439560437\n",
      "std:  0.029492175466355082\n",
      "\n",
      "Acc Loss: \n",
      "mean:  0.15748221623045494\n",
      "std:  0.014671634246244042\n",
      "------\n",
      "K:  5\n",
      "Spearman: \n",
      "mean:  0.006634615384615381\n",
      "std:  0.0357917057332877\n",
      "\n",
      "Acc Loss: \n",
      "mean:  0.15552532278118453\n",
      "std:  0.013489301661873666\n",
      "------\n",
      "K:  6\n",
      "Spearman: \n",
      "mean:  0.012065018315018317\n",
      "std:  0.03178886919577046\n",
      "\n",
      "Acc Loss: \n",
      "mean:  0.1539547279395336\n",
      "std:  0.012861447808842717\n",
      "------\n",
      "K:  7\n",
      "Spearman: \n",
      "mean:  0.012126373626373626\n",
      "std:  0.03251813367282373\n",
      "\n",
      "Acc Loss: \n",
      "mean:  0.15549761988657498\n",
      "std:  0.015210173897485484\n",
      "------\n",
      "K:  8\n",
      "Spearman: \n",
      "mean:  0.013231684981684982\n",
      "std:  0.030529895355625964\n",
      "\n",
      "Acc Loss: \n",
      "mean:  0.1569081357309165\n",
      "std:  0.013069301027232721\n",
      "------\n",
      "K:  9\n",
      "Spearman: \n",
      "mean:  0.024961538461538462\n",
      "std:  0.02572081117696983\n",
      "\n",
      "Acc Loss: \n",
      "mean:  0.15461736215851477\n",
      "std:  0.01072701648128476\n",
      "------\n",
      "K:  10\n",
      "Spearman: \n",
      "mean:  0.037365384615384606\n",
      "std:  0.031057666197372158\n",
      "\n",
      "Acc Loss: \n",
      "mean:  0.15723188847236866\n",
      "std:  0.011328406443991619\n",
      "------\n",
      "K:  11\n",
      "Spearman: \n",
      "mean:  0.03157234432234432\n",
      "std:  0.028744080276489004\n",
      "\n",
      "Acc Loss: \n",
      "mean:  0.15823133660648542\n",
      "std:  0.011355167260039377\n",
      "------\n",
      "K:  12\n",
      "Spearman: \n",
      "mean:  0.03257051282051282\n",
      "std:  0.02599191507689799\n",
      "\n",
      "Acc Loss: \n",
      "mean:  0.15820013913898948\n",
      "std:  0.00982145106770277\n",
      "------\n",
      "K:  13\n",
      "Spearman: \n",
      "mean:  0.03858882783882784\n",
      "std:  0.031475364485841366\n",
      "\n",
      "Acc Loss: \n",
      "mean:  0.15523658855495448\n",
      "std:  0.011349470904714025\n",
      "------\n",
      "K:  14\n",
      "Spearman: \n",
      "mean:  0.03616758241758242\n",
      "std:  0.030089162648900134\n",
      "\n",
      "Acc Loss: \n",
      "mean:  0.15922487580753888\n",
      "std:  0.013030879061879445\n",
      "------\n",
      "K:  15\n",
      "Spearman: \n",
      "mean:  0.03753571428571428\n",
      "std:  0.030962931679799733\n",
      "\n",
      "Acc Loss: \n",
      "mean:  0.15477781728388326\n",
      "std:  0.0114167636662453\n",
      "------\n",
      "K:  16\n",
      "Spearman: \n",
      "mean:  0.04786172161172161\n",
      "std:  0.029427434112689946\n",
      "\n",
      "Acc Loss: \n",
      "mean:  0.1524753290071475\n",
      "std:  0.012731191292157858\n",
      "------\n",
      "K:  17\n",
      "Spearman: \n",
      "mean:  0.0511510989010989\n",
      "std:  0.029600144385558032\n",
      "\n",
      "Acc Loss: \n",
      "mean:  0.14827875881751837\n",
      "std:  0.011637508378691354\n",
      "------\n",
      "K:  18\n",
      "Spearman: \n",
      "mean:  0.059810439560439556\n",
      "std:  0.029496388612118833\n",
      "\n",
      "Acc Loss: \n",
      "mean:  0.14613172638217634\n",
      "std:  0.012156220878347442\n",
      "------\n",
      "K:  19\n",
      "Spearman: \n",
      "mean:  0.06241941391941393\n",
      "std:  0.02649275717931859\n",
      "\n",
      "Acc Loss: \n",
      "mean:  0.1447761056861742\n",
      "std:  0.012066188960508427\n",
      "------\n",
      "K:  20\n",
      "Spearman: \n",
      "mean:  0.06084890109890109\n",
      "std:  0.02845649801151372\n",
      "\n",
      "Acc Loss: \n",
      "mean:  0.14495865818480966\n",
      "std:  0.010703933854575132\n",
      "------\n",
      "K:  21\n",
      "Spearman: \n",
      "mean:  0.05960073260073259\n",
      "std:  0.02932654446401854\n",
      "\n",
      "Acc Loss: \n",
      "mean:  0.1419536214747202\n",
      "std:  0.011409794684759231\n",
      "------\n",
      "K:  22\n",
      "Spearman: \n",
      "mean:  0.05967857142857143\n",
      "std:  0.026665854349897707\n",
      "\n",
      "Acc Loss: \n",
      "mean:  0.14089335401794434\n",
      "std:  0.011550281897592305\n",
      "------\n",
      "K:  23\n",
      "Spearman: \n",
      "mean:  0.05126923076923076\n",
      "std:  0.027730924667877584\n",
      "\n",
      "Acc Loss: \n",
      "mean:  0.14192889689715663\n",
      "std:  0.011584368794164506\n",
      "------\n",
      "K:  24\n",
      "Spearman: \n",
      "mean:  0.056849816849816846\n",
      "std:  0.026181682224541217\n",
      "\n",
      "Acc Loss: \n",
      "mean:  0.1380696282886182\n",
      "std:  0.010750550556139465\n",
      "------\n",
      "K:  25\n",
      "Spearman: \n",
      "mean:  0.05777655677655678\n",
      "std:  0.025954056909857137\n",
      "\n",
      "Acc Loss: \n",
      "mean:  0.13565679681218307\n",
      "std:  0.010797879041718455\n",
      "------\n",
      "K:  26\n",
      "Spearman: \n",
      "mean:  0.058814102564102556\n",
      "std:  0.027490868038511897\n",
      "\n",
      "Acc Loss: \n",
      "mean:  0.13537707032756496\n",
      "std:  0.012243081564176573\n",
      "------\n",
      "K:  27\n",
      "Spearman: \n",
      "mean:  0.0611959706959707\n",
      "std:  0.026041352978829636\n",
      "\n",
      "Acc Loss: \n",
      "mean:  0.13401191016463443\n",
      "std:  0.01016646862862815\n",
      "------\n",
      "K:  28\n",
      "Spearman: \n",
      "mean:  0.06128296703296703\n",
      "std:  0.027771487787291525\n",
      "\n",
      "Acc Loss: \n",
      "mean:  0.13459804131172118\n",
      "std:  0.012188201329311017\n",
      "------\n",
      "K:  29\n",
      "Spearman: \n",
      "mean:  0.0645521978021978\n",
      "std:  0.02565813170565523\n",
      "\n",
      "Acc Loss: \n",
      "mean:  0.1323536280405108\n",
      "std:  0.010194146461073203\n",
      "------\n",
      "K:  30\n",
      "Spearman: \n",
      "mean:  0.06839835164835165\n",
      "std:  0.027170266691161852\n",
      "\n",
      "Acc Loss: \n",
      "mean:  0.13233932479689245\n",
      "std:  0.01163642771112292\n",
      "------\n",
      "K:  31\n",
      "Spearman: \n",
      "mean:  0.06671245421245421\n",
      "std:  0.027929545714342075\n",
      "\n",
      "Acc Loss: \n",
      "mean:  0.13508367477932431\n",
      "std:  0.011051770797323918\n",
      "------\n",
      "K:  32\n",
      "Spearman: \n",
      "mean:  0.07104487179487179\n",
      "std:  0.026298101361425734\n",
      "\n",
      "Acc Loss: \n",
      "mean:  0.1348828910621067\n",
      "std:  0.01096318827099724\n",
      "------\n",
      "K:  33\n",
      "Spearman: \n",
      "mean:  0.07495421245421245\n",
      "std:  0.02634550132177939\n",
      "\n",
      "Acc Loss: \n",
      "mean:  0.13379376928588044\n",
      "std:  0.010291501646430492\n",
      "------\n",
      "K:  34\n",
      "Spearman: \n",
      "mean:  0.07438278388278388\n",
      "std:  0.028634729058865414\n",
      "\n",
      "Acc Loss: \n",
      "mean:  0.13293879779178414\n",
      "std:  0.011719255708202526\n",
      "------\n",
      "K:  35\n",
      "Spearman: \n",
      "mean:  0.07058333333333335\n",
      "std:  0.02660082192791048\n",
      "\n",
      "Acc Loss: \n",
      "mean:  0.13330298711179808\n",
      "std:  0.01025003005168108\n",
      "------\n",
      "K:  36\n",
      "Spearman: \n",
      "mean:  0.0774496336996337\n",
      "std:  0.026936259807934113\n",
      "\n",
      "Acc Loss: \n",
      "mean:  0.13172309963965884\n",
      "std:  0.01040305117677331\n",
      "------\n",
      "K:  37\n",
      "Spearman: \n",
      "mean:  0.08111172161172162\n",
      "std:  0.023705784921674716\n",
      "\n",
      "Acc Loss: \n",
      "mean:  0.12893255578650467\n",
      "std:  0.007871167003880124\n",
      "------\n",
      "K:  38\n",
      "Spearman: \n",
      "mean:  0.08527655677655677\n",
      "std:  0.022611481509546616\n",
      "\n",
      "Acc Loss: \n",
      "mean:  0.1312765003994361\n",
      "std:  0.008707855701295912\n",
      "------\n",
      "K:  39\n",
      "Spearman: \n",
      "mean:  0.09140109890109888\n",
      "std:  0.02163322136330969\n",
      "\n",
      "Acc Loss: \n",
      "mean:  0.1316492326138091\n",
      "std:  0.007904693040684857\n",
      "------\n",
      "K:  40\n",
      "Spearman: \n",
      "mean:  0.09577472527472528\n",
      "std:  0.02239826035013181\n",
      "\n",
      "Acc Loss: \n",
      "mean:  0.132103614141827\n",
      "std:  0.008159699160058896\n",
      "------\n"
     ]
    }
   ],
   "source": [
    "all_spearman = []\n",
    "all_acc_loss = []\n",
    "for k in range(1,41):    \n",
    "    rp = Pipeline([\n",
    "        ('fs', VarianceThreshold(0.05)),\n",
    "        ('scale', StandardScaler()),        \n",
    "        ('estimator', RankingPredictor(\"ma_100\", n_neighbors=k)),\n",
    "    ])\n",
    "    \n",
    "    print(\"K: \", k)\n",
    "    s, a  = evaluate(rp, X, y, ys, print_values = True)\n",
    "    all_spearman.append(s)\n",
    "    all_acc_loss.append(a)\n",
    "    print(\"------\")"
   ]
  },
  {
   "cell_type": "code",
   "execution_count": 421,
   "metadata": {},
   "outputs": [
    {
     "data": {
      "text/plain": [
       "[<matplotlib.lines.Line2D at 0x7f391a6d6940>]"
      ]
     },
     "execution_count": 421,
     "metadata": {},
     "output_type": "execute_result"
    },
    {
     "data": {
      "image/png": "[encoded data removed]",
      "text/plain": [
       "<matplotlib.figure.Figure at 0x7f3891fd39b0>"
      ]
     },
     "metadata": {},
     "output_type": "display_data"
    }
   ],
   "source": [
    "plt.plot(all_spearman)"
   ]
  },
  {
   "cell_type": "code",
   "execution_count": 422,
   "metadata": {},
   "outputs": [
    {
     "data": {
      "text/plain": [
       "[<matplotlib.lines.Line2D at 0x7f382ea1f7b8>]"
      ]
     },
     "execution_count": 422,
     "metadata": {},
     "output_type": "execute_result"
    },
    {
     "data": {
      "image/png": "[encoded data removed]",
      "text/plain": [
       "<matplotlib.figure.Figure at 0x7f3891ff0400>"
      ]
     },
     "metadata": {},
     "output_type": "display_data"
    }
   ],
   "source": [
    "plt.plot(all_acc_loss)"
   ]
  },
  {
   "cell_type": "code",
   "execution_count": null,
   "metadata": {},
   "outputs": [],
   "source": []
  },
  {
   "cell_type": "code",
   "execution_count": null,
   "metadata": {},
   "outputs": [],
   "source": []
  },
  {
   "cell_type": "code",
   "execution_count": null,
   "metadata": {},
   "outputs": [],
   "source": []
  },
  {
   "cell_type": "code",
   "execution_count": null,
   "metadata": {},
   "outputs": [],
   "source": []
  },
  {
   "cell_type": "code",
   "execution_count": 417,
   "metadata": {},
   "outputs": [],
   "source": [
    "foo = Pipeline([\n",
    "    ('fs', VarianceThreshold(0.05)),\n",
    "    ('scale', StandardScaler()),\n",
    "])"
   ]
  },
  {
   "cell_type": "code",
   "execution_count": 418,
   "metadata": {},
   "outputs": [],
   "source": [
    "bar = foo.fit_transform(X)"
   ]
  },
  {
   "cell_type": "code",
   "execution_count": null,
   "metadata": {},
   "outputs": [],
   "source": []
  },
  {
   "cell_type": "code",
   "execution_count": 302,
   "metadata": {},
   "outputs": [],
   "source": [
    "rp = Pipeline([\n",
    "    ('scale', StandardScaler()),\n",
    "    ('fs', VarianceThreshold(0.06)),\n",
    "    ('estimator', RankingPredictor(\"ma_100\", n_neighbors=5)),\n",
    "])"
   ]
  },
  {
   "cell_type": "code",
   "execution_count": 303,
   "metadata": {},
   "outputs": [],
   "source": [
    "spearman = []\n",
    "acc_loss = []\n",
    "for i in range(100):\n",
    "    y_pred = cross_val_predict(rp, X, y, cv=cv)\n",
    "    spearman.append(evaluate_metric(\"spearman\", y, y_pred))\n",
    "    acc_loss.append(evaluate_metric(\"mean_acc_loss\", y, y_pred))"
   ]
  },
  {
   "cell_type": "code",
   "execution_count": 304,
   "metadata": {},
   "outputs": [
    {
     "name": "stdout",
     "output_type": "stream",
     "text": [
      "Spearman: \n",
      "mean:  0.022371794871794862\n",
      "std:  0.03559552551782791\n",
      "\n",
      "Acc Loss: \n",
      "mean:  17.68408333333333\n",
      "std:  1.2422935190606124\n"
     ]
    }
   ],
   "source": [
    "print(\"Spearman: \")\n",
    "print(\"mean: \", np.mean(spearman))      \n",
    "print(\"std: \", np.std(spearman))\n",
    "print()\n",
    "\n",
    "print(\"Acc Loss: \")\n",
    "print(\"mean: \", np.mean(acc_loss))      \n",
    "print(\"std: \", np.std(acc_loss))"
   ]
  },
  {
   "cell_type": "code",
   "execution_count": null,
   "metadata": {},
   "outputs": [],
   "source": []
  },
  {
   "cell_type": "code",
   "execution_count": null,
   "metadata": {},
   "outputs": [],
   "source": []
  }
 ],
 "metadata": {
  "kernelspec": {
   "display_name": "Python 3",
   "language": "python",
   "name": "python3"
  },
  "language_info": {
   "codemirror_mode": {
    "name": "ipython",
    "version": 3
   },
   "file_extension": ".py",
   "mimetype": "text/x-python",
   "name": "python",
   "nbconvert_exporter": "python",
   "pygments_lexer": "ipython3",
   "version": "3.6.4"
  }
 },
 "nbformat": 4,
 "nbformat_minor": 2
}
