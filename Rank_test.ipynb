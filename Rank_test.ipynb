{
 "cells": [
  {
   "cell_type": "code",
   "execution_count": 1,
   "metadata": {},
   "outputs": [],
   "source": [
    "%load_ext autoreload\n",
    "%autoreload 2\n",
    "%matplotlib inline"
   ]
  },
  {
   "cell_type": "code",
   "execution_count": 2,
   "metadata": {},
   "outputs": [],
   "source": [
    "from project.ranker.ranker import RankingPredictor\n",
    "from project.ranker.ranker import RandomRankingPredictor\n",
    "from sklearn.pipeline import Pipeline\n",
    "from sklearn.preprocessing import StandardScaler\n",
    "from sklearn.model_selection import cross_val_score\n",
    "from sklearn.model_selection import LeaveOneOut\n",
    "from sklearn.model_selection import RepeatedKFold\n",
    "from project.feature_selection.feature_selector import FeatureSelection\n",
    "import numpy as np\n",
    "\n",
    "\n"
   ]
  },
  {
   "cell_type": "markdown",
   "metadata": {},
   "source": [
    "### Baseline Rankers"
   ]
  },
  {
   "cell_type": "code",
   "execution_count": 4,
   "metadata": {},
   "outputs": [],
   "source": [
    "rr = RandomRankingPredictor(rank_size=8)\n",
    "rp = Pipeline([\n",
    "    ('scale', StandardScaler()),\n",
    "    ('estimator', RankingPredictor(\"ma_100\", n_neighbors=15)),\n",
    "])\n"
   ]
  },
  {
   "cell_type": "code",
   "execution_count": 17,
   "metadata": {},
   "outputs": [],
   "source": [
    "df_mf, df_rank, _, df_fold_scores = rp.named_steps['estimator'].get_data()"
   ]
  },
  {
   "cell_type": "markdown",
   "metadata": {},
   "source": [
    "### Metrics usage sample"
   ]
  },
  {
   "cell_type": "code",
   "execution_count": 22,
   "metadata": {},
   "outputs": [],
   "source": [
    "from sklearn.model_selection import train_test_split\n",
    "\n",
    "X_train, X_test, y_train, y_test, y_scores_train, y_scores_test = train_test_split(df_mf.values,\n",
    "                                                                                   df_rank.values,\n",
    "                                                                                   df_fold_scores.values)"
   ]
  },
  {
   "cell_type": "code",
   "execution_count": 30,
   "metadata": {},
   "outputs": [],
   "source": [
    "y_pred = rr.predict(y_test)"
   ]
  },
  {
   "cell_type": "code",
   "execution_count": 31,
   "metadata": {},
   "outputs": [],
   "source": [
    "from project.utils.metrics import evaluate_metric"
   ]
  },
  {
   "cell_type": "code",
   "execution_count": 32,
   "metadata": {},
   "outputs": [
    {
     "data": {
      "text/plain": [
       "0.19841269841269846"
      ]
     },
     "execution_count": 32,
     "metadata": {},
     "output_type": "execute_result"
    }
   ],
   "source": [
    "# Spearman\n",
    "evaluate_metric(\"spearman\", y_test, y_pred)"
   ]
  },
  {
   "cell_type": "code",
   "execution_count": 33,
   "metadata": {},
   "outputs": [
    {
     "data": {
      "text/plain": [
       "0.18233672486517322"
      ]
     },
     "execution_count": 33,
     "metadata": {},
     "output_type": "execute_result"
    }
   ],
   "source": [
    "# AU Acc Loss Curve\n",
    "# y_scores_test en vez de y_test\n",
    "evaluate_metric(\"acc_loss\", y_scores_test, y_pred)"
   ]
  },
  {
   "cell_type": "code",
   "execution_count": null,
   "metadata": {},
   "outputs": [],
   "source": []
  },
  {
   "cell_type": "code",
   "execution_count": null,
   "metadata": {},
   "outputs": [],
   "source": []
  },
  {
   "cell_type": "code",
   "execution_count": null,
   "metadata": {},
   "outputs": [],
   "source": []
  },
  {
   "cell_type": "code",
   "execution_count": null,
   "metadata": {},
   "outputs": [],
   "source": []
  },
  {
   "cell_type": "code",
   "execution_count": null,
   "metadata": {},
   "outputs": [],
   "source": []
  },
  {
   "cell_type": "code",
   "execution_count": null,
   "metadata": {},
   "outputs": [],
   "source": []
  },
  {
   "cell_type": "code",
   "execution_count": 15,
   "metadata": {},
   "outputs": [],
   "source": [
    "import warnings\n",
    "warnings.simplefilter('ignore')"
   ]
  },
  {
   "cell_type": "code",
   "execution_count": 3,
   "metadata": {},
   "outputs": [],
   "source": [
    "from project.ranker.ranker import RankingPredictor\n",
    "from sklearn.pipeline import Pipeline\n",
    "from sklearn.preprocessing import StandardScaler"
   ]
  },
  {
   "cell_type": "code",
   "execution_count": 164,
   "metadata": {},
   "outputs": [],
   "source": [
    "pipeline = Pipeline([\n",
    "    ('scale', StandardScaler()),\n",
    "    ('estimator', RankingPredictor(\"ma_100\", n_neighbors=15)),\n",
    "])"
   ]
  },
  {
   "cell_type": "code",
   "execution_count": 167,
   "metadata": {},
   "outputs": [],
   "source": [
    "df_mf, df_rank, df_scores, df_fold_scores = pipeline.named_steps['estimator'].get_data()"
   ]
  },
  {
   "cell_type": "code",
   "execution_count": 168,
   "metadata": {},
   "outputs": [
    {
     "data": {
      "text/html": [
       "<div>\n",
       "<style scoped>\n",
       "    .dataframe tbody tr th:only-of-type {\n",
       "        vertical-align: middle;\n",
       "    }\n",
       "\n",
       "    .dataframe tbody tr th {\n",
       "        vertical-align: top;\n",
       "    }\n",
       "\n",
       "    .dataframe thead th {\n",
       "        text-align: right;\n",
       "    }\n",
       "</style>\n",
       "<table border=\"1\" class=\"dataframe\">\n",
       "  <thead>\n",
       "    <tr style=\"text-align: right;\">\n",
       "      <th></th>\n",
       "      <th>X_correlation_max</th>\n",
       "      <th>X_correlation_mean</th>\n",
       "      <th>X_correlation_min</th>\n",
       "      <th>X_covariance_max</th>\n",
       "      <th>X_covariance_mean</th>\n",
       "      <th>X_covariance_min</th>\n",
       "      <th>X_exp_var_max</th>\n",
       "      <th>X_exp_var_n_t80_cumsum</th>\n",
       "      <th>X_kurtosis_max</th>\n",
       "      <th>X_kurtosis_mean</th>\n",
       "      <th>...</th>\n",
       "      <th>X_stand_dev_min</th>\n",
       "      <th>X_std_covariance_max</th>\n",
       "      <th>X_std_covariance_mean</th>\n",
       "      <th>X_std_covariance_min</th>\n",
       "      <th>X_std_exp_var_max</th>\n",
       "      <th>X_var_coef_max</th>\n",
       "      <th>X_var_coef_mean</th>\n",
       "      <th>X_var_coef_min</th>\n",
       "      <th>y_norm_class_entropy_none</th>\n",
       "      <th>y_num_classes_none</th>\n",
       "    </tr>\n",
       "    <tr>\n",
       "      <th>dataset</th>\n",
       "      <th></th>\n",
       "      <th></th>\n",
       "      <th></th>\n",
       "      <th></th>\n",
       "      <th></th>\n",
       "      <th></th>\n",
       "      <th></th>\n",
       "      <th></th>\n",
       "      <th></th>\n",
       "      <th></th>\n",
       "      <th></th>\n",
       "      <th></th>\n",
       "      <th></th>\n",
       "      <th></th>\n",
       "      <th></th>\n",
       "      <th></th>\n",
       "      <th></th>\n",
       "      <th></th>\n",
       "      <th></th>\n",
       "      <th></th>\n",
       "      <th></th>\n",
       "    </tr>\n",
       "  </thead>\n",
       "  <tbody>\n",
       "    <tr>\n",
       "      <th>dataset_prostate_singh</th>\n",
       "      <td>0.994905</td>\n",
       "      <td>0.001368</td>\n",
       "      <td>-0.989840</td>\n",
       "      <td>6.501921e+06</td>\n",
       "      <td>29.654376</td>\n",
       "      <td>-1.662059e+06</td>\n",
       "      <td>0.538233</td>\n",
       "      <td>3</td>\n",
       "      <td>96.809515</td>\n",
       "      <td>3.634957</td>\n",
       "      <td>...</td>\n",
       "      <td>45.069954</td>\n",
       "      <td>0.994905</td>\n",
       "      <td>0.001368</td>\n",
       "      <td>-0.989840</td>\n",
       "      <td>0.635789</td>\n",
       "      <td>24.644940</td>\n",
       "      <td>0.968532</td>\n",
       "      <td>0.393882</td>\n",
       "      <td>0.999723</td>\n",
       "      <td>2</td>\n",
       "    </tr>\n",
       "    <tr>\n",
       "      <th>dataset_glioma_phillips</th>\n",
       "      <td>0.993589</td>\n",
       "      <td>0.026853</td>\n",
       "      <td>-0.690733</td>\n",
       "      <td>4.323435e+08</td>\n",
       "      <td>245013.502247</td>\n",
       "      <td>-6.592495e+07</td>\n",
       "      <td>0.311808</td>\n",
       "      <td>16</td>\n",
       "      <td>94.998000</td>\n",
       "      <td>6.624304</td>\n",
       "      <td>...</td>\n",
       "      <td>849.046524</td>\n",
       "      <td>0.993589</td>\n",
       "      <td>0.026853</td>\n",
       "      <td>-0.690733</td>\n",
       "      <td>0.144017</td>\n",
       "      <td>6.143025</td>\n",
       "      <td>0.497883</td>\n",
       "      <td>0.196919</td>\n",
       "      <td>0.795040</td>\n",
       "      <td>2</td>\n",
       "    </tr>\n",
       "    <tr>\n",
       "      <th>dataset_leukemia_armstrong</th>\n",
       "      <td>0.994280</td>\n",
       "      <td>0.084879</td>\n",
       "      <td>-0.916524</td>\n",
       "      <td>1.154806e+08</td>\n",
       "      <td>556524.637475</td>\n",
       "      <td>-7.348629e+07</td>\n",
       "      <td>0.249095</td>\n",
       "      <td>19</td>\n",
       "      <td>64.783987</td>\n",
       "      <td>3.472936</td>\n",
       "      <td>...</td>\n",
       "      <td>1480.763026</td>\n",
       "      <td>0.994280</td>\n",
       "      <td>0.084879</td>\n",
       "      <td>-0.916524</td>\n",
       "      <td>0.241996</td>\n",
       "      <td>2.250262</td>\n",
       "      <td>0.511498</td>\n",
       "      <td>0.239257</td>\n",
       "      <td>0.991532</td>\n",
       "      <td>3</td>\n",
       "    </tr>\n",
       "    <tr>\n",
       "      <th>dataset_breast_sotiriou</th>\n",
       "      <td>0.997310</td>\n",
       "      <td>0.703431</td>\n",
       "      <td>-0.803858</td>\n",
       "      <td>6.244864e+00</td>\n",
       "      <td>1.451080</td>\n",
       "      <td>-5.063628e+00</td>\n",
       "      <td>0.721969</td>\n",
       "      <td>3</td>\n",
       "      <td>10.362369</td>\n",
       "      <td>-0.156562</td>\n",
       "      <td>...</td>\n",
       "      <td>1.308462</td>\n",
       "      <td>0.997310</td>\n",
       "      <td>0.703431</td>\n",
       "      <td>-0.803858</td>\n",
       "      <td>0.745195</td>\n",
       "      <td>0.389483</td>\n",
       "      <td>0.202296</td>\n",
       "      <td>0.182322</td>\n",
       "      <td>0.993717</td>\n",
       "      <td>3</td>\n",
       "    </tr>\n",
       "    <tr>\n",
       "      <th>dataset_lymphoma_dave_2</th>\n",
       "      <td>0.985847</td>\n",
       "      <td>0.019387</td>\n",
       "      <td>-0.739594</td>\n",
       "      <td>5.893252e+00</td>\n",
       "      <td>0.027503</td>\n",
       "      <td>-3.396945e+00</td>\n",
       "      <td>0.124228</td>\n",
       "      <td>93</td>\n",
       "      <td>35.139636</td>\n",
       "      <td>1.273938</td>\n",
       "      <td>...</td>\n",
       "      <td>0.610939</td>\n",
       "      <td>0.985847</td>\n",
       "      <td>0.019387</td>\n",
       "      <td>-0.739594</td>\n",
       "      <td>0.140919</td>\n",
       "      <td>0.525447</td>\n",
       "      <td>0.158073</td>\n",
       "      <td>0.086560</td>\n",
       "      <td>0.882052</td>\n",
       "      <td>4</td>\n",
       "    </tr>\n",
       "  </tbody>\n",
       "</table>\n",
       "<p>5 rows × 39 columns</p>\n",
       "</div>"
      ],
      "text/plain": [
       "                            X_correlation_max  X_correlation_mean  \\\n",
       "dataset                                                             \n",
       "dataset_prostate_singh               0.994905            0.001368   \n",
       "dataset_glioma_phillips              0.993589            0.026853   \n",
       "dataset_leukemia_armstrong           0.994280            0.084879   \n",
       "dataset_breast_sotiriou              0.997310            0.703431   \n",
       "dataset_lymphoma_dave_2              0.985847            0.019387   \n",
       "\n",
       "                            X_correlation_min  X_covariance_max  \\\n",
       "dataset                                                           \n",
       "dataset_prostate_singh              -0.989840      6.501921e+06   \n",
       "dataset_glioma_phillips             -0.690733      4.323435e+08   \n",
       "dataset_leukemia_armstrong          -0.916524      1.154806e+08   \n",
       "dataset_breast_sotiriou             -0.803858      6.244864e+00   \n",
       "dataset_lymphoma_dave_2             -0.739594      5.893252e+00   \n",
       "\n",
       "                            X_covariance_mean  X_covariance_min  \\\n",
       "dataset                                                           \n",
       "dataset_prostate_singh              29.654376     -1.662059e+06   \n",
       "dataset_glioma_phillips         245013.502247     -6.592495e+07   \n",
       "dataset_leukemia_armstrong      556524.637475     -7.348629e+07   \n",
       "dataset_breast_sotiriou              1.451080     -5.063628e+00   \n",
       "dataset_lymphoma_dave_2              0.027503     -3.396945e+00   \n",
       "\n",
       "                            X_exp_var_max  X_exp_var_n_t80_cumsum  \\\n",
       "dataset                                                             \n",
       "dataset_prostate_singh           0.538233                       3   \n",
       "dataset_glioma_phillips          0.311808                      16   \n",
       "dataset_leukemia_armstrong       0.249095                      19   \n",
       "dataset_breast_sotiriou          0.721969                       3   \n",
       "dataset_lymphoma_dave_2          0.124228                      93   \n",
       "\n",
       "                            X_kurtosis_max  X_kurtosis_mean  \\\n",
       "dataset                                                       \n",
       "dataset_prostate_singh           96.809515         3.634957   \n",
       "dataset_glioma_phillips          94.998000         6.624304   \n",
       "dataset_leukemia_armstrong       64.783987         3.472936   \n",
       "dataset_breast_sotiriou          10.362369        -0.156562   \n",
       "dataset_lymphoma_dave_2          35.139636         1.273938   \n",
       "\n",
       "                                   ...          X_stand_dev_min  \\\n",
       "dataset                            ...                            \n",
       "dataset_prostate_singh             ...                45.069954   \n",
       "dataset_glioma_phillips            ...               849.046524   \n",
       "dataset_leukemia_armstrong         ...              1480.763026   \n",
       "dataset_breast_sotiriou            ...                 1.308462   \n",
       "dataset_lymphoma_dave_2            ...                 0.610939   \n",
       "\n",
       "                            X_std_covariance_max  X_std_covariance_mean  \\\n",
       "dataset                                                                   \n",
       "dataset_prostate_singh                  0.994905               0.001368   \n",
       "dataset_glioma_phillips                 0.993589               0.026853   \n",
       "dataset_leukemia_armstrong              0.994280               0.084879   \n",
       "dataset_breast_sotiriou                 0.997310               0.703431   \n",
       "dataset_lymphoma_dave_2                 0.985847               0.019387   \n",
       "\n",
       "                            X_std_covariance_min  X_std_exp_var_max  \\\n",
       "dataset                                                               \n",
       "dataset_prostate_singh                 -0.989840           0.635789   \n",
       "dataset_glioma_phillips                -0.690733           0.144017   \n",
       "dataset_leukemia_armstrong             -0.916524           0.241996   \n",
       "dataset_breast_sotiriou                -0.803858           0.745195   \n",
       "dataset_lymphoma_dave_2                -0.739594           0.140919   \n",
       "\n",
       "                            X_var_coef_max  X_var_coef_mean  X_var_coef_min  \\\n",
       "dataset                                                                       \n",
       "dataset_prostate_singh           24.644940         0.968532        0.393882   \n",
       "dataset_glioma_phillips           6.143025         0.497883        0.196919   \n",
       "dataset_leukemia_armstrong        2.250262         0.511498        0.239257   \n",
       "dataset_breast_sotiriou           0.389483         0.202296        0.182322   \n",
       "dataset_lymphoma_dave_2           0.525447         0.158073        0.086560   \n",
       "\n",
       "                            y_norm_class_entropy_none  y_num_classes_none  \n",
       "dataset                                                                    \n",
       "dataset_prostate_singh                       0.999723                   2  \n",
       "dataset_glioma_phillips                      0.795040                   2  \n",
       "dataset_leukemia_armstrong                   0.991532                   3  \n",
       "dataset_breast_sotiriou                      0.993717                   3  \n",
       "dataset_lymphoma_dave_2                      0.882052                   4  \n",
       "\n",
       "[5 rows x 39 columns]"
      ]
     },
     "execution_count": 168,
     "metadata": {},
     "output_type": "execute_result"
    }
   ],
   "source": [
    "df_mf.head()"
   ]
  },
  {
   "cell_type": "code",
   "execution_count": 169,
   "metadata": {},
   "outputs": [
    {
     "data": {
      "text/html": [
       "<div>\n",
       "<style scoped>\n",
       "    .dataframe tbody tr th:only-of-type {\n",
       "        vertical-align: middle;\n",
       "    }\n",
       "\n",
       "    .dataframe tbody tr th {\n",
       "        vertical-align: top;\n",
       "    }\n",
       "\n",
       "    .dataframe thead th {\n",
       "        text-align: right;\n",
       "    }\n",
       "</style>\n",
       "<table border=\"1\" class=\"dataframe\">\n",
       "  <thead>\n",
       "    <tr style=\"text-align: right;\">\n",
       "      <th></th>\n",
       "      <th>minmax_chi_square_linearSVC</th>\n",
       "      <th>minmax_chi_square_naiveBayes</th>\n",
       "      <th>minmax_fisher_linearSVC</th>\n",
       "      <th>minmax_fisher_naiveBayes</th>\n",
       "      <th>minmax_random_forest_linearSVC</th>\n",
       "      <th>minmax_random_forest_naiveBayes</th>\n",
       "      <th>minmax_reliefF_linearSVC</th>\n",
       "      <th>minmax_reliefF_naiveBayes</th>\n",
       "    </tr>\n",
       "    <tr>\n",
       "      <th>dataset</th>\n",
       "      <th></th>\n",
       "      <th></th>\n",
       "      <th></th>\n",
       "      <th></th>\n",
       "      <th></th>\n",
       "      <th></th>\n",
       "      <th></th>\n",
       "      <th></th>\n",
       "    </tr>\n",
       "  </thead>\n",
       "  <tbody>\n",
       "    <tr>\n",
       "      <th>dataset_glioma_rickman</th>\n",
       "      <td>7</td>\n",
       "      <td>1</td>\n",
       "      <td>6</td>\n",
       "      <td>2</td>\n",
       "      <td>4</td>\n",
       "      <td>3</td>\n",
       "      <td>8</td>\n",
       "      <td>5</td>\n",
       "    </tr>\n",
       "    <tr>\n",
       "      <th>dataset_ovarian_li_and_campbell</th>\n",
       "      <td>1</td>\n",
       "      <td>3</td>\n",
       "      <td>4</td>\n",
       "      <td>7</td>\n",
       "      <td>6</td>\n",
       "      <td>8</td>\n",
       "      <td>2</td>\n",
       "      <td>5</td>\n",
       "    </tr>\n",
       "    <tr>\n",
       "      <th>dataset_breast_gruvberger</th>\n",
       "      <td>3</td>\n",
       "      <td>7</td>\n",
       "      <td>1</td>\n",
       "      <td>5</td>\n",
       "      <td>4</td>\n",
       "      <td>8</td>\n",
       "      <td>2</td>\n",
       "      <td>6</td>\n",
       "    </tr>\n",
       "    <tr>\n",
       "      <th>dataset_mixed_chowdary</th>\n",
       "      <td>1</td>\n",
       "      <td>5</td>\n",
       "      <td>4</td>\n",
       "      <td>8</td>\n",
       "      <td>2</td>\n",
       "      <td>7</td>\n",
       "      <td>3</td>\n",
       "      <td>6</td>\n",
       "    </tr>\n",
       "    <tr>\n",
       "      <th>dataset_prostate_tomlins</th>\n",
       "      <td>2</td>\n",
       "      <td>7</td>\n",
       "      <td>3</td>\n",
       "      <td>8</td>\n",
       "      <td>1</td>\n",
       "      <td>6</td>\n",
       "      <td>4</td>\n",
       "      <td>5</td>\n",
       "    </tr>\n",
       "  </tbody>\n",
       "</table>\n",
       "</div>"
      ],
      "text/plain": [
       "                                 minmax_chi_square_linearSVC  \\\n",
       "dataset                                                        \n",
       "dataset_glioma_rickman                                     7   \n",
       "dataset_ovarian_li_and_campbell                            1   \n",
       "dataset_breast_gruvberger                                  3   \n",
       "dataset_mixed_chowdary                                     1   \n",
       "dataset_prostate_tomlins                                   2   \n",
       "\n",
       "                                 minmax_chi_square_naiveBayes  \\\n",
       "dataset                                                         \n",
       "dataset_glioma_rickman                                      1   \n",
       "dataset_ovarian_li_and_campbell                             3   \n",
       "dataset_breast_gruvberger                                   7   \n",
       "dataset_mixed_chowdary                                      5   \n",
       "dataset_prostate_tomlins                                    7   \n",
       "\n",
       "                                 minmax_fisher_linearSVC  \\\n",
       "dataset                                                    \n",
       "dataset_glioma_rickman                                 6   \n",
       "dataset_ovarian_li_and_campbell                        4   \n",
       "dataset_breast_gruvberger                              1   \n",
       "dataset_mixed_chowdary                                 4   \n",
       "dataset_prostate_tomlins                               3   \n",
       "\n",
       "                                 minmax_fisher_naiveBayes  \\\n",
       "dataset                                                     \n",
       "dataset_glioma_rickman                                  2   \n",
       "dataset_ovarian_li_and_campbell                         7   \n",
       "dataset_breast_gruvberger                               5   \n",
       "dataset_mixed_chowdary                                  8   \n",
       "dataset_prostate_tomlins                                8   \n",
       "\n",
       "                                 minmax_random_forest_linearSVC  \\\n",
       "dataset                                                           \n",
       "dataset_glioma_rickman                                        4   \n",
       "dataset_ovarian_li_and_campbell                               6   \n",
       "dataset_breast_gruvberger                                     4   \n",
       "dataset_mixed_chowdary                                        2   \n",
       "dataset_prostate_tomlins                                      1   \n",
       "\n",
       "                                 minmax_random_forest_naiveBayes  \\\n",
       "dataset                                                            \n",
       "dataset_glioma_rickman                                         3   \n",
       "dataset_ovarian_li_and_campbell                                8   \n",
       "dataset_breast_gruvberger                                      8   \n",
       "dataset_mixed_chowdary                                         7   \n",
       "dataset_prostate_tomlins                                       6   \n",
       "\n",
       "                                 minmax_reliefF_linearSVC  \\\n",
       "dataset                                                     \n",
       "dataset_glioma_rickman                                  8   \n",
       "dataset_ovarian_li_and_campbell                         2   \n",
       "dataset_breast_gruvberger                               2   \n",
       "dataset_mixed_chowdary                                  3   \n",
       "dataset_prostate_tomlins                                4   \n",
       "\n",
       "                                 minmax_reliefF_naiveBayes  \n",
       "dataset                                                     \n",
       "dataset_glioma_rickman                                   5  \n",
       "dataset_ovarian_li_and_campbell                          5  \n",
       "dataset_breast_gruvberger                                6  \n",
       "dataset_mixed_chowdary                                   6  \n",
       "dataset_prostate_tomlins                                 5  "
      ]
     },
     "execution_count": 169,
     "metadata": {},
     "output_type": "execute_result"
    }
   ],
   "source": [
    "df_rank.head()"
   ]
  },
  {
   "cell_type": "code",
   "execution_count": 420,
   "metadata": {},
   "outputs": [],
   "source": [
    "df_rank.to_csv(\"ranking_8.csv\")"
   ]
  },
  {
   "cell_type": "code",
   "execution_count": 170,
   "metadata": {},
   "outputs": [
    {
     "data": {
      "text/html": [
       "<div>\n",
       "<style scoped>\n",
       "    .dataframe tbody tr th:only-of-type {\n",
       "        vertical-align: middle;\n",
       "    }\n",
       "\n",
       "    .dataframe tbody tr th {\n",
       "        vertical-align: top;\n",
       "    }\n",
       "\n",
       "    .dataframe thead th {\n",
       "        text-align: right;\n",
       "    }\n",
       "</style>\n",
       "<table border=\"1\" class=\"dataframe\">\n",
       "  <thead>\n",
       "    <tr style=\"text-align: right;\">\n",
       "      <th></th>\n",
       "      <th>minmax_chi_square_linearSVC</th>\n",
       "      <th>minmax_chi_square_naiveBayes</th>\n",
       "      <th>minmax_fisher_linearSVC</th>\n",
       "      <th>minmax_fisher_naiveBayes</th>\n",
       "      <th>minmax_random_forest_linearSVC</th>\n",
       "      <th>minmax_random_forest_naiveBayes</th>\n",
       "      <th>minmax_reliefF_linearSVC</th>\n",
       "      <th>minmax_reliefF_naiveBayes</th>\n",
       "    </tr>\n",
       "    <tr>\n",
       "      <th>dataset</th>\n",
       "      <th></th>\n",
       "      <th></th>\n",
       "      <th></th>\n",
       "      <th></th>\n",
       "      <th></th>\n",
       "      <th></th>\n",
       "      <th></th>\n",
       "      <th></th>\n",
       "    </tr>\n",
       "  </thead>\n",
       "  <tbody>\n",
       "    <tr>\n",
       "      <th>dataset_glioma_rickman</th>\n",
       "      <td>0.813054</td>\n",
       "      <td>0.846645</td>\n",
       "      <td>0.816290</td>\n",
       "      <td>0.843026</td>\n",
       "      <td>0.839579</td>\n",
       "      <td>0.842965</td>\n",
       "      <td>0.799187</td>\n",
       "      <td>0.839370</td>\n",
       "    </tr>\n",
       "    <tr>\n",
       "      <th>dataset_ovarian_li_and_campbell</th>\n",
       "      <td>0.947610</td>\n",
       "      <td>0.937770</td>\n",
       "      <td>0.930919</td>\n",
       "      <td>0.922591</td>\n",
       "      <td>0.925821</td>\n",
       "      <td>0.911032</td>\n",
       "      <td>0.943474</td>\n",
       "      <td>0.930098</td>\n",
       "    </tr>\n",
       "    <tr>\n",
       "      <th>dataset_breast_gruvberger</th>\n",
       "      <td>0.962926</td>\n",
       "      <td>0.943557</td>\n",
       "      <td>0.964038</td>\n",
       "      <td>0.944138</td>\n",
       "      <td>0.962223</td>\n",
       "      <td>0.942976</td>\n",
       "      <td>0.964038</td>\n",
       "      <td>0.944138</td>\n",
       "    </tr>\n",
       "    <tr>\n",
       "      <th>dataset_mixed_chowdary</th>\n",
       "      <td>0.976271</td>\n",
       "      <td>0.967996</td>\n",
       "      <td>0.969406</td>\n",
       "      <td>0.961720</td>\n",
       "      <td>0.975751</td>\n",
       "      <td>0.964084</td>\n",
       "      <td>0.970813</td>\n",
       "      <td>0.966064</td>\n",
       "    </tr>\n",
       "    <tr>\n",
       "      <th>dataset_prostate_tomlins</th>\n",
       "      <td>0.817462</td>\n",
       "      <td>0.746433</td>\n",
       "      <td>0.807649</td>\n",
       "      <td>0.720340</td>\n",
       "      <td>0.820034</td>\n",
       "      <td>0.755600</td>\n",
       "      <td>0.805604</td>\n",
       "      <td>0.760474</td>\n",
       "    </tr>\n",
       "  </tbody>\n",
       "</table>\n",
       "</div>"
      ],
      "text/plain": [
       "                                 minmax_chi_square_linearSVC  \\\n",
       "dataset                                                        \n",
       "dataset_glioma_rickman                              0.813054   \n",
       "dataset_ovarian_li_and_campbell                     0.947610   \n",
       "dataset_breast_gruvberger                           0.962926   \n",
       "dataset_mixed_chowdary                              0.976271   \n",
       "dataset_prostate_tomlins                            0.817462   \n",
       "\n",
       "                                 minmax_chi_square_naiveBayes  \\\n",
       "dataset                                                         \n",
       "dataset_glioma_rickman                               0.846645   \n",
       "dataset_ovarian_li_and_campbell                      0.937770   \n",
       "dataset_breast_gruvberger                            0.943557   \n",
       "dataset_mixed_chowdary                               0.967996   \n",
       "dataset_prostate_tomlins                             0.746433   \n",
       "\n",
       "                                 minmax_fisher_linearSVC  \\\n",
       "dataset                                                    \n",
       "dataset_glioma_rickman                          0.816290   \n",
       "dataset_ovarian_li_and_campbell                 0.930919   \n",
       "dataset_breast_gruvberger                       0.964038   \n",
       "dataset_mixed_chowdary                          0.969406   \n",
       "dataset_prostate_tomlins                        0.807649   \n",
       "\n",
       "                                 minmax_fisher_naiveBayes  \\\n",
       "dataset                                                     \n",
       "dataset_glioma_rickman                           0.843026   \n",
       "dataset_ovarian_li_and_campbell                  0.922591   \n",
       "dataset_breast_gruvberger                        0.944138   \n",
       "dataset_mixed_chowdary                           0.961720   \n",
       "dataset_prostate_tomlins                         0.720340   \n",
       "\n",
       "                                 minmax_random_forest_linearSVC  \\\n",
       "dataset                                                           \n",
       "dataset_glioma_rickman                                 0.839579   \n",
       "dataset_ovarian_li_and_campbell                        0.925821   \n",
       "dataset_breast_gruvberger                              0.962223   \n",
       "dataset_mixed_chowdary                                 0.975751   \n",
       "dataset_prostate_tomlins                               0.820034   \n",
       "\n",
       "                                 minmax_random_forest_naiveBayes  \\\n",
       "dataset                                                            \n",
       "dataset_glioma_rickman                                  0.842965   \n",
       "dataset_ovarian_li_and_campbell                         0.911032   \n",
       "dataset_breast_gruvberger                               0.942976   \n",
       "dataset_mixed_chowdary                                  0.964084   \n",
       "dataset_prostate_tomlins                                0.755600   \n",
       "\n",
       "                                 minmax_reliefF_linearSVC  \\\n",
       "dataset                                                     \n",
       "dataset_glioma_rickman                           0.799187   \n",
       "dataset_ovarian_li_and_campbell                  0.943474   \n",
       "dataset_breast_gruvberger                        0.964038   \n",
       "dataset_mixed_chowdary                           0.970813   \n",
       "dataset_prostate_tomlins                         0.805604   \n",
       "\n",
       "                                 minmax_reliefF_naiveBayes  \n",
       "dataset                                                     \n",
       "dataset_glioma_rickman                            0.839370  \n",
       "dataset_ovarian_li_and_campbell                   0.930098  \n",
       "dataset_breast_gruvberger                         0.944138  \n",
       "dataset_mixed_chowdary                            0.966064  \n",
       "dataset_prostate_tomlins                          0.760474  "
      ]
     },
     "execution_count": 170,
     "metadata": {},
     "output_type": "execute_result"
    }
   ],
   "source": [
    "df_scores.head()"
   ]
  },
  {
   "cell_type": "code",
   "execution_count": 171,
   "metadata": {},
   "outputs": [
    {
     "data": {
      "text/html": [
       "<div>\n",
       "<style scoped>\n",
       "    .dataframe tbody tr th:only-of-type {\n",
       "        vertical-align: middle;\n",
       "    }\n",
       "\n",
       "    .dataframe tbody tr th {\n",
       "        vertical-align: top;\n",
       "    }\n",
       "\n",
       "    .dataframe thead th {\n",
       "        text-align: right;\n",
       "    }\n",
       "</style>\n",
       "<table border=\"1\" class=\"dataframe\">\n",
       "  <thead>\n",
       "    <tr style=\"text-align: right;\">\n",
       "      <th></th>\n",
       "      <th>dataset</th>\n",
       "      <th>minmax_chi_square_linearSVC</th>\n",
       "      <th>minmax_chi_square_naiveBayes</th>\n",
       "      <th>minmax_fisher_linearSVC</th>\n",
       "      <th>minmax_fisher_naiveBayes</th>\n",
       "      <th>minmax_random_forest_linearSVC</th>\n",
       "      <th>minmax_random_forest_naiveBayes</th>\n",
       "      <th>minmax_reliefF_linearSVC</th>\n",
       "      <th>minmax_reliefF_naiveBayes</th>\n",
       "    </tr>\n",
       "  </thead>\n",
       "  <tbody>\n",
       "    <tr>\n",
       "      <th>0</th>\n",
       "      <td>dataset_glioma_rickman</td>\n",
       "      <td>fold\n",
       "0      1.000000\n",
       "1      0.866025\n",
       "2      1....</td>\n",
       "      <td>fold\n",
       "0      1.000000\n",
       "1      0.866025\n",
       "2      1....</td>\n",
       "      <td>fold\n",
       "0      0.894427\n",
       "1      0.866025\n",
       "2      1....</td>\n",
       "      <td>fold\n",
       "0      0.894427\n",
       "1      0.866025\n",
       "2      1....</td>\n",
       "      <td>fold\n",
       "0      0.894427\n",
       "1      1.000000\n",
       "2      1....</td>\n",
       "      <td>fold\n",
       "0      1.000000\n",
       "1      1.000000\n",
       "2      1....</td>\n",
       "      <td>fold\n",
       "0      0.866025\n",
       "1      0.750000\n",
       "2      1....</td>\n",
       "      <td>fold\n",
       "0      0.866025\n",
       "1      0.866025\n",
       "2      0....</td>\n",
       "    </tr>\n",
       "    <tr>\n",
       "      <th>1</th>\n",
       "      <td>dataset_ovarian_li_and_campbell</td>\n",
       "      <td>fold\n",
       "0      1.000000\n",
       "1      1.000000\n",
       "2      1....</td>\n",
       "      <td>fold\n",
       "0      1.000000\n",
       "1      1.000000\n",
       "2      1....</td>\n",
       "      <td>fold\n",
       "0      0.894427\n",
       "1      1.000000\n",
       "2      1....</td>\n",
       "      <td>fold\n",
       "0      1.000000\n",
       "1      1.000000\n",
       "2      1....</td>\n",
       "      <td>fold\n",
       "0      0.894427\n",
       "1      1.000000\n",
       "2      1....</td>\n",
       "      <td>fold\n",
       "0      1.000000\n",
       "1      1.000000\n",
       "2      1....</td>\n",
       "      <td>fold\n",
       "0      0.894427\n",
       "1      1.000000\n",
       "2      1....</td>\n",
       "      <td>fold\n",
       "0      1.000000\n",
       "1      1.000000\n",
       "2      1....</td>\n",
       "    </tr>\n",
       "    <tr>\n",
       "      <th>2</th>\n",
       "      <td>dataset_breast_gruvberger</td>\n",
       "      <td>fold\n",
       "0      1.000000\n",
       "1      1.000000\n",
       "2      1....</td>\n",
       "      <td>fold\n",
       "0      1.000000\n",
       "1      0.912871\n",
       "2      1....</td>\n",
       "      <td>fold\n",
       "0      1.000000\n",
       "1      1.000000\n",
       "2      1....</td>\n",
       "      <td>fold\n",
       "0      1.000000\n",
       "1      0.912871\n",
       "2      1....</td>\n",
       "      <td>fold\n",
       "0      1.000000\n",
       "1      0.912871\n",
       "2      1....</td>\n",
       "      <td>fold\n",
       "0      1.000000\n",
       "1      0.912871\n",
       "2      1....</td>\n",
       "      <td>fold\n",
       "0      1.000000\n",
       "1      1.000000\n",
       "2      1....</td>\n",
       "      <td>fold\n",
       "0      1.000000\n",
       "1      0.912871\n",
       "2      1....</td>\n",
       "    </tr>\n",
       "    <tr>\n",
       "      <th>3</th>\n",
       "      <td>dataset_mixed_chowdary</td>\n",
       "      <td>fold\n",
       "0      1.000000\n",
       "1      0.942809\n",
       "2      0....</td>\n",
       "      <td>fold\n",
       "0      1.000000\n",
       "1      0.942809\n",
       "2      0....</td>\n",
       "      <td>fold\n",
       "0      1.000000\n",
       "1      0.942809\n",
       "2      0....</td>\n",
       "      <td>fold\n",
       "0      1.000000\n",
       "1      0.905822\n",
       "2      0....</td>\n",
       "      <td>fold\n",
       "0      1.000000\n",
       "1      0.942809\n",
       "2      1....</td>\n",
       "      <td>fold\n",
       "0      1.000000\n",
       "1      0.881917\n",
       "2      0....</td>\n",
       "      <td>fold\n",
       "0      1.000000\n",
       "1      0.942809\n",
       "2      0....</td>\n",
       "      <td>fold\n",
       "0      1.000000\n",
       "1      0.942809\n",
       "2      0....</td>\n",
       "    </tr>\n",
       "    <tr>\n",
       "      <th>4</th>\n",
       "      <td>dataset_prostate_tomlins</td>\n",
       "      <td>fold\n",
       "0      0.930605\n",
       "1      0.773055\n",
       "2      0....</td>\n",
       "      <td>fold\n",
       "0      0.930605\n",
       "1      0.731110\n",
       "2      0....</td>\n",
       "      <td>fold\n",
       "0      1.000000\n",
       "1      0.759836\n",
       "2      0....</td>\n",
       "      <td>fold\n",
       "0      1.000000\n",
       "1      0.481098\n",
       "2      0....</td>\n",
       "      <td>fold\n",
       "0      0.962195\n",
       "1      0.707107\n",
       "2      0....</td>\n",
       "      <td>fold\n",
       "0      0.962195\n",
       "1      0.773055\n",
       "2      0....</td>\n",
       "      <td>fold\n",
       "0      0.809107\n",
       "1      0.809107\n",
       "2      0....</td>\n",
       "      <td>fold\n",
       "0      0.840896\n",
       "1      0.707107\n",
       "2      0....</td>\n",
       "    </tr>\n",
       "  </tbody>\n",
       "</table>\n",
       "</div>"
      ],
      "text/plain": [
       "                           dataset  \\\n",
       "0           dataset_glioma_rickman   \n",
       "1  dataset_ovarian_li_and_campbell   \n",
       "2        dataset_breast_gruvberger   \n",
       "3           dataset_mixed_chowdary   \n",
       "4         dataset_prostate_tomlins   \n",
       "\n",
       "                         minmax_chi_square_linearSVC  \\\n",
       "0  fold\n",
       "0      1.000000\n",
       "1      0.866025\n",
       "2      1....   \n",
       "1  fold\n",
       "0      1.000000\n",
       "1      1.000000\n",
       "2      1....   \n",
       "2  fold\n",
       "0      1.000000\n",
       "1      1.000000\n",
       "2      1....   \n",
       "3  fold\n",
       "0      1.000000\n",
       "1      0.942809\n",
       "2      0....   \n",
       "4  fold\n",
       "0      0.930605\n",
       "1      0.773055\n",
       "2      0....   \n",
       "\n",
       "                        minmax_chi_square_naiveBayes  \\\n",
       "0  fold\n",
       "0      1.000000\n",
       "1      0.866025\n",
       "2      1....   \n",
       "1  fold\n",
       "0      1.000000\n",
       "1      1.000000\n",
       "2      1....   \n",
       "2  fold\n",
       "0      1.000000\n",
       "1      0.912871\n",
       "2      1....   \n",
       "3  fold\n",
       "0      1.000000\n",
       "1      0.942809\n",
       "2      0....   \n",
       "4  fold\n",
       "0      0.930605\n",
       "1      0.731110\n",
       "2      0....   \n",
       "\n",
       "                             minmax_fisher_linearSVC  \\\n",
       "0  fold\n",
       "0      0.894427\n",
       "1      0.866025\n",
       "2      1....   \n",
       "1  fold\n",
       "0      0.894427\n",
       "1      1.000000\n",
       "2      1....   \n",
       "2  fold\n",
       "0      1.000000\n",
       "1      1.000000\n",
       "2      1....   \n",
       "3  fold\n",
       "0      1.000000\n",
       "1      0.942809\n",
       "2      0....   \n",
       "4  fold\n",
       "0      1.000000\n",
       "1      0.759836\n",
       "2      0....   \n",
       "\n",
       "                            minmax_fisher_naiveBayes  \\\n",
       "0  fold\n",
       "0      0.894427\n",
       "1      0.866025\n",
       "2      1....   \n",
       "1  fold\n",
       "0      1.000000\n",
       "1      1.000000\n",
       "2      1....   \n",
       "2  fold\n",
       "0      1.000000\n",
       "1      0.912871\n",
       "2      1....   \n",
       "3  fold\n",
       "0      1.000000\n",
       "1      0.905822\n",
       "2      0....   \n",
       "4  fold\n",
       "0      1.000000\n",
       "1      0.481098\n",
       "2      0....   \n",
       "\n",
       "                      minmax_random_forest_linearSVC  \\\n",
       "0  fold\n",
       "0      0.894427\n",
       "1      1.000000\n",
       "2      1....   \n",
       "1  fold\n",
       "0      0.894427\n",
       "1      1.000000\n",
       "2      1....   \n",
       "2  fold\n",
       "0      1.000000\n",
       "1      0.912871\n",
       "2      1....   \n",
       "3  fold\n",
       "0      1.000000\n",
       "1      0.942809\n",
       "2      1....   \n",
       "4  fold\n",
       "0      0.962195\n",
       "1      0.707107\n",
       "2      0....   \n",
       "\n",
       "                     minmax_random_forest_naiveBayes  \\\n",
       "0  fold\n",
       "0      1.000000\n",
       "1      1.000000\n",
       "2      1....   \n",
       "1  fold\n",
       "0      1.000000\n",
       "1      1.000000\n",
       "2      1....   \n",
       "2  fold\n",
       "0      1.000000\n",
       "1      0.912871\n",
       "2      1....   \n",
       "3  fold\n",
       "0      1.000000\n",
       "1      0.881917\n",
       "2      0....   \n",
       "4  fold\n",
       "0      0.962195\n",
       "1      0.773055\n",
       "2      0....   \n",
       "\n",
       "                            minmax_reliefF_linearSVC  \\\n",
       "0  fold\n",
       "0      0.866025\n",
       "1      0.750000\n",
       "2      1....   \n",
       "1  fold\n",
       "0      0.894427\n",
       "1      1.000000\n",
       "2      1....   \n",
       "2  fold\n",
       "0      1.000000\n",
       "1      1.000000\n",
       "2      1....   \n",
       "3  fold\n",
       "0      1.000000\n",
       "1      0.942809\n",
       "2      0....   \n",
       "4  fold\n",
       "0      0.809107\n",
       "1      0.809107\n",
       "2      0....   \n",
       "\n",
       "                           minmax_reliefF_naiveBayes  \n",
       "0  fold\n",
       "0      0.866025\n",
       "1      0.866025\n",
       "2      0....  \n",
       "1  fold\n",
       "0      1.000000\n",
       "1      1.000000\n",
       "2      1....  \n",
       "2  fold\n",
       "0      1.000000\n",
       "1      0.912871\n",
       "2      1....  \n",
       "3  fold\n",
       "0      1.000000\n",
       "1      0.942809\n",
       "2      0....  \n",
       "4  fold\n",
       "0      0.840896\n",
       "1      0.707107\n",
       "2      0....  "
      ]
     },
     "execution_count": 171,
     "metadata": {},
     "output_type": "execute_result"
    }
   ],
   "source": [
    "df_fold_scores.head()"
   ]
  },
  {
   "cell_type": "code",
   "execution_count": 143,
   "metadata": {},
   "outputs": [],
   "source": [
    "data = []\n",
    "for fsr in fsrc:\n",
    "    fsr_data = fsr.resultsToDataFrame()\n",
    "    group = fsr_data.groupby(['pipeline', 'fold']).max().T\n",
    "    \n",
    "    pipelines = group.columns.levels[0]\n",
    "    scores = {}\n",
    "    for pipeline in pipelines:\n",
    "        scores[pipeline] = group[pipeline].loc['score']\n",
    "        \n",
    "    data.append({\n",
    "        'dataset': fsr.dataset_id,\n",
    "        **scores,\n",
    "    })\n",
    "    \n",
    "foo = pd.DataFrame(data)"
   ]
  },
  {
   "cell_type": "code",
   "execution_count": 9,
   "metadata": {},
   "outputs": [],
   "source": [
    "X = df_mf.values"
   ]
  },
  {
   "cell_type": "code",
   "execution_count": 10,
   "metadata": {},
   "outputs": [],
   "source": [
    "y = df_rank.values"
   ]
  },
  {
   "cell_type": "code",
   "execution_count": 11,
   "metadata": {},
   "outputs": [],
   "source": [
    "y_scores = df_scores.values"
   ]
  },
  {
   "cell_type": "code",
   "execution_count": 175,
   "metadata": {},
   "outputs": [],
   "source": [
    "df_fold_scores.set_index('dataset', inplace=True)"
   ]
  },
  {
   "cell_type": "code",
   "execution_count": 176,
   "metadata": {},
   "outputs": [],
   "source": [
    "y_fold_scores = df_fold_scores.values"
   ]
  },
  {
   "cell_type": "markdown",
   "metadata": {},
   "source": [
    "### Evaluacion"
   ]
  },
  {
   "cell_type": "code",
   "execution_count": 12,
   "metadata": {},
   "outputs": [],
   "source": [
    "from sklearn.model_selection import cross_val_score\n",
    "from sklearn.model_selection import LeaveOneOut\n",
    "from sklearn.model_selection import RepeatedKFold\n",
    "from project.feature_selection.feature_selector import FeatureSelection\n",
    "import numpy as np\n"
   ]
  },
  {
   "cell_type": "code",
   "execution_count": 30,
   "metadata": {},
   "outputs": [
    {
     "data": {
      "text/plain": [
       "-2.564722222222222"
      ]
     },
     "execution_count": 30,
     "metadata": {},
     "output_type": "execute_result"
    }
   ],
   "source": [
    "scores = cross_val_score(pipeline, X, y, scoring='mean_squared_error', cv=RepeatedKFold(10, 30))\n",
    "np.mean(scores)"
   ]
  },
  {
   "cell_type": "code",
   "execution_count": 42,
   "metadata": {},
   "outputs": [
    {
     "data": {
      "text/plain": [
       "Index(['X_correlation_max', 'X_correlation_mean', 'X_correlation_min',\n",
       "       'X_covariance_max', 'X_covariance_mean', 'X_covariance_min',\n",
       "       'X_exp_var_max', 'X_exp_var_n_t80_cumsum', 'X_kurtosis_max',\n",
       "       'X_kurtosis_mean', 'X_kurtosis_min', 'X_minmax_covariance_max',\n",
       "       'X_minmax_covariance_mean', 'X_minmax_covariance_min',\n",
       "       'X_minmax_exp_var_max', 'X_minmax_stand_dev_max',\n",
       "       'X_minmax_stand_dev_mean', 'X_minmax_stand_dev_min',\n",
       "       'X_minmax_var_coef_max', 'X_minmax_var_coef_mean',\n",
       "       'X_minmax_var_coef_min', 'X_num_attrs_none', 'X_num_obs_none',\n",
       "       'X_ratio_obs_attrs_none', 'X_skewness_max', 'X_skewness_mean',\n",
       "       'X_skewness_min', 'X_stand_dev_max', 'X_stand_dev_mean',\n",
       "       'X_stand_dev_min', 'X_std_covariance_max', 'X_std_covariance_mean',\n",
       "       'X_std_covariance_min', 'X_std_exp_var_max', 'X_var_coef_max',\n",
       "       'X_var_coef_mean', 'X_var_coef_min', 'y_norm_class_entropy_none',\n",
       "       'y_num_classes_none'],\n",
       "      dtype='object')"
      ]
     },
     "execution_count": 42,
     "metadata": {},
     "output_type": "execute_result"
    }
   ],
   "source": [
    "mf_data.columns"
   ]
  },
  {
   "cell_type": "code",
   "execution_count": 98,
   "metadata": {},
   "outputs": [],
   "source": [
    "mse = []\n",
    "for i in range(2, 30):\n",
    "    pipeline = Pipeline([\n",
    "        ('scale', StandardScaler()),\n",
    "        ('estimator', RankingPredictor(\"ma_100\", n_neighbors=i)),\n",
    "    ])\n",
    "    scores = cross_val_score(pipeline, mf_data[['y_norm_class_entropy_none',\n",
    "                                                'X_ratio_obs_attrs_none',\n",
    "                                                #'X_correlation_mean',\n",
    "                                                #'X_covariance_mean',\n",
    "                                                #'X_stand_dev_mean',\n",
    "                                                #'X_skewness_mean',\n",
    "                                               ]],\n",
    "                             fs_data, scoring='mean_squared_error', cv=RepeatedKFold(5, 100))\n",
    "    mse.append({\"k\": i,\n",
    "                \"score\": np.mean(scores)})    "
   ]
  },
  {
   "cell_type": "code",
   "execution_count": 99,
   "metadata": {},
   "outputs": [],
   "source": [
    "import pandas as pd"
   ]
  },
  {
   "cell_type": "code",
   "execution_count": 100,
   "metadata": {},
   "outputs": [],
   "source": [
    "mse = pd.DataFrame(mse)"
   ]
  },
  {
   "cell_type": "code",
   "execution_count": 101,
   "metadata": {},
   "outputs": [],
   "source": [
    "import matplotlib.pyplot as plt"
   ]
  },
  {
   "cell_type": "code",
   "execution_count": 102,
   "metadata": {},
   "outputs": [
    {
     "data": {
      "text/plain": [
       "[<matplotlib.lines.Line2D at 0x7f866f31b9b0>]"
      ]
     },
     "execution_count": 102,
     "metadata": {},
     "output_type": "execute_result"
    },
    {
     "data": {
      "image/png": "[encoded data removed]",
      "text/plain": [
       "<Figure size 432x288 with 1 Axes>"
      ]
     },
     "metadata": {},
     "output_type": "display_data"
    }
   ],
   "source": [
    "plt.plot(mse['k'], mse['score'])"
   ]
  },
  {
   "cell_type": "markdown",
   "metadata": {},
   "source": [
    "# Random rank"
   ]
  },
  {
   "cell_type": "code",
   "execution_count": 19,
   "metadata": {},
   "outputs": [],
   "source": [
    "from project.ranker.ranker import RandomRankingPredictor\n",
    "\n",
    "rr = RandomRankingPredictor(rank_size=8)"
   ]
  },
  {
   "cell_type": "code",
   "execution_count": 20,
   "metadata": {},
   "outputs": [
    {
     "data": {
      "text/plain": [
       "-10.560458333333333"
      ]
     },
     "execution_count": 20,
     "metadata": {},
     "output_type": "execute_result"
    }
   ],
   "source": [
    "from sklearn.model_selection import cross_val_score\n",
    "from sklearn.model_selection import RepeatedKFold\n",
    "import numpy as np\n",
    "scores = cross_val_score(rr, X, y, scoring='mean_squared_error', cv=RepeatedKFold(5,100))\n",
    "np.mean(scores)"
   ]
  },
  {
   "cell_type": "markdown",
   "metadata": {},
   "source": [
    "# Metrics\n",
    "\n"
   ]
  },
  {
   "cell_type": "code",
   "execution_count": 179,
   "metadata": {},
   "outputs": [],
   "source": [
    "from sklearn.model_selection import train_test_split\n",
    "\n",
    "X_train, X_test, y_train, y_test, y_scores_train, y_scores_test = train_test_split(X,\n",
    "                                                                                   y,\n",
    "                                                                                   y_fold_scores)\n"
   ]
  },
  {
   "cell_type": "markdown",
   "metadata": {},
   "source": [
    "# Spearman rank correlation"
   ]
  },
  {
   "cell_type": "code",
   "execution_count": 22,
   "metadata": {},
   "outputs": [],
   "source": [
    "from scipy.stats import spearmanr"
   ]
  },
  {
   "cell_type": "code",
   "execution_count": 23,
   "metadata": {},
   "outputs": [],
   "source": [
    "y_pred = rr.predict(y_test)"
   ]
  },
  {
   "cell_type": "code",
   "execution_count": 24,
   "metadata": {},
   "outputs": [
    {
     "data": {
      "text/plain": [
       "SpearmanrResult(correlation=0.4047619047619048, pvalue=0.3198886412288162)"
      ]
     },
     "execution_count": 24,
     "metadata": {},
     "output_type": "execute_result"
    }
   ],
   "source": [
    "spearmanr(y_test[0], y_pred[0])"
   ]
  },
  {
   "cell_type": "code",
   "execution_count": 26,
   "metadata": {},
   "outputs": [],
   "source": [
    "from project.utils.metrics import get_metric"
   ]
  },
  {
   "cell_type": "code",
   "execution_count": 27,
   "metadata": {},
   "outputs": [
    {
     "data": {
      "text/plain": [
       "0.003150793650793651"
      ]
     },
     "execution_count": 27,
     "metadata": {},
     "output_type": "execute_result"
    }
   ],
   "source": [
    "scores = cross_val_score(rr, X, y, scoring=get_metric('spearman'), cv=RepeatedKFold(5,100))\n",
    "np.mean(scores)"
   ]
  },
  {
   "cell_type": "code",
   "execution_count": 86,
   "metadata": {},
   "outputs": [
    {
     "data": {
      "text/plain": [
       "0.0730277777777778"
      ]
     },
     "execution_count": 86,
     "metadata": {},
     "output_type": "execute_result"
    }
   ],
   "source": [
    "scores = cross_val_score(pipeline, X[:, [0, 1, 12, 20]], y, scoring=get_metric('spearman'), cv=RepeatedKFold(5,100))\n",
    "np.mean(scores)"
   ]
  },
  {
   "cell_type": "markdown",
   "metadata": {},
   "source": [
    "# Precision AUC"
   ]
  },
  {
   "cell_type": "code",
   "execution_count": 181,
   "metadata": {},
   "outputs": [],
   "source": [
    "from sklearn.metrics import auc\n",
    "import numpy as np\n",
    "import matplotlib.pyplot as plt"
   ]
  },
  {
   "cell_type": "code",
   "execution_count": 411,
   "metadata": {},
   "outputs": [],
   "source": [
    "y_pred = rr.predict(y_test)"
   ]
  },
  {
   "cell_type": "code",
   "execution_count": 412,
   "metadata": {},
   "outputs": [],
   "source": [
    "from project.utils.metrics import evaluate_metric"
   ]
  },
  {
   "cell_type": "code",
   "execution_count": 413,
   "metadata": {},
   "outputs": [
    {
     "data": {
      "text/plain": [
       "0.1138203807254155"
      ]
     },
     "execution_count": 413,
     "metadata": {},
     "output_type": "execute_result"
    }
   ],
   "source": [
    "evaluate_metric(\"acc_loss\", y_scores_test, y_pred)"
   ]
  },
  {
   "cell_type": "code",
   "execution_count": null,
   "metadata": {},
   "outputs": [],
   "source": []
  },
  {
   "cell_type": "code",
   "execution_count": null,
   "metadata": {},
   "outputs": [],
   "source": []
  },
  {
   "cell_type": "code",
   "execution_count": 185,
   "metadata": {},
   "outputs": [],
   "source": [
    "precisions = y_scores_test[0]"
   ]
  },
  {
   "cell_type": "code",
   "execution_count": 192,
   "metadata": {},
   "outputs": [
    {
     "data": {
      "text/plain": [
       "array([fold\n",
       "0      0.635001\n",
       "1      0.711805\n",
       "2      0.730297\n",
       "3      0.755229\n",
       "4      0.774597\n",
       "5      0.672022\n",
       "6      0.763763\n",
       "7      0.807373\n",
       "8      0.623610\n",
       "9      0.688530\n",
       "10     0.720663\n",
       "11     0.683130\n",
       "12     0.745356\n",
       "13     0.701849\n",
       "14     0.816497\n",
       "15     0.704822\n",
       "16     0.748331\n",
       "17     0.760117\n",
       "18     0.688530\n",
       "19     0.769800\n",
       "20     0.782881\n",
       "21     0.748331\n",
       "22     0.772202\n",
       "23     0.701849\n",
       "24     0.638285\n",
       "25     0.762001\n",
       "26     0.541603\n",
       "27     0.843274\n",
       "28     0.701849\n",
       "29     0.737865\n",
       "         ...   \n",
       "120    0.782881\n",
       "121    0.648074\n",
       "122    0.666667\n",
       "123    0.755229\n",
       "124    0.816497\n",
       "125    0.842424\n",
       "126    0.700000\n",
       "127    0.795822\n",
       "128    0.755229\n",
       "129    0.737865\n",
       "130    0.803219\n",
       "131    0.816497\n",
       "132    0.745356\n",
       "133    0.750309\n",
       "134    0.608581\n",
       "135    0.700230\n",
       "136    0.683130\n",
       "137    0.737865\n",
       "138    0.772202\n",
       "139    0.843274\n",
       "140    0.688617\n",
       "141    0.816497\n",
       "142    0.730297\n",
       "143    0.836660\n",
       "144    0.632456\n",
       "145    0.720663\n",
       "146    0.692820\n",
       "147    0.750309\n",
       "148    0.683130\n",
       "149    0.788811\n",
       "Name: score, Length: 150, dtype: float64,\n",
       "       fold\n",
       "0      0.700230\n",
       "1      0.734847\n",
       "2      0.737865\n",
       "3      0.745356\n",
       "4      0.750309\n",
       "5      0.573613\n",
       "6      0.836660\n",
       "7      0.795822\n",
       "8      0.666667\n",
       "9      0.632456\n",
       "10     0.740532\n",
       "11     0.714143\n",
       "12     0.701849\n",
       "13     0.666667\n",
       "14     0.795822\n",
       "15     0.786991\n",
       "16     0.748331\n",
       "17     0.720082\n",
       "18     0.774597\n",
       "19     0.688530\n",
       "20     0.770421\n",
       "21     0.812404\n",
       "22     0.816497\n",
       "23     0.755229\n",
       "24     0.614636\n",
       "25     0.770421\n",
       "26     0.673300\n",
       "27     0.825519\n",
       "28     0.816497\n",
       "29     0.788811\n",
       "         ...   \n",
       "120    0.740532\n",
       "121    0.673300\n",
       "122    0.644061\n",
       "123    0.821020\n",
       "124    0.663883\n",
       "125    0.803219\n",
       "126    0.670820\n",
       "127    0.816497\n",
       "128    0.821020\n",
       "129    0.644061\n",
       "130    0.736163\n",
       "131    0.894427\n",
       "132    0.737865\n",
       "133    0.836660\n",
       "134    0.666667\n",
       "135    0.722897\n",
       "136    0.793725\n",
       "137    0.666667\n",
       "138    0.755229\n",
       "139    0.825519\n",
       "140    0.753487\n",
       "141    0.883176\n",
       "142    0.755229\n",
       "143    0.795822\n",
       "144    0.530548\n",
       "145    0.718421\n",
       "146    0.648074\n",
       "147    0.788811\n",
       "148    0.856349\n",
       "149    0.752773\n",
       "Name: score, Length: 150, dtype: float64,\n",
       "       fold\n",
       "0      0.595683\n",
       "1      0.730297\n",
       "2      0.788811\n",
       "3      0.772202\n",
       "4      0.795822\n",
       "5      0.637536\n",
       "6      0.716473\n",
       "7      0.825519\n",
       "8      0.608581\n",
       "9      0.644061\n",
       "10     0.722897\n",
       "11     0.673300\n",
       "12     0.745356\n",
       "13     0.701849\n",
       "14     0.860663\n",
       "15     0.688617\n",
       "16     0.711805\n",
       "17     0.699206\n",
       "18     0.730297\n",
       "19     0.769800\n",
       "20     0.782881\n",
       "21     0.765942\n",
       "22     0.816497\n",
       "23     0.614636\n",
       "24     0.699206\n",
       "25     0.662352\n",
       "26     0.541603\n",
       "27     0.860663\n",
       "28     0.709721\n",
       "29     0.709721\n",
       "         ...   \n",
       "120    0.753487\n",
       "121    0.616441\n",
       "122    0.666667\n",
       "123    0.788811\n",
       "124    0.752773\n",
       "125    0.819126\n",
       "126    0.648074\n",
       "127    0.730297\n",
       "128    0.737865\n",
       "129    0.737865\n",
       "130    0.770421\n",
       "131    0.793725\n",
       "132    0.730297\n",
       "133    0.750309\n",
       "134    0.614636\n",
       "135    0.736163\n",
       "136    0.700000\n",
       "137    0.701849\n",
       "138    0.755229\n",
       "139    0.825519\n",
       "140    0.672022\n",
       "141    0.793725\n",
       "142    0.730297\n",
       "143    0.816497\n",
       "144    0.596285\n",
       "145    0.704822\n",
       "146    0.678233\n",
       "147    0.769800\n",
       "148    0.638285\n",
       "149    0.752773\n",
       "Name: score, Length: 150, dtype: float64,\n",
       "       fold\n",
       "0      0.622171\n",
       "1      0.707107\n",
       "2      0.714920\n",
       "3      0.567646\n",
       "4      0.693889\n",
       "5      0.417365\n",
       "6      0.588784\n",
       "7      0.577350\n",
       "8      0.583730\n",
       "9      0.620633\n",
       "10     0.556487\n",
       "11     0.529150\n",
       "12     0.644061\n",
       "13     0.547723\n",
       "14     0.644061\n",
       "15     0.659912\n",
       "16     0.553775\n",
       "17     0.567646\n",
       "18     0.537484\n",
       "19     0.638285\n",
       "20     0.647576\n",
       "21     0.611010\n",
       "22     0.596285\n",
       "23     0.527046\n",
       "24     0.714920\n",
       "25     0.601074\n",
       "26     0.500000\n",
       "27     0.557773\n",
       "28     0.557773\n",
       "29     0.620633\n",
       "         ...   \n",
       "120    0.632456\n",
       "121    0.683130\n",
       "122    0.632456\n",
       "123    0.644061\n",
       "124    0.537484\n",
       "125    0.780818\n",
       "126    0.658281\n",
       "127    0.455420\n",
       "128    0.638285\n",
       "129    0.537484\n",
       "130    0.529760\n",
       "131    0.600000\n",
       "132    0.570899\n",
       "133    0.644061\n",
       "134    0.505525\n",
       "135    0.491869\n",
       "136    0.611010\n",
       "137    0.570899\n",
       "138    0.774597\n",
       "139    0.567646\n",
       "140    0.579210\n",
       "141    0.588784\n",
       "142    0.527046\n",
       "143    0.567646\n",
       "144    0.583730\n",
       "145    0.774597\n",
       "146    0.645497\n",
       "147    0.455420\n",
       "148    0.527046\n",
       "149    0.730297\n",
       "Name: score, Length: 150, dtype: float64,\n",
       "       fold\n",
       "0      0.520546\n",
       "1      0.621825\n",
       "2      0.745356\n",
       "3      0.707107\n",
       "4      0.730297\n",
       "5      0.652538\n",
       "6      0.519615\n",
       "7      0.720082\n",
       "8      0.583730\n",
       "9      0.760117\n",
       "10     0.722897\n",
       "11     0.670820\n",
       "12     0.745356\n",
       "13     0.666667\n",
       "14     0.693889\n",
       "15     0.780818\n",
       "16     0.763763\n",
       "17     0.567646\n",
       "18     0.557773\n",
       "19     0.699206\n",
       "20     0.749193\n",
       "21     0.611010\n",
       "22     0.583730\n",
       "23     0.693889\n",
       "24     0.720082\n",
       "25     0.672022\n",
       "26     0.500000\n",
       "27     0.655461\n",
       "28     0.693889\n",
       "29     0.644061\n",
       "         ...   \n",
       "120    0.683917\n",
       "121    0.565685\n",
       "122    0.620633\n",
       "123    0.666667\n",
       "124    0.632456\n",
       "125    0.736163\n",
       "126    0.529150\n",
       "127    0.567646\n",
       "128    0.760117\n",
       "129    0.608581\n",
       "130    0.672022\n",
       "131    0.600000\n",
       "132    0.755229\n",
       "133    0.730297\n",
       "134    0.567646\n",
       "135    0.622171\n",
       "136    0.632456\n",
       "137    0.680414\n",
       "138    0.788811\n",
       "139    0.666667\n",
       "140    0.683917\n",
       "141    0.611010\n",
       "142    0.720082\n",
       "143    0.720082\n",
       "144    0.570899\n",
       "145    0.622171\n",
       "146    0.565685\n",
       "147    0.680414\n",
       "148    0.608581\n",
       "149    0.774597\n",
       "Name: score, Length: 150, dtype: float64,\n",
       "       fold\n",
       "0      0.590243\n",
       "1      0.611010\n",
       "2      0.720082\n",
       "3      0.471405\n",
       "4      0.638285\n",
       "5      0.529760\n",
       "6      0.529150\n",
       "7      0.644061\n",
       "8      0.583730\n",
       "9      0.623610\n",
       "10     0.520546\n",
       "11     0.447214\n",
       "12     0.557773\n",
       "13     0.652630\n",
       "14     0.567646\n",
       "15     0.622171\n",
       "16     0.565685\n",
       "17     0.632456\n",
       "18     0.547723\n",
       "19     0.620633\n",
       "20     0.647576\n",
       "21     0.519615\n",
       "22     0.583730\n",
       "23     0.632456\n",
       "24     0.693889\n",
       "25     0.780818\n",
       "26     0.408248\n",
       "27     0.567646\n",
       "28     0.620633\n",
       "29     0.608581\n",
       "         ...   \n",
       "120    0.611714\n",
       "121    0.619139\n",
       "122    0.567646\n",
       "123    0.720082\n",
       "124    0.505525\n",
       "125    0.622171\n",
       "126    0.588784\n",
       "127    0.596285\n",
       "128    0.557773\n",
       "129    0.632456\n",
       "130    0.520546\n",
       "131    0.707107\n",
       "132    0.632456\n",
       "133    0.693889\n",
       "134    0.527046\n",
       "135    0.511166\n",
       "136    0.424264\n",
       "137    0.655461\n",
       "138    0.707107\n",
       "139    0.632456\n",
       "140    0.520546\n",
       "141    0.588784\n",
       "142    0.537484\n",
       "143    0.707107\n",
       "144    0.620633\n",
       "145    0.695608\n",
       "146    0.529150\n",
       "147    0.547723\n",
       "148    0.620633\n",
       "149    0.596285\n",
       "Name: score, Length: 150, dtype: float64,\n",
       "       fold\n",
       "0      0.632456\n",
       "1      0.600000\n",
       "2      0.720082\n",
       "3      0.680414\n",
       "4      0.745356\n",
       "5      0.425024\n",
       "6      0.658281\n",
       "7      0.620633\n",
       "8      0.666667\n",
       "9      0.638285\n",
       "10     0.722897\n",
       "11     0.692820\n",
       "12     0.644061\n",
       "13     0.745356\n",
       "14     0.655461\n",
       "15     0.672022\n",
       "16     0.509902\n",
       "17     0.644061\n",
       "18     0.547723\n",
       "19     0.680414\n",
       "20     0.795147\n",
       "21     0.611010\n",
       "22     0.680414\n",
       "23     0.547723\n",
       "24     0.620633\n",
       "25     0.579210\n",
       "26     0.619139\n",
       "27     0.732828\n",
       "28     0.644061\n",
       "29     0.620633\n",
       "         ...   \n",
       "120    0.601074\n",
       "121    0.577350\n",
       "122    0.620633\n",
       "123    0.655461\n",
       "124    0.680414\n",
       "125    0.722897\n",
       "126    0.600000\n",
       "127    0.632456\n",
       "128    0.821020\n",
       "129    0.596285\n",
       "130    0.707107\n",
       "131    0.577350\n",
       "132    0.570899\n",
       "133    0.774597\n",
       "134    0.805076\n",
       "135    0.520546\n",
       "136    0.469042\n",
       "137    0.547723\n",
       "138    0.821020\n",
       "139    0.644061\n",
       "140    0.672022\n",
       "141    0.632456\n",
       "142    0.644061\n",
       "143    0.802773\n",
       "144    0.494413\n",
       "145    0.611714\n",
       "146    0.588784\n",
       "147    0.680414\n",
       "148    0.632456\n",
       "149    0.720082\n",
       "Name: score, Length: 150, dtype: float64,\n",
       "       fold\n",
       "0      0.556487\n",
       "1      0.678233\n",
       "2      0.788811\n",
       "3      0.714920\n",
       "4      0.769800\n",
       "5      0.672022\n",
       "6      0.783156\n",
       "7      0.805076\n",
       "8      0.693889\n",
       "9      0.730297\n",
       "10     0.556487\n",
       "11     0.692820\n",
       "12     0.680414\n",
       "13     0.720082\n",
       "14     0.821020\n",
       "15     0.720663\n",
       "16     0.663325\n",
       "17     0.730297\n",
       "18     0.683130\n",
       "19     0.843274\n",
       "20     0.753487\n",
       "21     0.778888\n",
       "22     0.755229\n",
       "23     0.632456\n",
       "24     0.683130\n",
       "25     0.780818\n",
       "26     0.489898\n",
       "27     0.894427\n",
       "28     0.720082\n",
       "29     0.755229\n",
       "         ...   \n",
       "120    0.762001\n",
       "121    0.648074\n",
       "122    0.623610\n",
       "123    0.805076\n",
       "124    0.755229\n",
       "125    0.834730\n",
       "126    0.700000\n",
       "127    0.638285\n",
       "128    0.737865\n",
       "129    0.737865\n",
       "130    0.709384\n",
       "131    0.816497\n",
       "132    0.683130\n",
       "133    0.755229\n",
       "134    0.666667\n",
       "135    0.681554\n",
       "136    0.665833\n",
       "137    0.699206\n",
       "138    0.730297\n",
       "139    0.825519\n",
       "140    0.595683\n",
       "141    0.816497\n",
       "142    0.755229\n",
       "143    0.843274\n",
       "144    0.632456\n",
       "145    0.704822\n",
       "146    0.632456\n",
       "147    0.720082\n",
       "148    0.570899\n",
       "149    0.805076\n",
       "Name: score, Length: 150, dtype: float64], dtype=object)"
      ]
     },
     "execution_count": 192,
     "metadata": {},
     "output_type": "execute_result"
    }
   ],
   "source": [
    "precisions[np.argsort(y_pred[0])]"
   ]
  },
  {
   "cell_type": "code",
   "execution_count": 227,
   "metadata": {},
   "outputs": [
    {
     "name": "stdout",
     "output_type": "stream",
     "text": [
      "0.6407039381914964\n",
      "0.7232815861424229\n",
      "0.7322292406392147\n",
      "0.6521891034285435\n",
      "0.7266506402793084\n",
      "0.5907441648584678\n",
      "0.7419925746327939\n",
      "0.5892267392455164\n"
     ]
    }
   ],
   "source": [
    "for p in precisions[np.argsort(y_pred[3])]:\n",
    "    print(p.mean())"
   ]
  },
  {
   "cell_type": "code",
   "execution_count": 229,
   "metadata": {},
   "outputs": [
    {
     "name": "stdout",
     "output_type": "stream",
     "text": [
      "0.5907441648584678\n",
      "0.6407039381914964\n",
      "0.5892267392455164\n",
      "0.7266506402793084\n",
      "0.7322292406392147\n",
      "0.7419925746327939\n",
      "0.7232815861424229\n",
      "0.6521891034285435\n"
     ]
    }
   ],
   "source": [
    "for p in precisions[np.argsort(y_test[4])]:\n",
    "    print(p.mean())"
   ]
  },
  {
   "cell_type": "code",
   "execution_count": 243,
   "metadata": {},
   "outputs": [],
   "source": [
    "df = pd.DataFrame()\n",
    "for p in precisions[np.argsort(y_test[4])]:\n",
    "    df = df.append(p)"
   ]
  },
  {
   "cell_type": "code",
   "execution_count": 249,
   "metadata": {},
   "outputs": [
    {
     "data": {
      "text/plain": [
       "fold\n",
       "0    0.632456\n",
       "1    0.600000\n",
       "2    0.720082\n",
       "3    0.680414\n",
       "4    0.745356\n",
       "Name: score, dtype: float64"
      ]
     },
     "execution_count": 249,
     "metadata": {},
     "output_type": "execute_result"
    }
   ],
   "source": [
    "precisions[np.argsort(y_test[4])][1].head()"
   ]
  },
  {
   "cell_type": "code",
   "execution_count": 264,
   "metadata": {},
   "outputs": [],
   "source": [
    "pred_scores= pd.DataFrame()\n",
    "for p in precisions[np.argsort(y_pred[0])]:\n",
    "    pred_scores = pred_scores.append(p, ignore_index=True)\n",
    "\n",
    "pred_scores = pred_scores.T"
   ]
  },
  {
   "cell_type": "code",
   "execution_count": 266,
   "metadata": {},
   "outputs": [
    {
     "data": {
      "text/html": [
       "<div>\n",
       "<style scoped>\n",
       "    .dataframe tbody tr th:only-of-type {\n",
       "        vertical-align: middle;\n",
       "    }\n",
       "\n",
       "    .dataframe tbody tr th {\n",
       "        vertical-align: top;\n",
       "    }\n",
       "\n",
       "    .dataframe thead th {\n",
       "        text-align: right;\n",
       "    }\n",
       "</style>\n",
       "<table border=\"1\" class=\"dataframe\">\n",
       "  <thead>\n",
       "    <tr style=\"text-align: right;\">\n",
       "      <th></th>\n",
       "      <th>0</th>\n",
       "      <th>1</th>\n",
       "      <th>2</th>\n",
       "      <th>3</th>\n",
       "      <th>4</th>\n",
       "      <th>5</th>\n",
       "      <th>6</th>\n",
       "      <th>7</th>\n",
       "    </tr>\n",
       "  </thead>\n",
       "  <tbody>\n",
       "    <tr>\n",
       "      <th>0</th>\n",
       "      <td>0.635001</td>\n",
       "      <td>0.700230</td>\n",
       "      <td>0.595683</td>\n",
       "      <td>0.622171</td>\n",
       "      <td>0.520546</td>\n",
       "      <td>0.590243</td>\n",
       "      <td>0.632456</td>\n",
       "      <td>0.556487</td>\n",
       "    </tr>\n",
       "    <tr>\n",
       "      <th>1</th>\n",
       "      <td>0.711805</td>\n",
       "      <td>0.734847</td>\n",
       "      <td>0.730297</td>\n",
       "      <td>0.707107</td>\n",
       "      <td>0.621825</td>\n",
       "      <td>0.611010</td>\n",
       "      <td>0.600000</td>\n",
       "      <td>0.678233</td>\n",
       "    </tr>\n",
       "    <tr>\n",
       "      <th>2</th>\n",
       "      <td>0.730297</td>\n",
       "      <td>0.737865</td>\n",
       "      <td>0.788811</td>\n",
       "      <td>0.714920</td>\n",
       "      <td>0.745356</td>\n",
       "      <td>0.720082</td>\n",
       "      <td>0.720082</td>\n",
       "      <td>0.788811</td>\n",
       "    </tr>\n",
       "    <tr>\n",
       "      <th>3</th>\n",
       "      <td>0.755229</td>\n",
       "      <td>0.745356</td>\n",
       "      <td>0.772202</td>\n",
       "      <td>0.567646</td>\n",
       "      <td>0.707107</td>\n",
       "      <td>0.471405</td>\n",
       "      <td>0.680414</td>\n",
       "      <td>0.714920</td>\n",
       "    </tr>\n",
       "    <tr>\n",
       "      <th>4</th>\n",
       "      <td>0.774597</td>\n",
       "      <td>0.750309</td>\n",
       "      <td>0.795822</td>\n",
       "      <td>0.693889</td>\n",
       "      <td>0.730297</td>\n",
       "      <td>0.638285</td>\n",
       "      <td>0.745356</td>\n",
       "      <td>0.769800</td>\n",
       "    </tr>\n",
       "  </tbody>\n",
       "</table>\n",
       "</div>"
      ],
      "text/plain": [
       "          0         1         2         3         4         5         6  \\\n",
       "0  0.635001  0.700230  0.595683  0.622171  0.520546  0.590243  0.632456   \n",
       "1  0.711805  0.734847  0.730297  0.707107  0.621825  0.611010  0.600000   \n",
       "2  0.730297  0.737865  0.788811  0.714920  0.745356  0.720082  0.720082   \n",
       "3  0.755229  0.745356  0.772202  0.567646  0.707107  0.471405  0.680414   \n",
       "4  0.774597  0.750309  0.795822  0.693889  0.730297  0.638285  0.745356   \n",
       "\n",
       "          7  \n",
       "0  0.556487  \n",
       "1  0.678233  \n",
       "2  0.788811  \n",
       "3  0.714920  \n",
       "4  0.769800  "
      ]
     },
     "execution_count": 266,
     "metadata": {},
     "output_type": "execute_result"
    }
   ],
   "source": [
    "pred_scores.head()"
   ]
  },
  {
   "cell_type": "code",
   "execution_count": 415,
   "metadata": {},
   "outputs": [],
   "source": [
    "def precision_loss_2(y_pred, y_fold_scores, plot=False):\n",
    "    pred_scores= pd.DataFrame()\n",
    "    for p in y_fold_scores[np.argsort(y_pred)]:\n",
    "        pred_scores = pred_scores.append(p, ignore_index=True)\n",
    "        \n",
    "    pred_scores = pred_scores.T\n",
    "    \n",
    "    max_scores = pred_scores.max(axis=1)\n",
    "    \n",
    "    loss_scores = abs(pred_scores.sub(max_scores, axis=0)).cummin(axis=1)\n",
    "    \n",
    "    n_fs = loss_scores.shape[1]\n",
    "    loss_auc = []\n",
    "    for i in loss_scores.iterrows():        \n",
    "        loss_auc.append(auc(i[1].keys(), i[1].values))\n",
    "    \n",
    "    return np.mean(loss_auc)\n",
    "    "
   ]
  },
  {
   "cell_type": "code",
   "execution_count": 416,
   "metadata": {},
   "outputs": [],
   "source": [
    "def precision_loss_metric_2(y_pred, y_fold_scores):    \n",
    "    results = []\n",
    "    for yt, ys in zip(y_pred, y_fold_scores):\n",
    "        results.append(precision_loss_2(yt, ys))\n",
    "        \n",
    "    return np.mean(results)"
   ]
  },
  {
   "cell_type": "code",
   "execution_count": 417,
   "metadata": {},
   "outputs": [
    {
     "data": {
      "text/plain": [
       "0.1767945034437446"
      ]
     },
     "execution_count": 417,
     "metadata": {},
     "output_type": "execute_result"
    }
   ],
   "source": [
    "precision_loss_2(y_pred[2], precisions)"
   ]
  },
  {
   "cell_type": "code",
   "execution_count": 418,
   "metadata": {},
   "outputs": [
    {
     "data": {
      "text/plain": [
       "0.1138203807254155"
      ]
     },
     "execution_count": 418,
     "metadata": {},
     "output_type": "execute_result"
    }
   ],
   "source": [
    "precision_loss_metric_2(y_pred, y_scores_test)"
   ]
  },
  {
   "cell_type": "code",
   "execution_count": null,
   "metadata": {},
   "outputs": [],
   "source": []
  },
  {
   "cell_type": "code",
   "execution_count": null,
   "metadata": {},
   "outputs": [],
   "source": []
  },
  {
   "cell_type": "code",
   "execution_count": null,
   "metadata": {},
   "outputs": [],
   "source": []
  },
  {
   "cell_type": "code",
   "execution_count": 387,
   "metadata": {},
   "outputs": [
    {
     "data": {
      "text/plain": [
       "0.23928621050758547"
      ]
     },
     "execution_count": 387,
     "metadata": {},
     "output_type": "execute_result"
    }
   ],
   "source": [
    "loss[13]"
   ]
  },
  {
   "cell_type": "code",
   "execution_count": 329,
   "metadata": {},
   "outputs": [
    {
     "data": {
      "text/plain": [
       "(150, 8)"
      ]
     },
     "execution_count": 329,
     "metadata": {},
     "output_type": "execute_result"
    }
   ],
   "source": [
    "loss.shape"
   ]
  },
  {
   "cell_type": "code",
   "execution_count": 303,
   "metadata": {},
   "outputs": [],
   "source": [
    "def precision_loss(y_test, y_pred, y_test_scores, plot=False):\n",
    "    test_scores = y_test_scores[np.argsort(y_test)]    \n",
    "    pred_scores = y_test_scores[np.argsort(y_pred)]\n",
    "    \n",
    "    max_score = 0\n",
    "    loss_curve = []\n",
    "    for score in pred_scores:\n",
    "        max_score = max(score, max_score)\n",
    "        loss_curve.append(test_scores[0] - max_score)\n",
    "    \n",
    "    if plot:\n",
    "        xs = np.linspace(0,3,10)\n",
    "        ys = [test_scores[0] for x in xs]    \n",
    "        plt.plot(pred_scores)\n",
    "        plt.plot(xs, ys, 'r--')\n",
    "        plt.title('prediction score')\n",
    "        plt.show()\n",
    "\n",
    "        plt.plot(loss_curve)\n",
    "        plt.title('loss curve')\n",
    "\n",
    "    return auc(np.linspace(0,3,4), loss_curve)\n",
    "    "
   ]
  },
  {
   "cell_type": "code",
   "execution_count": 61,
   "metadata": {},
   "outputs": [],
   "source": [
    "def precision_loss_metric(y_test, y_pred, y_test_scores):    \n",
    "    results = []\n",
    "    for yt, yp, ys in zip(y_test, y_pred, y_test_scores):\n",
    "        results.append(precision_loss(yt, yp, ys))\n",
    "        \n",
    "    return np.mean(results)"
   ]
  },
  {
   "cell_type": "code",
   "execution_count": 62,
   "metadata": {},
   "outputs": [
    {
     "data": {
      "text/plain": [
       "0.0"
      ]
     },
     "execution_count": 62,
     "metadata": {},
     "output_type": "execute_result"
    }
   ],
   "source": [
    "precision_loss(y_test[0], y_pred[0], precisions)"
   ]
  },
  {
   "cell_type": "markdown",
   "metadata": {},
   "source": [
    "### KNN Ranking evaluation"
   ]
  },
  {
   "cell_type": "code",
   "execution_count": 26,
   "metadata": {},
   "outputs": [],
   "source": [
    "from sklearn.model_selection import cross_val_score\n",
    "from sklearn.model_selection import LeaveOneOut\n",
    "from sklearn.model_selection import RepeatedKFold\n",
    "from project.feature_selection.feature_selector import FeatureSelection\n",
    "import numpy as np\n",
    "from project.utils.metrics import get_metric\n"
   ]
  },
  {
   "cell_type": "code",
   "execution_count": 25,
   "metadata": {},
   "outputs": [
    {
     "data": {
      "text/plain": [
       "-2.5655555555555556"
      ]
     },
     "execution_count": 25,
     "metadata": {},
     "output_type": "execute_result"
    }
   ],
   "source": [
    "scores = cross_val_score(pipeline, X, y, scoring='mean_squared_error', cv=RepeatedKFold(10, 30))\n",
    "np.mean(scores)"
   ]
  },
  {
   "cell_type": "code",
   "execution_count": 46,
   "metadata": {},
   "outputs": [
    {
     "data": {
      "text/plain": [
       "-0.0209"
      ]
     },
     "execution_count": 46,
     "metadata": {},
     "output_type": "execute_result"
    }
   ],
   "source": [
    "scores = cross_val_score(pipeline, X, y, scoring=get_metric('spearman'), cv=RepeatedKFold(10, 100))\n",
    "np.mean(scores)"
   ]
  },
  {
   "cell_type": "code",
   "execution_count": 48,
   "metadata": {},
   "outputs": [
    {
     "ename": "ValueError",
     "evalue": "cross_val_predict only works for partitions",
     "output_type": "error",
     "traceback": [
      "\u001b[0;31m---------------------------------------------------------------------------\u001b[0m",
      "\u001b[0;31mValueError\u001b[0m                                Traceback (most recent call last)",
      "\u001b[0;32m<ipython-input-48-e5b1b8377f09>\u001b[0m in \u001b[0;36m<module>\u001b[0;34m()\u001b[0m\n\u001b[1;32m      1\u001b[0m \u001b[0;32mfrom\u001b[0m \u001b[0msklearn\u001b[0m\u001b[0;34m.\u001b[0m\u001b[0mmodel_selection\u001b[0m \u001b[0;32mimport\u001b[0m \u001b[0mcross_val_predict\u001b[0m\u001b[0;34m\u001b[0m\u001b[0m\n\u001b[0;32m----> 2\u001b[0;31m \u001b[0mcross_val_predict\u001b[0m\u001b[0;34m(\u001b[0m\u001b[0mpipeline\u001b[0m\u001b[0;34m,\u001b[0m \u001b[0mX\u001b[0m\u001b[0;34m,\u001b[0m \u001b[0my\u001b[0m\u001b[0;34m,\u001b[0m \u001b[0mcv\u001b[0m\u001b[0;34m=\u001b[0m\u001b[0mRepeatedKFold\u001b[0m\u001b[0;34m(\u001b[0m\u001b[0;36m10\u001b[0m\u001b[0;34m,\u001b[0m \u001b[0;36m100\u001b[0m\u001b[0;34m)\u001b[0m\u001b[0;34m)\u001b[0m\u001b[0;34m\u001b[0m\u001b[0m\n\u001b[0m",
      "\u001b[0;32m~/anaconda3/envs/tesis/lib/python3.6/site-packages/sklearn/model_selection/_validation.py\u001b[0m in \u001b[0;36mcross_val_predict\u001b[0;34m(estimator, X, y, groups, cv, n_jobs, verbose, fit_params, pre_dispatch, method)\u001b[0m\n\u001b[1;32m    686\u001b[0m \u001b[0;34m\u001b[0m\u001b[0m\n\u001b[1;32m    687\u001b[0m     \u001b[0;32mif\u001b[0m \u001b[0;32mnot\u001b[0m \u001b[0m_check_is_permutation\u001b[0m\u001b[0;34m(\u001b[0m\u001b[0mtest_indices\u001b[0m\u001b[0;34m,\u001b[0m \u001b[0m_num_samples\u001b[0m\u001b[0;34m(\u001b[0m\u001b[0mX\u001b[0m\u001b[0;34m)\u001b[0m\u001b[0;34m)\u001b[0m\u001b[0;34m:\u001b[0m\u001b[0;34m\u001b[0m\u001b[0m\n\u001b[0;32m--> 688\u001b[0;31m         \u001b[0;32mraise\u001b[0m \u001b[0mValueError\u001b[0m\u001b[0;34m(\u001b[0m\u001b[0;34m'cross_val_predict only works for partitions'\u001b[0m\u001b[0;34m)\u001b[0m\u001b[0;34m\u001b[0m\u001b[0m\n\u001b[0m\u001b[1;32m    689\u001b[0m \u001b[0;34m\u001b[0m\u001b[0m\n\u001b[1;32m    690\u001b[0m     \u001b[0minv_test_indices\u001b[0m \u001b[0;34m=\u001b[0m \u001b[0mnp\u001b[0m\u001b[0;34m.\u001b[0m\u001b[0mempty\u001b[0m\u001b[0;34m(\u001b[0m\u001b[0mlen\u001b[0m\u001b[0;34m(\u001b[0m\u001b[0mtest_indices\u001b[0m\u001b[0;34m)\u001b[0m\u001b[0;34m,\u001b[0m \u001b[0mdtype\u001b[0m\u001b[0;34m=\u001b[0m\u001b[0mint\u001b[0m\u001b[0;34m)\u001b[0m\u001b[0;34m\u001b[0m\u001b[0m\n",
      "\u001b[0;31mValueError\u001b[0m: cross_val_predict only works for partitions"
     ]
    }
   ],
   "source": [
    "from sklearn.model_selection import cross_val_predict\n",
    "\n",
    "cross_val_predict(pipeline, X, y, cv=RepeatedKFold(10, 100))"
   ]
  },
  {
   "cell_type": "markdown",
   "metadata": {},
   "source": [
    "### Random Ranking evaluation"
   ]
  },
  {
   "cell_type": "code",
   "execution_count": 18,
   "metadata": {},
   "outputs": [],
   "source": [
    "from project.ranker.ranker import RandomRankingPredictor\n",
    "\n",
    "rr = RandomRankingPredictor(rank_size=4)"
   ]
  },
  {
   "cell_type": "code",
   "execution_count": 21,
   "metadata": {},
   "outputs": [
    {
     "data": {
      "text/plain": [
       "-2.4994444444444444"
      ]
     },
     "execution_count": 21,
     "metadata": {},
     "output_type": "execute_result"
    }
   ],
   "source": [
    "scores = cross_val_score(rr, X, y, scoring='mean_squared_error', cv=RepeatedKFold(10, 30))\n",
    "np.mean(scores)"
   ]
  },
  {
   "cell_type": "code",
   "execution_count": 45,
   "metadata": {},
   "outputs": [
    {
     "data": {
      "text/plain": [
       "0.006866666666666666"
      ]
     },
     "execution_count": 45,
     "metadata": {},
     "output_type": "execute_result"
    }
   ],
   "source": [
    "scores = cross_val_score(rr, X, y, scoring=get_metric('spearman'), cv=RepeatedKFold(10, 100))\n",
    "np.mean(scores)"
   ]
  },
  {
   "cell_type": "code",
   "execution_count": null,
   "metadata": {},
   "outputs": [],
   "source": []
  }
 ],
 "metadata": {
  "kernelspec": {
   "display_name": "Python 3",
   "language": "python",
   "name": "python3"
  },
  "language_info": {
   "codemirror_mode": {
    "name": "ipython",
    "version": 3
   },
   "file_extension": ".py",
   "mimetype": "text/x-python",
   "name": "python",
   "nbconvert_exporter": "python",
   "pygments_lexer": "ipython3",
   "version": "3.6.4"
  }
 },
 "nbformat": 4,
 "nbformat_minor": 2
}
