{
 "cells": [
  {
   "cell_type": "code",
   "execution_count": 1,
   "metadata": {},
   "outputs": [],
   "source": [
    "%load_ext autoreload\n",
    "%autoreload 2\n",
    "%matplotlib inline"
   ]
  },
  {
   "cell_type": "code",
   "execution_count": 2,
   "metadata": {},
   "outputs": [],
   "source": [
    "from sklearn.pipeline import Pipeline\n",
    "from sklearn.preprocessing import StandardScaler\n",
    "from project.ranker.ranker import RankingPredictor"
   ]
  },
  {
   "cell_type": "code",
   "execution_count": null,
   "metadata": {},
   "outputs": [],
   "source": [
    "%%time\n",
    "from sklearn.model_selection import train_test_split\n",
    "rp = Pipeline([\n",
    "    ('scale', StandardScaler()),\n",
    "    ('estimator', RankingPredictor(\"ma_100\", n_neighbors=15)),\n",
    "])\n",
    "df_mf, df_rank, df_scores = rp.named_steps['estimator'].get_data()\n",
    "\n",
    "X, _, y, _, y_scores, _ = train_test_split(df_mf.values,\n",
    "                                           df_rank.values,\n",
    "                                           df_scores.values,\n",
    "                                           test_size=0,\n",
    "                                           random_state=42)\n",
    "print(X.shape, y.shape, y_scores.shape)"
   ]
  },
  {
   "cell_type": "code",
   "execution_count": null,
   "metadata": {},
   "outputs": [],
   "source": [
    "%%time\n",
    "from project.ranker.ranker import cv_knn\n",
    "from sklearn.model_selection import RepeatedKFold\n",
    "kfolds = RepeatedKFold(10, n_repeats=10, random_state=42)\n",
    "params = {\"metric\": \"euclidean\"}\n",
    "results, best_results = cv_knn(X, y, y_scores, kfolds, params)"
   ]
  },
  {
   "cell_type": "code",
   "execution_count": null,
   "metadata": {},
   "outputs": [],
   "source": [
    "import pandas as pd"
   ]
  },
  {
   "cell_type": "code",
   "execution_count": null,
   "metadata": {},
   "outputs": [],
   "source": [
    "best_results[:, 0].mean()"
   ]
  },
  {
   "cell_type": "code",
   "execution_count": null,
   "metadata": {},
   "outputs": [],
   "source": [
    "best_results[:, 1].mean()"
   ]
  },
  {
   "cell_type": "code",
   "execution_count": null,
   "metadata": {},
   "outputs": [],
   "source": [
    "pd.DataFrame(best_results).rename(columns={0: \"spearman\", 1:\"acc_loss\"}) \\\n",
    "                          .to_csv(\"best_knn_euclidean_ma_100.csv\", index=False)"
   ]
  },
  {
   "cell_type": "code",
   "execution_count": 70,
   "metadata": {},
   "outputs": [],
   "source": [
    "ar = results[-1]"
   ]
  },
  {
   "cell_type": "code",
   "execution_count": 71,
   "metadata": {},
   "outputs": [
    {
     "data": {
      "text/plain": [
       "0.07590909090909093"
      ]
     },
     "execution_count": 71,
     "metadata": {},
     "output_type": "execute_result"
    }
   ],
   "source": [
    "ar[:, 0].mean()"
   ]
  },
  {
   "cell_type": "code",
   "execution_count": 72,
   "metadata": {},
   "outputs": [
    {
     "data": {
      "text/plain": [
       "0.1273715759309688"
      ]
     },
     "execution_count": 72,
     "metadata": {},
     "output_type": "execute_result"
    }
   ],
   "source": [
    "ar[:, 1].mean()"
   ]
  },
  {
   "cell_type": "markdown",
   "metadata": {},
   "source": [
    "## Manhattan"
   ]
  },
  {
   "cell_type": "code",
   "execution_count": 73,
   "metadata": {},
   "outputs": [
    {
     "name": "stdout",
     "output_type": "stream",
     "text": [
      "K: 1\n",
      "Val_Spearman: -0.0050 +/-0.1402 | Val_ACCLoss:   0.1573 +/-0.0861\n",
      "\n",
      "K: 2\n",
      "Val_Spearman:  0.0536 +/-0.1378 | Val_ACCLoss:   0.1259 +/-0.0735\n",
      "\n",
      "K: 3\n",
      "Val_Spearman:  0.0168 +/-0.1486 | Val_ACCLoss:   0.1334 +/-0.0819\n",
      "\n",
      "K: 4\n",
      "Val_Spearman:  0.0309 +/-0.1381 | Val_ACCLoss:   0.1247 +/-0.0780\n",
      "\n",
      "K: 5\n",
      "Val_Spearman:  0.0357 +/-0.1339 | Val_ACCLoss:   0.1171 +/-0.0645\n",
      "\n",
      "K: 6\n",
      "Val_Spearman:  0.0512 +/-0.1261 | Val_ACCLoss:   0.1129 +/-0.0562\n",
      "\n",
      "K: 7\n",
      "Val_Spearman:  0.0554 +/-0.1320 | Val_ACCLoss:   0.1132 +/-0.0591\n",
      "\n",
      "K: 8\n",
      "Val_Spearman:  0.0697 +/-0.1507 | Val_ACCLoss:   0.1093 +/-0.0601\n",
      "\n",
      "K: 9\n",
      "Val_Spearman:  0.0847 +/-0.1471 | Val_ACCLoss:   0.1124 +/-0.0621\n",
      "\n",
      "K: 10\n",
      "Val_Spearman:  0.1040 +/-0.1412 | Val_ACCLoss:   0.1101 +/-0.0621\n",
      "\n",
      "K: 11\n",
      "Val_Spearman:  0.1147 +/-0.1442 | Val_ACCLoss:   0.1105 +/-0.0653\n",
      "\n",
      "K: 12\n",
      "Val_Spearman:  0.1140 +/-0.1382 | Val_ACCLoss:   0.1104 +/-0.0618\n",
      "\n",
      "K: 13\n",
      "Val_Spearman:  0.1273 +/-0.1398 | Val_ACCLoss:   0.1103 +/-0.0617\n",
      "\n",
      "K: 14\n",
      "Val_Spearman:  0.1239 +/-0.1387 | Val_ACCLoss:   0.1098 +/-0.0594\n",
      "\n",
      "K: 15\n",
      "Val_Spearman:  0.1417 +/-0.1369 | Val_ACCLoss:   0.1075 +/-0.0579\n",
      "\n",
      "K: 16\n",
      "Val_Spearman:  0.1488 +/-0.1354 | Val_ACCLoss:   0.1030 +/-0.0573\n",
      "\n",
      "K: 17\n",
      "Val_Spearman:  0.1487 +/-0.1333 | Val_ACCLoss:   0.1032 +/-0.0607\n",
      "\n",
      "K: 18\n",
      "Val_Spearman:  0.1374 +/-0.1355 | Val_ACCLoss:   0.1043 +/-0.0618\n",
      "\n",
      "K: 19\n",
      "Val_Spearman:  0.1334 +/-0.1339 | Val_ACCLoss:   0.1073 +/-0.0630\n",
      "\n",
      "K: 20\n",
      "Val_Spearman:  0.1370 +/-0.1245 | Val_ACCLoss:   0.1105 +/-0.0680\n",
      "\n",
      "K: 21\n",
      "Val_Spearman:  0.1329 +/-0.1235 | Val_ACCLoss:   0.1144 +/-0.0737\n",
      "\n",
      "K: 22\n",
      "Val_Spearman:  0.1446 +/-0.1263 | Val_ACCLoss:   0.1133 +/-0.0742\n",
      "\n",
      "K: 23\n",
      "Val_Spearman:  0.1448 +/-0.1242 | Val_ACCLoss:   0.1144 +/-0.0770\n",
      "\n",
      "K: 24\n",
      "Val_Spearman:  0.1476 +/-0.1260 | Val_ACCLoss:   0.1122 +/-0.0750\n",
      "\n",
      "K: 25\n",
      "Val_Spearman:  0.1507 +/-0.1250 | Val_ACCLoss:   0.1123 +/-0.0743\n",
      "\n",
      "K: 26\n",
      "Val_Spearman:  0.1578 +/-0.1284 | Val_ACCLoss:   0.1102 +/-0.0742\n",
      "\n",
      "K: 27\n",
      "Val_Spearman:  0.1659 +/-0.1242 | Val_ACCLoss:   0.1103 +/-0.0731\n",
      "\n",
      "K: 28\n",
      "Val_Spearman:  0.1704 +/-0.1256 | Val_ACCLoss:   0.1071 +/-0.0708\n",
      "\n",
      "K: 29\n",
      "Val_Spearman:  0.1808 +/-0.1313 | Val_ACCLoss:   0.1025 +/-0.0696\n",
      "\n",
      "K: 30\n",
      "Val_Spearman:  0.1743 +/-0.1322 | Val_ACCLoss:   0.1032 +/-0.0690\n",
      "\n",
      "K: 31\n",
      "Val_Spearman:  0.1781 +/-0.1312 | Val_ACCLoss:   0.1023 +/-0.0670\n",
      "\n",
      "K: 32\n",
      "Val_Spearman:  0.1788 +/-0.1310 | Val_ACCLoss:   0.1036 +/-0.0672\n",
      "\n",
      "K: 33\n",
      "Val_Spearman:  0.1749 +/-0.1315 | Val_ACCLoss:   0.1069 +/-0.0685\n",
      "\n",
      "K: 34\n",
      "Val_Spearman:  0.1728 +/-0.1377 | Val_ACCLoss:   0.1068 +/-0.0669\n",
      "\n",
      "K: 35\n",
      "Val_Spearman:  0.1677 +/-0.1431 | Val_ACCLoss:   0.1081 +/-0.0676\n",
      "\n",
      "K: 36\n",
      "Val_Spearman:  0.1646 +/-0.1367 | Val_ACCLoss:   0.1104 +/-0.0683\n",
      "\n",
      "K: 37\n",
      "Val_Spearman:  0.1528 +/-0.1367 | Val_ACCLoss:   0.1110 +/-0.0667\n",
      "\n",
      "K: 38\n",
      "Val_Spearman:  0.1420 +/-0.1358 | Val_ACCLoss:   0.1113 +/-0.0683\n",
      "\n",
      "K: 39\n",
      "Val_Spearman:  0.1376 +/-0.1352 | Val_ACCLoss:   0.1119 +/-0.0717\n",
      "\n",
      "K: 40\n",
      "Val_Spearman:  0.1339 +/-0.1357 | Val_ACCLoss:   0.1120 +/-0.0704\n",
      "\n",
      "K: 41\n",
      "Val_Spearman:  0.1245 +/-0.1296 | Val_ACCLoss:   0.1142 +/-0.0710\n",
      "\n",
      "K: 42\n",
      "Val_Spearman:  0.1209 +/-0.1274 | Val_ACCLoss:   0.1145 +/-0.0692\n",
      "\n",
      "K: 43\n",
      "Val_Spearman:  0.1160 +/-0.1303 | Val_ACCLoss:   0.1158 +/-0.0713\n",
      "\n",
      "K: 44\n",
      "Val_Spearman:  0.1115 +/-0.1278 | Val_ACCLoss:   0.1166 +/-0.0731\n",
      "\n",
      "K: 45\n",
      "Val_Spearman:  0.1075 +/-0.1247 | Val_ACCLoss:   0.1149 +/-0.0722\n",
      "\n",
      "K: 46\n",
      "Val_Spearman:  0.1003 +/-0.1246 | Val_ACCLoss:   0.1126 +/-0.0709\n",
      "\n",
      "K: 47\n",
      "Val_Spearman:  0.0955 +/-0.1240 | Val_ACCLoss:   0.1107 +/-0.0688\n",
      "\n",
      "K: 48\n",
      "Val_Spearman:  0.0896 +/-0.1204 | Val_ACCLoss:   0.1115 +/-0.0681\n",
      "\n",
      "K: 49\n",
      "Val_Spearman:  0.0875 +/-0.1248 | Val_ACCLoss:   0.1120 +/-0.0682\n",
      "\n",
      "K: 50\n",
      "Val_Spearman:  0.0905 +/-0.1276 | Val_ACCLoss:   0.1143 +/-0.0694\n",
      "\n",
      "K: 51\n",
      "Val_Spearman:  0.0821 +/-0.1271 | Val_ACCLoss:   0.1196 +/-0.0725\n",
      "\n",
      "K: 52\n",
      "Val_Spearman:  0.0819 +/-0.1195 | Val_ACCLoss:   0.1237 +/-0.0769\n",
      "\n",
      "K: 53\n",
      "Val_Spearman:  0.0753 +/-0.1196 | Val_ACCLoss:   0.1261 +/-0.0778\n",
      "\n",
      "K: 54\n",
      "Val_Spearman:  0.0759 +/-0.1254 | Val_ACCLoss:   0.1274 +/-0.0766\n",
      "\n",
      "CPU times: user 41.2 s, sys: 55.6 ms, total: 41.3 s\n",
      "Wall time: 41.2 s\n"
     ]
    }
   ],
   "source": [
    "%%time\n",
    "from project.ranker.ranker import cv_knn\n",
    "from sklearn.model_selection import RepeatedKFold\n",
    "kfolds = RepeatedKFold(10, n_repeats=10, random_state=42)\n",
    "params = {\"metric\": \"manhattan\"}\n",
    "results, best_results = cv_knn(X, y, y_scores, kfolds, params)"
   ]
  },
  {
   "cell_type": "code",
   "execution_count": 74,
   "metadata": {},
   "outputs": [
    {
     "data": {
      "text/plain": [
       "0.17812354312354312"
      ]
     },
     "execution_count": 74,
     "metadata": {},
     "output_type": "execute_result"
    }
   ],
   "source": [
    "best_results[:, 0].mean()"
   ]
  },
  {
   "cell_type": "code",
   "execution_count": 75,
   "metadata": {},
   "outputs": [
    {
     "data": {
      "text/plain": [
       "0.10228874910440294"
      ]
     },
     "execution_count": 75,
     "metadata": {},
     "output_type": "execute_result"
    }
   ],
   "source": [
    "best_results[:, 1].mean()"
   ]
  },
  {
   "cell_type": "code",
   "execution_count": 76,
   "metadata": {},
   "outputs": [],
   "source": [
    "pd.DataFrame(best_results).rename(columns={0: \"spearman\", 1:\"acc_loss\"}) \\\n",
    "                          .to_csv(\"best_knn_manhattan_rs_42.csv\", index=False)"
   ]
  },
  {
   "cell_type": "code",
   "execution_count": 77,
   "metadata": {},
   "outputs": [],
   "source": [
    "ar = results[-1]"
   ]
  },
  {
   "cell_type": "code",
   "execution_count": 78,
   "metadata": {},
   "outputs": [
    {
     "data": {
      "text/plain": [
       "0.07590909090909093"
      ]
     },
     "execution_count": 78,
     "metadata": {},
     "output_type": "execute_result"
    }
   ],
   "source": [
    "ar[:, 0].mean()"
   ]
  },
  {
   "cell_type": "code",
   "execution_count": 79,
   "metadata": {},
   "outputs": [
    {
     "data": {
      "text/plain": [
       "0.1273715759309688"
      ]
     },
     "execution_count": 79,
     "metadata": {},
     "output_type": "execute_result"
    }
   ],
   "source": [
    "ar[:, 1].mean()"
   ]
  },
  {
   "cell_type": "code",
   "execution_count": 80,
   "metadata": {},
   "outputs": [],
   "source": [
    "pd.DataFrame(ar).rename(columns={0: \"spearman\", 1:\"acc_loss\"}) \\\n",
    "                          .to_csv(\"average_ranking_knn_rs_42.csv\", index=False)"
   ]
  },
  {
   "cell_type": "code",
   "execution_count": null,
   "metadata": {},
   "outputs": [],
   "source": []
  }
 ],
 "metadata": {
  "kernelspec": {
   "display_name": "Python 3",
   "language": "python",
   "name": "python3"
  },
  "language_info": {
   "codemirror_mode": {
    "name": "ipython",
    "version": 3
   },
   "file_extension": ".py",
   "mimetype": "text/x-python",
   "name": "python",
   "nbconvert_exporter": "python",
   "pygments_lexer": "ipython3",
   "version": "3.6.4"
  }
 },
 "nbformat": 4,
 "nbformat_minor": 2
}
